{
 "cells": [
  {
   "cell_type": "markdown",
   "metadata": {
    "id": "iiDzBoKGwmMZ"
   },
   "source": [
    "# REDES NEURONALES\n",
    "\n",
    "---\n",
    "\n",
    "\n",
    "\n",
    "En esta actividad vamos a utilizar una red neuronal para clasificar imágenes de dígitos del 0 al 9 escritos a mano. Para ello, utilizaremos Keras con TensorFlow.\n",
    "\n",
    "El dataset a utilizar es MNIST, una base de datos constituida por (como no) imágenes de dígitos escritos a mano. Este dataset es ampliamente utilizado en docencia como punto de entrada al entrenamiento de redes neuronales y otros, pero también es muy utilizado en trabajos reales de investigación para el entrenamiento de imágenes. Puedes consultar más información sobre el dataset en [este enlace](https://es.wikipedia.org/wiki/Base_de_datos_MNIST).\n",
    "\n",
    "El código utilizado para contestar tiene que quedar claramente reflejado en el Notebook. Puedes crear nuevas celdas si así lo deseas para estructurar tu código y sus salidas. A la hora de entregar el notebook, **asegúrate de que los resultados de ejecutar tu código han quedado guardados y que son perfectamente visibles en la versión PDF que debes entregar adjunta**. Por ejemplo, a la hora de entrenar una red neuronal tiene que verse claramente un log de los resultados de cada epoch."
   ]
  },
  {
   "cell_type": "code",
   "execution_count": 1,
   "metadata": {},
   "outputs": [],
   "source": [
    "#!pip install keras\n",
    "#!pip install tensorflow\n",
    "#!pip install matplotlib"
   ]
  },
  {
   "cell_type": "code",
   "execution_count": 2,
   "metadata": {
    "id": "gSHr268SwmMa"
   },
   "outputs": [],
   "source": [
    "from keras.datasets.mnist import load_data\n",
    "import tensorflow as tf\n",
    "import matplotlib.pyplot as plt"
   ]
  },
  {
   "cell_type": "markdown",
   "metadata": {
    "id": "zScMKU2OKSPD"
   },
   "source": [
    "Tenemos la suerte de que el dataset MNIST, el que vamos a utilizar en esta actividad, está guardado en Keras, por lo que podemos utilizarlo sin necesidad de buscar el dataset de forma externa."
   ]
  },
  {
   "cell_type": "code",
   "execution_count": 3,
   "metadata": {
    "id": "4voG2hxxG4h3"
   },
   "outputs": [],
   "source": [
    "mnist = tf.keras.datasets.fashion_mnist"
   ]
  },
  {
   "cell_type": "markdown",
   "metadata": {
    "id": "JphLsCvgKrzb"
   },
   "source": [
    "Llamar a **load_data** en este dataset nos dará dos conjuntos de dos listas, estos serán los valores de entrenamiento y prueba para los gráficos que contienen los dígitos y sus etiquetas.\n",
    "\n",
    "Nota: Aunque en esta actividad lo veis de esta forma, también lo vais a poder encontrar como 4 variables de esta forma: training_images, training_labels, test_images, test_labels = mnist.load_data()"
   ]
  },
  {
   "cell_type": "code",
   "execution_count": 4,
   "metadata": {
    "id": "1muD4PHEG4h6"
   },
   "outputs": [],
   "source": [
    "(training_images, training_labels), (test_images, test_labels) = load_data()"
   ]
  },
  {
   "cell_type": "markdown",
   "metadata": {
    "id": "ZWGpJqVVLT3Y"
   },
   "source": [
    "Antes de continuar vamos a dar un vistazo a nuestro dataset, para ello vamos a ver una imagen de entrenamiento y su etiqueta o clase."
   ]
  },
  {
   "cell_type": "code",
   "execution_count": 5,
   "metadata": {
    "colab": {
     "base_uri": "https://localhost:8080/",
     "height": 933
    },
    "id": "t5a5PlswG4h8",
    "outputId": "962a9313-a7c9-44bd-d6bd-e7b25669e913"
   },
   "outputs": [
    {
     "name": "stdout",
     "output_type": "stream",
     "text": [
      "5\n",
      "[[  0   0   0   0   0   0   0   0   0   0   0   0   0   0   0   0   0   0   0   0   0   0   0   0   0   0   0   0]\n",
      " [  0   0   0   0   0   0   0   0   0   0   0   0   0   0   0   0   0   0   0   0   0   0   0   0   0   0   0   0]\n",
      " [  0   0   0   0   0   0   0   0   0   0   0   0   0   0   0   0   0   0   0   0   0   0   0   0   0   0   0   0]\n",
      " [  0   0   0   0   0   0   0   0   0   0   0   0   0   0   0   0   0   0   0   0   0   0   0   0   0   0   0   0]\n",
      " [  0   0   0   0   0   0   0   0   0   0   0   0   0   0   0   0   0   0   0   0   0   0   0   0   0   0   0   0]\n",
      " [  0   0   0   0   0   0   0   0   0   0   0   0   3  18  18  18 126 136 175  26 166 255 247 127   0   0   0   0]\n",
      " [  0   0   0   0   0   0   0   0  30  36  94 154 170 253 253 253 253 253 225 172 253 242 195  64   0   0   0   0]\n",
      " [  0   0   0   0   0   0   0  49 238 253 253 253 253 253 253 253 253 251  93  82  82  56  39   0   0   0   0   0]\n",
      " [  0   0   0   0   0   0   0  18 219 253 253 253 253 253 198 182 247 241   0   0   0   0   0   0   0   0   0   0]\n",
      " [  0   0   0   0   0   0   0   0  80 156 107 253 253 205  11   0  43 154   0   0   0   0   0   0   0   0   0   0]\n",
      " [  0   0   0   0   0   0   0   0   0  14   1 154 253  90   0   0   0   0   0   0   0   0   0   0   0   0   0   0]\n",
      " [  0   0   0   0   0   0   0   0   0   0   0 139 253 190   2   0   0   0   0   0   0   0   0   0   0   0   0   0]\n",
      " [  0   0   0   0   0   0   0   0   0   0   0  11 190 253  70   0   0   0   0   0   0   0   0   0   0   0   0   0]\n",
      " [  0   0   0   0   0   0   0   0   0   0   0   0  35 241 225 160 108   1   0   0   0   0   0   0   0   0   0   0]\n",
      " [  0   0   0   0   0   0   0   0   0   0   0   0   0  81 240 253 253 119  25   0   0   0   0   0   0   0   0   0]\n",
      " [  0   0   0   0   0   0   0   0   0   0   0   0   0   0  45 186 253 253 150  27   0   0   0   0   0   0   0   0]\n",
      " [  0   0   0   0   0   0   0   0   0   0   0   0   0   0   0  16  93 252 253 187   0   0   0   0   0   0   0   0]\n",
      " [  0   0   0   0   0   0   0   0   0   0   0   0   0   0   0   0   0 249 253 249  64   0   0   0   0   0   0   0]\n",
      " [  0   0   0   0   0   0   0   0   0   0   0   0   0   0  46 130 183 253 253 207   2   0   0   0   0   0   0   0]\n",
      " [  0   0   0   0   0   0   0   0   0   0   0   0  39 148 229 253 253 253 250 182   0   0   0   0   0   0   0   0]\n",
      " [  0   0   0   0   0   0   0   0   0   0  24 114 221 253 253 253 253 201  78   0   0   0   0   0   0   0   0   0]\n",
      " [  0   0   0   0   0   0   0   0  23  66 213 253 253 253 253 198  81   2   0   0   0   0   0   0   0   0   0   0]\n",
      " [  0   0   0   0   0   0  18 171 219 253 253 253 253 195  80   9   0   0   0   0   0   0   0   0   0   0   0   0]\n",
      " [  0   0   0   0  55 172 226 253 253 253 253 244 133  11   0   0   0   0   0   0   0   0   0   0   0   0   0   0]\n",
      " [  0   0   0   0 136 253 253 253 212 135 132  16   0   0   0   0   0   0   0   0   0   0   0   0   0   0   0   0]\n",
      " [  0   0   0   0   0   0   0   0   0   0   0   0   0   0   0   0   0   0   0   0   0   0   0   0   0   0   0   0]\n",
      " [  0   0   0   0   0   0   0   0   0   0   0   0   0   0   0   0   0   0   0   0   0   0   0   0   0   0   0   0]\n",
      " [  0   0   0   0   0   0   0   0   0   0   0   0   0   0   0   0   0   0   0   0   0   0   0   0   0   0   0   0]]\n"
     ]
    },
    {
     "data": {
      "image/png": "[encoded data removed]",
      "text/plain": [
       "<Figure size 640x480 with 1 Axes>"
      ]
     },
     "metadata": {},
     "output_type": "display_data"
    }
   ],
   "source": [
    "import numpy as np\n",
    "np.set_printoptions(linewidth=200)\n",
    "plt.imshow(training_images[0], cmap=\"gray\") # recordad que siempre es preferible trabajar en blanco y negro\n",
    "#\n",
    "print(training_labels[0])\n",
    "print(training_images[0])"
   ]
  },
  {
   "cell_type": "markdown",
   "metadata": {
    "id": "BaqXlSMBwmMg"
   },
   "source": [
    "## 1. Información sobre el dataset"
   ]
  },
  {
   "cell_type": "markdown",
   "metadata": {
    "id": "e0aer8ZZwmMh"
   },
   "source": [
    "Una vez tenemos los datos cargados en memoria, vamos a obtener información sobre los mismos."
   ]
  },
  {
   "cell_type": "markdown",
   "metadata": {
    "id": "E-im9PnEwmMh"
   },
   "source": [
    "**Pregunta 1.1 *(0.25 puntos)*** ¿Cuántas imágenes hay de *training* y de *test*? ¿Qué tamaño tienen las imágenes?"
   ]
  },
  {
   "cell_type": "code",
   "execution_count": 6,
   "metadata": {
    "id": "lvP0Y4SCwmMi"
   },
   "outputs": [
    {
     "name": "stdout",
     "output_type": "stream",
     "text": [
      "Dimensión del dataset de entrenamiento: (60000, 28, 28)\n",
      "Dimensión del dataset de prueba: (10000, 28, 28)\n"
     ]
    }
   ],
   "source": [
    "# Voy a cambiar las variables por nomeclatura\n",
    "\n",
    "(x_train, y_train), (x_test, y_test) = (training_images, training_labels), (test_images, test_labels)\n",
    "# Mostrar información del conjunto\n",
    "print(\"Dimensión del dataset de entrenamiento:\", x_train.shape)\n",
    "print(\"Dimensión del dataset de prueba:\", x_test.shape)\n",
    "\n"
   ]
  },
  {
   "cell_type": "markdown",
   "metadata": {
    "id": "Xwp5ljFKwmMj"
   },
   "source": [
    "El número de imágenes de entrenamiento es de 60000 y el número de imágenes de prueba es de 10000. La dimensión de las imágenes es de 28x28 px."
   ]
  },
  {
   "cell_type": "markdown",
   "metadata": {
    "id": "F2LsvfHOwmMk"
   },
   "source": [
    "**Pregunta 1.2 *(0.25 puntos)*** Realizar una exploración de las variables que contienen los datos. Describir en qué consiste un example del dataset (qué información se guarda en cada imagen) y describir qué contiene la información en y."
   ]
  },
  {
   "cell_type": "code",
   "execution_count": 7,
   "metadata": {
    "id": "3W5rzaGxwmMk"
   },
   "outputs": [
    {
     "name": "stdout",
     "output_type": "stream",
     "text": [
      "Tipo de x_train: uint8\n",
      "Tipo de y_train: uint8\n",
      "Etiquetas únicas: [0 1 2 3 4 5 6 7 8 9]\n"
     ]
    }
   ],
   "source": [
    "# Ver tipos de datos\n",
    "print(\"Tipo de x_train:\", x_train.dtype)\n",
    "print(\"Tipo de y_train:\", y_train.dtype)\n",
    "\n",
    "# Valores únicos en las etiquetas\n",
    "print(\"Etiquetas únicas:\", np.unique(y_train))"
   ]
  },
  {
   "cell_type": "code",
   "execution_count": 8,
   "metadata": {},
   "outputs": [
    {
     "data": {
      "image/png": "[encoded data removed]",
      "text/plain": [
       "<Figure size 640x480 with 1 Axes>"
      ]
     },
     "metadata": {},
     "output_type": "display_data"
    }
   ],
   "source": [
    "# Visualizar alguna imágenes con sus etiquetas\n",
    "plt.imshow(x_train[0], cmap='gray')\n",
    "plt.title(f\"Etiqueta: {y_train[0]}\")\n",
    "plt.axis('off')\n",
    "plt.show()"
   ]
  },
  {
   "cell_type": "markdown",
   "metadata": {
    "id": "zaEWKFyvwmMm"
   },
   "source": [
    "La variable x_train contiene imágenes en escala de grises de tamaño 28x28 píxeles, cada una representada como una matriz de valores entre 0 y 255 (intensidad de gris). Cada elemento en x_train es una imagen de un dígito escrito a mano.\n",
    "\n",
    "Por ejemplo, x_train[0] es una matriz de 28x28 que representa la intensidad de cada píxel de la primera imagen del conjunto de entrenamiento.\n",
    "\n",
    "La variable y_train contiene las etiquetas correspondientes a cada imagen. Es un vector de enteros del 0 al 9, donde cada número indica el dígito que aparece en la imagen correspondiente. Por ejemplo, si y_train[0] = 5, significa que la imagen x_train[0] representa un 5 escrito a mano."
   ]
  },
  {
   "cell_type": "markdown",
   "metadata": {
    "id": "OXWLSFdnwAay"
   },
   "source": [
    "## 2. Normalización y preprocesado de los datos"
   ]
  },
  {
   "cell_type": "markdown",
   "metadata": {
    "id": "H9W9mgi7wUOY"
   },
   "source": [
    "**Pregunta 2.1 (0.25 puntos)** Habreis notado que todos los valores numericos están entre 0 y 255. Si estamos entrenando una red neuronal, una buena practica es transformar todos los valores entre 0 y 1, un proceso llamado \"normalización\" y afortunadamente en Python es fácil normalizar una lista. ¿Cómo lo podemos hacer?"
   ]
  },
  {
   "cell_type": "code",
   "execution_count": 9,
   "metadata": {
    "id": "n-BhUak6wjGc"
   },
   "outputs": [],
   "source": [
    "from tensorflow.keras.utils import to_categorical\n",
    "\n",
    "# Normalización: escalar los píxeles al rango [0, 1].\n",
    "x_train = x_train.astype(\"float32\") / 255.0\n",
    "x_test = x_test.astype(\"float32\") / 255.0\n"
   ]
  },
  {
   "cell_type": "markdown",
   "metadata": {},
   "source": [
    "Es conveniente escalar las entradas al rango [0,1] porque mejora la eficiencia y estabilidad del proceso de entrenamiento de la red neuronal. La normalización reduce la varianza de los datos y evita que los valores de entrada grandes dominen los gradientes durante el entrenamiento, lo que podría ralentizar o incluso impedir la convergencia.\n",
    "\n",
    "Además, muchas funciones de activación como sigmoid o tanh son sensibles a la escala de los datos. Si las entradas no están normalizadas, estas funciones pueden saturarse (producir gradientes cercanos a cero), lo que complica el aprendizaje."
   ]
  },
  {
   "cell_type": "markdown",
   "metadata": {
    "id": "aAj9bKbJxDoN"
   },
   "source": [
    "**Pregunta 2.2 (0.25 puntos)** Utiliza la función ***reshape*** de Numpy para convertir las imágenes en vectores de características de un tamaño de (N, 784). Explica con tus palabras por qué es necesario hacer esto.\n",
    "\n"
   ]
  },
  {
   "cell_type": "code",
   "execution_count": 10,
   "metadata": {
    "id": "qRdZBcCKxvLZ"
   },
   "outputs": [],
   "source": [
    "# Reestructuración: aplanar las imágenes 28x28 a vectores de 784 elementos\n",
    "x_train = x_train.reshape(-1, 28 * 28)\n",
    "x_test = x_test.reshape(-1, 28 * 28)\n"
   ]
  },
  {
   "cell_type": "markdown",
   "metadata": {
    "id": "LCIZJRjWxwrE"
   },
   "source": [
    "**Respuesta a la pregunta 2.2**:"
   ]
  },
  {
   "cell_type": "markdown",
   "metadata": {},
   "source": [
    "Buscando información, resulta que el reshape es necesario porque las redes neuronales densas requieren vectores como entrada, no matrices. Las imágenes originales de 28x28 píxeles deben aplanarse en vectores de 784 elementos para que puedan ser procesadas por las capas densas de la red. Esta transformación mantiene toda la información de los píxeles, pero cambia su forma para que sea compatible con la arquitectura del modelo."
   ]
  },
  {
   "cell_type": "markdown",
   "metadata": {},
   "source": [
    "El uso de -1 en reshape(-1, 784) no es obligatorio, pero es muy conveniente. Permite a la función calcular automáticamente la cantidad de ejemplos en el conjunto de datos. Esto hace el código más general y evita errores si cambia el tamaño del conjunto (como al usar diferentes particiones o subconjuntos). Es una práctica recomendada para mantener el código más limpio y flexible."
   ]
  },
  {
   "cell_type": "markdown",
   "metadata": {
    "id": "VUJ9BpFSyR3m"
   },
   "source": [
    "**Pregunta 2.3 (0.25 puntos)** Para facilitar el desarrollo de la actividad, vamos a expresar las etiquetas así:"
   ]
  },
  {
   "cell_type": "code",
   "execution_count": 11,
   "metadata": {
    "id": "jwgU9vScyZy_"
   },
   "outputs": [],
   "source": [
    "training_labels = tf.keras.utils.to_categorical(training_labels)\n",
    "test_labels = tf.keras.utils.to_categorical(test_labels)"
   ]
  },
  {
   "cell_type": "markdown",
   "metadata": {
    "id": "itJBwG0Lyy2u"
   },
   "source": [
    "Muestra cómo son ahora los datos, como resultado de este cambio y también de los realizados en las dos preguntas anteriores. Debate cómo se beneficiará la red neuronal de todos estos cambios."
   ]
  },
  {
   "cell_type": "code",
   "execution_count": 12,
   "metadata": {
    "id": "J0h1cc3CzJfs"
   },
   "outputs": [
    {
     "name": "stdout",
     "output_type": "stream",
     "text": [
      "Etiqueta original: 5\n",
      "Etiqueta codificada (one-hot): [0. 0. 0. 0. 0. 1. 0. 0. 0. 0.]\n",
      "Forma de y_train después del one-hot encoding: (60000, 10)\n"
     ]
    }
   ],
   "source": [
    "\n",
    "# Ejemplo antes de la codificación\n",
    "print(\"Etiqueta original:\", y_train[0])  # numérica\n",
    "\n",
    "# Codificación one-hot (ya hecho antes, repetimos para claridad)\n",
    "y_train_encoded = to_categorical(y_train)\n",
    "y_test_encoded = to_categorical(y_test)\n",
    "\n",
    "# Ejemplo después de la codificación\n",
    "print(\"Etiqueta codificada (one-hot):\", y_train_encoded[0])\n",
    "\n",
    "# Mostrar la forma de los datos\n",
    "print(\"Forma de y_train después del one-hot encoding:\", y_train_encoded.shape)\n"
   ]
  },
  {
   "cell_type": "markdown",
   "metadata": {
    "id": "GsG0MKk9zKsU"
   },
   "source": [
    "**Respuesta a la pregunta 2.3:**"
   ]
  },
  {
   "cell_type": "markdown",
   "metadata": {},
   "source": [
    "Tras aplicar to_categorical, las etiquetas han pasado de ser valores enteros entre 0 y 9 (por ejemplo, 5) a vectores binarios de 10 posiciones (por ejemplo, [0, 0, 0, 0, 0, 1, 0, 0, 0, 0]).\n",
    "\n",
    "Este cambio es importante porque facilita el uso de la función de pérdida categorical_crossentropy, que espera que las clases estén en formato one-hot. Así, la red neuronal no predice un número directamente, sino una probabilidad para cada una de las 10 clases posibles."
   ]
  },
  {
   "cell_type": "markdown",
   "metadata": {},
   "source": [
    "Además, esto permite que la red:\n",
    "\n",
    "- Aprenda de manera más robusta al separar las clases de forma explícita.\n",
    "\n",
    "- Genere una distribución de probabilidades sobre todas las clases.\n",
    "\n",
    "- Sea más flexible en problemas de clasificación multiclase."
   ]
  },
  {
   "cell_type": "markdown",
   "metadata": {
    "id": "dI3IAhOQ8zHi"
   },
   "source": [
    "## 3. Creación del Modelo"
   ]
  },
  {
   "cell_type": "markdown",
   "metadata": {
    "id": "yYUWWsszMAKt"
   },
   "source": [
    "Ahora vamos a definir el modelo, pero antes vamos a repasar algunos comandos y conceptos muy útiles:\n",
    "* **Sequential**: Eso define una SECUENCIA de capas en la red neuronal\n",
    "* **Dense**: Añade una capa de neuronas\n",
    "* **Flatten**: ¿Recuerdas cómo eran las imágenes cuando las imprimiste para poder verlas? Un cuadrado, Flatten toma ese cuadrado y lo convierte en un vector de una dimensión.\n",
    "\n",
    "Cada capa de neuronas necesita una función de activación. Normalmente se usa la función relu en las capas intermedias y softmax en la ultima capa (en problemas de clasificación de más de dos items)\n",
    "* **Relu** significa que \"Si X>0 devuelve X, si no, devuelve 0\", así que lo que hace es pasar sólo valores 0 o mayores a la siguiente capa de la red.\n",
    "* **Softmax** toma un conjunto de valores, y escoge el más grande."
   ]
  },
  {
   "cell_type": "markdown",
   "metadata": {
    "id": "QgBW1yE2MwPp"
   },
   "source": [
    " **Pregunta 3.1 (0.5 puntos)**. Utilizando Keras, y preparando los datos de X e Y como fuera necesario, define y entrena una red neuronal que sea capaz de clasificar imágenes de MNIST con las siguientes características:\n",
    "\n",
    "* Una capa de entrada del tamaño adecuado.\n",
    "* Una capa oculta de 512 neuronas.\n",
    "* Una capa final con 10 salidas."
   ]
  },
  {
   "cell_type": "code",
   "execution_count": 13,
   "metadata": {
    "id": "aTaD2QXIORwu"
   },
   "outputs": [
    {
     "name": "stderr",
     "output_type": "stream",
     "text": [
      "C:\\Users\\Pedro\\anaconda3\\envs\\rn_act1\\Lib\\site-packages\\keras\\src\\layers\\core\\dense.py:87: UserWarning: Do not pass an `input_shape`/`input_dim` argument to a layer. When using Sequential models, prefer using an `Input(shape)` object as the first layer in the model instead.\n",
      "  super().__init__(activity_regularizer=activity_regularizer, **kwargs)\n"
     ]
    }
   ],
   "source": [
    "from tensorflow.keras.models import Sequential\n",
    "from tensorflow.keras.layers import Dense\n",
    "\n",
    "# Crear el modelo\n",
    "model = Sequential()\n",
    "\n",
    "# Capa oculta con 128 neuronas y activación ReLU\n",
    "model.add(Dense(units=128, activation='relu', input_shape=(784,)))\n",
    "\n",
    "# Capa de salida con 10 neuronas (una por cada dígito), activación softmax\n",
    "model.add(Dense(units=10, activation='softmax'))\n",
    "\n"
   ]
  },
  {
   "cell_type": "markdown",
   "metadata": {
    "id": "Bxr5hTKYOQnK"
   },
   "source": [
    "**Pregunta 3.2 (0.25 puntos)**: ¿crees conveniente utilizar una capa flatten en este caso? Motiva tu respuesta.\n",
    "\n"
   ]
  },
  {
   "cell_type": "markdown",
   "metadata": {
    "id": "VNjQEtUUG4iI"
   },
   "source": [
    "No es necesario utilizar flatten pues ya hemos hecho la transformación de las matrices 28x28 a vectores de 784 elementos"
   ]
  },
  {
   "cell_type": "markdown",
   "metadata": {
    "id": "D8vHUgfz0_ac"
   },
   "source": [
    "**Respuesta a la pregunta 3.2**:"
   ]
  },
  {
   "cell_type": "markdown",
   "metadata": {
    "id": "QFVEWNBV1WnY"
   },
   "source": [
    "**Pregunta 3.3 (0.25 puntos)**: Utiliza la función summary() para mostrar la estructura de tu modelo."
   ]
  },
  {
   "cell_type": "code",
   "execution_count": 14,
   "metadata": {
    "id": "YQpJ-DW61lOO"
   },
   "outputs": [
    {
     "data": {
      "text/html": [
       "<pre style=\"white-space:pre;overflow-x:auto;line-height:normal;font-family:Menlo,'DejaVu Sans Mono',consolas,'Courier New',monospace\"><span style=\"font-weight: bold\">Model: \"sequential\"</span>\n",
       "</pre>\n"
      ],
      "text/plain": [
       "\u001b[1mModel: \"sequential\"\u001b[0m\n"
      ]
     },
     "metadata": {},
     "output_type": "display_data"
    },
    {
     "data": {
      "text/html": [
       "<pre style=\"white-space:pre;overflow-x:auto;line-height:normal;font-family:Menlo,'DejaVu Sans Mono',consolas,'Courier New',monospace\">┏━━━━━━━━━━━━━━━━━━━━━━━━━━━━━━━━━┳━━━━━━━━━━━━━━━━━━━━━━━━┳━━━━━━━━━━━━━━━┓\n",
       "┃<span style=\"font-weight: bold\"> Layer (type)                    </span>┃<span style=\"font-weight: bold\"> Output Shape           </span>┃<span style=\"font-weight: bold\">       Param # </span>┃\n",
       "┡━━━━━━━━━━━━━━━━━━━━━━━━━━━━━━━━━╇━━━━━━━━━━━━━━━━━━━━━━━━╇━━━━━━━━━━━━━━━┩\n",
       "│ dense (<span style=\"color: #0087ff; text-decoration-color: #0087ff\">Dense</span>)                   │ (<span style=\"color: #00d7ff; text-decoration-color: #00d7ff\">None</span>, <span style=\"color: #00af00; text-decoration-color: #00af00\">128</span>)            │       <span style=\"color: #00af00; text-decoration-color: #00af00\">100,480</span> │\n",
       "├─────────────────────────────────┼────────────────────────┼───────────────┤\n",
       "│ dense_1 (<span style=\"color: #0087ff; text-decoration-color: #0087ff\">Dense</span>)                 │ (<span style=\"color: #00d7ff; text-decoration-color: #00d7ff\">None</span>, <span style=\"color: #00af00; text-decoration-color: #00af00\">10</span>)             │         <span style=\"color: #00af00; text-decoration-color: #00af00\">1,290</span> │\n",
       "└─────────────────────────────────┴────────────────────────┴───────────────┘\n",
       "</pre>\n"
      ],
      "text/plain": [
       "┏━━━━━━━━━━━━━━━━━━━━━━━━━━━━━━━━━┳━━━━━━━━━━━━━━━━━━━━━━━━┳━━━━━━━━━━━━━━━┓\n",
       "┃\u001b[1m \u001b[0m\u001b[1mLayer (type)                   \u001b[0m\u001b[1m \u001b[0m┃\u001b[1m \u001b[0m\u001b[1mOutput Shape          \u001b[0m\u001b[1m \u001b[0m┃\u001b[1m \u001b[0m\u001b[1m      Param #\u001b[0m\u001b[1m \u001b[0m┃\n",
       "┡━━━━━━━━━━━━━━━━━━━━━━━━━━━━━━━━━╇━━━━━━━━━━━━━━━━━━━━━━━━╇━━━━━━━━━━━━━━━┩\n",
       "│ dense (\u001b[38;5;33mDense\u001b[0m)                   │ (\u001b[38;5;45mNone\u001b[0m, \u001b[38;5;34m128\u001b[0m)            │       \u001b[38;5;34m100,480\u001b[0m │\n",
       "├─────────────────────────────────┼────────────────────────┼───────────────┤\n",
       "│ dense_1 (\u001b[38;5;33mDense\u001b[0m)                 │ (\u001b[38;5;45mNone\u001b[0m, \u001b[38;5;34m10\u001b[0m)             │         \u001b[38;5;34m1,290\u001b[0m │\n",
       "└─────────────────────────────────┴────────────────────────┴───────────────┘\n"
      ]
     },
     "metadata": {},
     "output_type": "display_data"
    },
    {
     "data": {
      "text/html": [
       "<pre style=\"white-space:pre;overflow-x:auto;line-height:normal;font-family:Menlo,'DejaVu Sans Mono',consolas,'Courier New',monospace\"><span style=\"font-weight: bold\"> Total params: </span><span style=\"color: #00af00; text-decoration-color: #00af00\">101,770</span> (397.54 KB)\n",
       "</pre>\n"
      ],
      "text/plain": [
       "\u001b[1m Total params: \u001b[0m\u001b[38;5;34m101,770\u001b[0m (397.54 KB)\n"
      ]
     },
     "metadata": {},
     "output_type": "display_data"
    },
    {
     "data": {
      "text/html": [
       "<pre style=\"white-space:pre;overflow-x:auto;line-height:normal;font-family:Menlo,'DejaVu Sans Mono',consolas,'Courier New',monospace\"><span style=\"font-weight: bold\"> Trainable params: </span><span style=\"color: #00af00; text-decoration-color: #00af00\">101,770</span> (397.54 KB)\n",
       "</pre>\n"
      ],
      "text/plain": [
       "\u001b[1m Trainable params: \u001b[0m\u001b[38;5;34m101,770\u001b[0m (397.54 KB)\n"
      ]
     },
     "metadata": {},
     "output_type": "display_data"
    },
    {
     "data": {
      "text/html": [
       "<pre style=\"white-space:pre;overflow-x:auto;line-height:normal;font-family:Menlo,'DejaVu Sans Mono',consolas,'Courier New',monospace\"><span style=\"font-weight: bold\"> Non-trainable params: </span><span style=\"color: #00af00; text-decoration-color: #00af00\">0</span> (0.00 B)\n",
       "</pre>\n"
      ],
      "text/plain": [
       "\u001b[1m Non-trainable params: \u001b[0m\u001b[38;5;34m0\u001b[0m (0.00 B)\n"
      ]
     },
     "metadata": {},
     "output_type": "display_data"
    }
   ],
   "source": [
    "\n",
    "model.summary()\n"
   ]
  },
  {
   "cell_type": "markdown",
   "metadata": {
    "id": "nco-l8vx1Kzb"
   },
   "source": [
    "## 4: Compilación y entrenamiento"
   ]
  },
  {
   "cell_type": "markdown",
   "metadata": {
    "id": "myZQUTCn1yD3"
   },
   "source": [
    "**Pregunta 4.1 (0.5 puntos)**: Compila tu modelo. Utiliza ***categorical_crossentropy*** como función de pérdida, ***Adam*** como optimizador, y monitoriza la ***tasa de acierto*** durante el entrenamiento. Explica qué hace cada cosa en la compilación."
   ]
  },
  {
   "cell_type": "code",
   "execution_count": 15,
   "metadata": {
    "id": "I_CPQN9p2a7J"
   },
   "outputs": [],
   "source": [
    "model.compile(\n",
    "    optimizer='adam',\n",
    "    loss='categorical_crossentropy',\n",
    "    metrics=['accuracy']\n",
    ")"
   ]
  },
  {
   "cell_type": "markdown",
   "metadata": {
    "id": "TJ_vlOrj2dR7"
   },
   "source": [
    "**Respuesta a la pregunta 4.1**:"
   ]
  },
  {
   "cell_type": "markdown",
   "metadata": {},
   "source": [
    "El modelo se compila usando el optimizador Adam, que es eficiente en muchos problemas de clasificación. Se utiliza categorical_crossentropy como función de pérdida ya que se trabaja con etiquetas codificadas en one-hot. Durante el entrenamiento, se mide la precisión (accuracy) y se evalúa el modelo también sobre un conjunto de validación para observar si mejora o sufre sobreajuste."
   ]
  },
  {
   "cell_type": "markdown",
   "metadata": {
    "id": "f7KSdoEr2rLn"
   },
   "source": [
    "**Pregunta 4.2 (0.5 puntos)**: Utiliza la función ***fit()*** para entrenar tu modelo. Para ayudarte en tu primer entrenamiento, utiliza estos valores:\n",
    "*   epochs = 5\n",
    "*   batch_size = 32\n",
    "*   validation_split = 0.25\n",
    "\n"
   ]
  },
  {
   "cell_type": "code",
   "execution_count": 16,
   "metadata": {
    "id": "yytNVJf33WFU"
   },
   "outputs": [
    {
     "name": "stdout",
     "output_type": "stream",
     "text": [
      "Epoch 1/10\n",
      "1500/1500 - 4s - 3ms/step - accuracy: 0.9175 - loss: 0.2880 - val_accuracy: 0.9556 - val_loss: 0.1602\n",
      "Epoch 2/10\n",
      "1500/1500 - 4s - 2ms/step - accuracy: 0.9631 - loss: 0.1260 - val_accuracy: 0.9688 - val_loss: 0.1072\n",
      "Epoch 3/10\n",
      "1500/1500 - 4s - 3ms/step - accuracy: 0.9742 - loss: 0.0865 - val_accuracy: 0.9722 - val_loss: 0.0960\n",
      "Epoch 4/10\n",
      "1500/1500 - 4s - 2ms/step - accuracy: 0.9800 - loss: 0.0651 - val_accuracy: 0.9725 - val_loss: 0.0914\n",
      "Epoch 5/10\n",
      "1500/1500 - 3s - 2ms/step - accuracy: 0.9843 - loss: 0.0509 - val_accuracy: 0.9730 - val_loss: 0.0935\n",
      "Epoch 6/10\n",
      "1500/1500 - 3s - 2ms/step - accuracy: 0.9880 - loss: 0.0395 - val_accuracy: 0.9743 - val_loss: 0.0856\n",
      "Epoch 7/10\n",
      "1500/1500 - 4s - 2ms/step - accuracy: 0.9904 - loss: 0.0312 - val_accuracy: 0.9745 - val_loss: 0.0967\n",
      "Epoch 8/10\n",
      "1500/1500 - 4s - 3ms/step - accuracy: 0.9926 - loss: 0.0240 - val_accuracy: 0.9757 - val_loss: 0.0941\n",
      "Epoch 9/10\n",
      "1500/1500 - 4s - 3ms/step - accuracy: 0.9939 - loss: 0.0203 - val_accuracy: 0.9759 - val_loss: 0.0949\n",
      "Epoch 10/10\n",
      "1500/1500 - 3s - 2ms/step - accuracy: 0.9948 - loss: 0.0173 - val_accuracy: 0.9766 - val_loss: 0.0936\n"
     ]
    }
   ],
   "source": [
    "history = model.fit(x_train, y_train_encoded,\n",
    "                    epochs=10,\n",
    "                    batch_size=32,\n",
    "                    validation_split=0.2,\n",
    "                    verbose=2)\n"
   ]
  },
  {
   "cell_type": "markdown",
   "metadata": {},
   "source": [
    "Con verbose = 2, se muestran las métricas como accuracy o la función de pérdida de forma resumida por epoch"
   ]
  },
  {
   "cell_type": "markdown",
   "metadata": {
    "id": "hiQ8qAzhRQ4L"
   },
   "source": [
    "# 5: Impacto al variar el número de neuronas en las capas ocultas\n",
    "\n",
    "En este ejercicio vamos a experimentar con nuestra red neuronal cambiando el numero de neuronas por 512 y por otros valores. Para ello, utiliza la red neuronal de la pregunta 3, y su capa oculta cambia el número de neuronas:\n",
    "\n",
    "* **216 neuronas en la capa oculta\n",
    "* **1024 neuronas en la capa oculta\n",
    "\n",
    "y entrena la red en ambos casos.\n",
    "\n"
   ]
  },
  {
   "cell_type": "code",
   "execution_count": 17,
   "metadata": {
    "id": "cdP8ZwuaUV93"
   },
   "outputs": [],
   "source": [
    "model_216 = Sequential()\n",
    "model_216.add(Dense(216, activation='relu', input_shape=(784,)))\n",
    "model_216.add(Dense(10, activation='softmax'))\n",
    "\n"
   ]
  },
  {
   "cell_type": "code",
   "execution_count": 18,
   "metadata": {},
   "outputs": [],
   "source": [
    "model_216.compile(optimizer='adam',\n",
    "                  loss='categorical_crossentropy',\n",
    "                  metrics=['accuracy'])\n",
    "\n"
   ]
  },
  {
   "cell_type": "code",
   "execution_count": 19,
   "metadata": {},
   "outputs": [
    {
     "name": "stdout",
     "output_type": "stream",
     "text": [
      "Epoch 1/10\n",
      "1500/1500 - 5s - 3ms/step - accuracy: 0.9274 - loss: 0.2536 - val_accuracy: 0.9622 - val_loss: 0.1349\n",
      "Epoch 2/10\n",
      "1500/1500 - 4s - 3ms/step - accuracy: 0.9686 - loss: 0.1058 - val_accuracy: 0.9695 - val_loss: 0.1049\n",
      "Epoch 3/10\n",
      "1500/1500 - 4s - 2ms/step - accuracy: 0.9778 - loss: 0.0722 - val_accuracy: 0.9707 - val_loss: 0.0904\n",
      "Epoch 4/10\n",
      "1500/1500 - 4s - 3ms/step - accuracy: 0.9850 - loss: 0.0506 - val_accuracy: 0.9723 - val_loss: 0.0906\n",
      "Epoch 5/10\n",
      "1500/1500 - 4s - 3ms/step - accuracy: 0.9889 - loss: 0.0363 - val_accuracy: 0.9724 - val_loss: 0.0968\n",
      "Epoch 6/10\n",
      "1500/1500 - 5s - 3ms/step - accuracy: 0.9911 - loss: 0.0282 - val_accuracy: 0.9742 - val_loss: 0.0883\n",
      "Epoch 7/10\n",
      "1500/1500 - 5s - 3ms/step - accuracy: 0.9933 - loss: 0.0215 - val_accuracy: 0.9774 - val_loss: 0.0827\n",
      "Epoch 8/10\n",
      "1500/1500 - 4s - 3ms/step - accuracy: 0.9946 - loss: 0.0174 - val_accuracy: 0.9772 - val_loss: 0.0901\n",
      "Epoch 9/10\n",
      "1500/1500 - 6s - 4ms/step - accuracy: 0.9952 - loss: 0.0151 - val_accuracy: 0.9766 - val_loss: 0.0912\n",
      "Epoch 10/10\n",
      "1500/1500 - 4s - 3ms/step - accuracy: 0.9967 - loss: 0.0109 - val_accuracy: 0.9765 - val_loss: 0.0978\n"
     ]
    }
   ],
   "source": [
    "history_216 = model_216.fit(x_train, y_train_encoded,\n",
    "                            epochs=10,\n",
    "                            batch_size=32,\n",
    "                            validation_split=0.2,\n",
    "                            verbose=2)"
   ]
  },
  {
   "cell_type": "code",
   "execution_count": null,
   "metadata": {},
   "outputs": [],
   "source": []
  },
  {
   "cell_type": "code",
   "execution_count": 20,
   "metadata": {
    "id": "YXBlbbfuUaPa"
   },
   "outputs": [],
   "source": [
    "model_1024 = Sequential()\n",
    "model_1024.add(Dense(1024, activation='relu', input_shape=(784,)))\n",
    "model_1024.add(Dense(10, activation='softmax'))\n",
    "\n"
   ]
  },
  {
   "cell_type": "code",
   "execution_count": 21,
   "metadata": {},
   "outputs": [],
   "source": [
    "model_1024.compile(optimizer='adam',\n",
    "                  loss='categorical_crossentropy',\n",
    "                  metrics=['accuracy'])\n",
    "\n"
   ]
  },
  {
   "cell_type": "code",
   "execution_count": 22,
   "metadata": {},
   "outputs": [
    {
     "name": "stdout",
     "output_type": "stream",
     "text": [
      "Epoch 1/10\n",
      "1500/1500 - 14s - 9ms/step - accuracy: 0.9387 - loss: 0.2038 - val_accuracy: 0.9628 - val_loss: 0.1218\n",
      "Epoch 2/10\n",
      "1500/1500 - 13s - 8ms/step - accuracy: 0.9742 - loss: 0.0799 - val_accuracy: 0.9688 - val_loss: 0.0980\n",
      "Epoch 3/10\n",
      "1500/1500 - 13s - 9ms/step - accuracy: 0.9837 - loss: 0.0523 - val_accuracy: 0.9735 - val_loss: 0.0934\n",
      "Epoch 4/10\n",
      "1500/1500 - 12s - 8ms/step - accuracy: 0.9885 - loss: 0.0364 - val_accuracy: 0.9759 - val_loss: 0.0838\n",
      "Epoch 5/10\n",
      "1500/1500 - 12s - 8ms/step - accuracy: 0.9912 - loss: 0.0261 - val_accuracy: 0.9779 - val_loss: 0.0860\n",
      "Epoch 6/10\n",
      "1500/1500 - 12s - 8ms/step - accuracy: 0.9931 - loss: 0.0207 - val_accuracy: 0.9795 - val_loss: 0.0814\n",
      "Epoch 7/10\n",
      "1500/1500 - 12s - 8ms/step - accuracy: 0.9934 - loss: 0.0189 - val_accuracy: 0.9781 - val_loss: 0.0897\n",
      "Epoch 8/10\n",
      "1500/1500 - 13s - 8ms/step - accuracy: 0.9954 - loss: 0.0143 - val_accuracy: 0.9775 - val_loss: 0.1102\n",
      "Epoch 9/10\n",
      "1500/1500 - 12s - 8ms/step - accuracy: 0.9950 - loss: 0.0138 - val_accuracy: 0.9774 - val_loss: 0.1056\n",
      "Epoch 10/10\n",
      "1500/1500 - 11s - 7ms/step - accuracy: 0.9970 - loss: 0.0091 - val_accuracy: 0.9769 - val_loss: 0.1120\n"
     ]
    }
   ],
   "source": [
    "history_1024 = model_1024.fit(x_train, y_train_encoded,\n",
    "                            epochs=10,\n",
    "                            batch_size=32,\n",
    "                            validation_split=0.2,\n",
    "                            verbose=2)"
   ]
  },
  {
   "cell_type": "code",
   "execution_count": null,
   "metadata": {},
   "outputs": [],
   "source": []
  },
  {
   "cell_type": "code",
   "execution_count": null,
   "metadata": {},
   "outputs": [],
   "source": []
  },
  {
   "cell_type": "code",
   "execution_count": null,
   "metadata": {},
   "outputs": [],
   "source": []
  },
  {
   "cell_type": "markdown",
   "metadata": {
    "id": "wG0h2HL-Uj93"
   },
   "source": [
    "**Pregunta 5.1 (0.5 puntos)**: ¿Cual es el impacto que tiene la red neuronal?"
   ]
  },
  {
   "cell_type": "markdown",
   "metadata": {
    "id": "0ff9PdKi7wgq"
   },
   "source": [
    "Respuesta a la pregunta 5.1:"
   ]
  },
  {
   "cell_type": "markdown",
   "metadata": {},
   "source": [
    "Al comparar los dos modelos, se observa que el modelo con 1024 neuronas alcanza una mayor precisión en entrenamiento mientras que en la validación ha resultado al contrario. Sin embargo, también se tarda más en entrenar la de 1024 y tiene un mayor riesgo de sobreajuste, mientras que la de 128 ha tardado menos en entrenarse."
   ]
  },
  {
   "cell_type": "markdown",
   "metadata": {
    "id": "f37cIr81ZYJj"
   },
   "source": [
    "# 6: Número de neuronas de la capa de salida\n",
    "Considerad la capa final, la de salida de la red neuronal de la pregunta 3.\n",
    "\n",
    "**Pregunta 6.1 (0.25 puntos)**: ¿Por qué son 10 las neuronas de la última capa?\n",
    "\n",
    "**Pregunta 6.2 (0.25 puntos)**: ¿Qué pasaría si tuvieras una cantidad diferente a 10?\n",
    "\n",
    "Por ejemplo, intenta entrenar la red con 5, para ello utiliza la red neuronal de la pregunta 1 y cambia a 5 el número de neuronas en la última capa."
   ]
  },
  {
   "cell_type": "code",
   "execution_count": 23,
   "metadata": {
    "id": "FhbZkppYZOCS"
   },
   "outputs": [],
   "source": [
    "# Crear un modelo incorrecto con solo 5 neuronas en la capa de salida\n",
    "model_inc = Sequential()\n",
    "model_inc.add(Dense(128, activation='relu', input_shape=(784,)))\n",
    "model_inc.add(Dense(5, activation='softmax')) \n",
    "\n",
    "\n",
    "\n"
   ]
  },
  {
   "cell_type": "code",
   "execution_count": 24,
   "metadata": {},
   "outputs": [],
   "source": [
    "model_inc.compile(optimizer='adam',\n",
    "                    loss='categorical_crossentropy',\n",
    "                    metrics=['accuracy'])"
   ]
  },
  {
   "cell_type": "code",
   "execution_count": 25,
   "metadata": {},
   "outputs": [
    {
     "name": "stdout",
     "output_type": "stream",
     "text": [
      "Epoch 1/10\n"
     ]
    },
    {
     "ename": "ValueError",
     "evalue": "Arguments `target` and `output` must have the same rank (ndim). Received: target.shape=(32,), output.shape=(32, 5)",
     "output_type": "error",
     "traceback": [
      "\u001b[31m---------------------------------------------------------------------------\u001b[39m",
      "\u001b[31mValueError\u001b[39m                                Traceback (most recent call last)",
      "\u001b[36mCell\u001b[39m\u001b[36m \u001b[39m\u001b[32mIn[25]\u001b[39m\u001b[32m, line 2\u001b[39m\n\u001b[32m      1\u001b[39m \u001b[38;5;66;03m# Intentar entrenar (esto debería dar error o funcionar mal)\u001b[39;00m\n\u001b[32m----> \u001b[39m\u001b[32m2\u001b[39m history_inc = model_inc.fit(x_train, y_train,\n\u001b[32m      3\u001b[39m                                 epochs=\u001b[32m10\u001b[39m,\n\u001b[32m      4\u001b[39m                                 batch_size=\u001b[32m32\u001b[39m,\n\u001b[32m      5\u001b[39m                                 validation_split=\u001b[32m0.2\u001b[39m,\n\u001b[32m      6\u001b[39m                                 verbose=\u001b[32m2\u001b[39m)\n",
      "\u001b[36mFile \u001b[39m\u001b[32m~\\anaconda3\\envs\\rn_act1\\Lib\\site-packages\\keras\\src\\utils\\traceback_utils.py:122\u001b[39m, in \u001b[36mfilter_traceback.<locals>.error_handler\u001b[39m\u001b[34m(*args, **kwargs)\u001b[39m\n\u001b[32m    119\u001b[39m     filtered_tb = _process_traceback_frames(e.__traceback__)\n\u001b[32m    120\u001b[39m     \u001b[38;5;66;03m# To get the full stack trace, call:\u001b[39;00m\n\u001b[32m    121\u001b[39m     \u001b[38;5;66;03m# `keras.config.disable_traceback_filtering()`\u001b[39;00m\n\u001b[32m--> \u001b[39m\u001b[32m122\u001b[39m     \u001b[38;5;28;01mraise\u001b[39;00m e.with_traceback(filtered_tb) \u001b[38;5;28;01mfrom\u001b[39;00m\u001b[38;5;250m \u001b[39m\u001b[38;5;28;01mNone\u001b[39;00m\n\u001b[32m    123\u001b[39m \u001b[38;5;28;01mfinally\u001b[39;00m:\n\u001b[32m    124\u001b[39m     \u001b[38;5;28;01mdel\u001b[39;00m filtered_tb\n",
      "\u001b[36mFile \u001b[39m\u001b[32m~\\anaconda3\\envs\\rn_act1\\Lib\\site-packages\\keras\\src\\backend\\tensorflow\\nn.py:653\u001b[39m, in \u001b[36mcategorical_crossentropy\u001b[39m\u001b[34m(target, output, from_logits, axis)\u001b[39m\n\u001b[32m    647\u001b[39m     \u001b[38;5;28;01mraise\u001b[39;00m \u001b[38;5;167;01mValueError\u001b[39;00m(\n\u001b[32m    648\u001b[39m         \u001b[33m\"\u001b[39m\u001b[33mArguments `target` and `output` must be at least rank 1. \u001b[39m\u001b[33m\"\u001b[39m\n\u001b[32m    649\u001b[39m         \u001b[33m\"\u001b[39m\u001b[33mReceived: \u001b[39m\u001b[33m\"\u001b[39m\n\u001b[32m    650\u001b[39m         \u001b[33mf\u001b[39m\u001b[33m\"\u001b[39m\u001b[33mtarget.shape=\u001b[39m\u001b[38;5;132;01m{\u001b[39;00mtarget.shape\u001b[38;5;132;01m}\u001b[39;00m\u001b[33m, output.shape=\u001b[39m\u001b[38;5;132;01m{\u001b[39;00moutput.shape\u001b[38;5;132;01m}\u001b[39;00m\u001b[33m\"\u001b[39m\n\u001b[32m    651\u001b[39m     )\n\u001b[32m    652\u001b[39m \u001b[38;5;28;01mif\u001b[39;00m \u001b[38;5;28mlen\u001b[39m(target.shape) != \u001b[38;5;28mlen\u001b[39m(output.shape):\n\u001b[32m--> \u001b[39m\u001b[32m653\u001b[39m     \u001b[38;5;28;01mraise\u001b[39;00m \u001b[38;5;167;01mValueError\u001b[39;00m(\n\u001b[32m    654\u001b[39m         \u001b[33m\"\u001b[39m\u001b[33mArguments `target` and `output` must have the same rank \u001b[39m\u001b[33m\"\u001b[39m\n\u001b[32m    655\u001b[39m         \u001b[33m\"\u001b[39m\u001b[33m(ndim). Received: \u001b[39m\u001b[33m\"\u001b[39m\n\u001b[32m    656\u001b[39m         \u001b[33mf\u001b[39m\u001b[33m\"\u001b[39m\u001b[33mtarget.shape=\u001b[39m\u001b[38;5;132;01m{\u001b[39;00mtarget.shape\u001b[38;5;132;01m}\u001b[39;00m\u001b[33m, output.shape=\u001b[39m\u001b[38;5;132;01m{\u001b[39;00moutput.shape\u001b[38;5;132;01m}\u001b[39;00m\u001b[33m\"\u001b[39m\n\u001b[32m    657\u001b[39m     )\n\u001b[32m    658\u001b[39m \u001b[38;5;28;01mfor\u001b[39;00m e1, e2 \u001b[38;5;129;01min\u001b[39;00m \u001b[38;5;28mzip\u001b[39m(target.shape, output.shape):\n\u001b[32m    659\u001b[39m     \u001b[38;5;28;01mif\u001b[39;00m e1 \u001b[38;5;129;01mis\u001b[39;00m \u001b[38;5;129;01mnot\u001b[39;00m \u001b[38;5;28;01mNone\u001b[39;00m \u001b[38;5;129;01mand\u001b[39;00m e2 \u001b[38;5;129;01mis\u001b[39;00m \u001b[38;5;129;01mnot\u001b[39;00m \u001b[38;5;28;01mNone\u001b[39;00m \u001b[38;5;129;01mand\u001b[39;00m e1 != e2:\n",
      "\u001b[31mValueError\u001b[39m: Arguments `target` and `output` must have the same rank (ndim). Received: target.shape=(32,), output.shape=(32, 5)"
     ]
    }
   ],
   "source": [
    "# Intentar entrenar (esto debería dar error o funcionar mal)\n",
    "history_inc = model_inc.fit(x_train, y_train,\n",
    "                                epochs=10,\n",
    "                                batch_size=32,\n",
    "                                validation_split=0.2,\n",
    "                                verbose=2)"
   ]
  },
  {
   "cell_type": "markdown",
   "metadata": {
    "id": "SLsQcq-6aUoD"
   },
   "source": [
    "Tu respuestas a la pregunta 6.1 aquí:"
   ]
  },
  {
   "cell_type": "markdown",
   "metadata": {},
   "source": [
    "Porque son el número de clases que se pretende predecir"
   ]
  },
  {
   "cell_type": "markdown",
   "metadata": {
    "id": "J1f_7ZFeaUu6"
   },
   "source": [
    "Tu respuestas a la pregunta 6.2 aquí:"
   ]
  },
  {
   "cell_type": "markdown",
   "metadata": {},
   "source": [
    "En la prueba, configuramos la capa de salida con solo 5 neuronas cuando el dataset requiere de 10 clases. Al compilar y entrenar el modelo, se produce un error porque la forma de las etiquetas (10 dimensiones por one-hot encoding) no coincide con la salida del modelo (5 neuronas)."
   ]
  },
  {
   "cell_type": "markdown",
   "metadata": {
    "id": "HNIBCkshaf2y"
   },
   "source": [
    "# 7: Aumento de epoch y su efecto en la red neuronal\n",
    "En este ejercicio vamos a ver el impacto de aumentar los epoch en el entrenamiento. Usando la red neuronal de la pregunta 3:\n",
    "\n",
    "**Pregunta 7.1 (0.25 puntos)**\n",
    "* Intentad 15 epoch para su entrenamiento, probablemente obtendras un modelo con una pérdida mucho mejor que el que tiene 5.\n",
    "\n",
    "**Pregunta 7.2 (0.25 puntos)**\n",
    "* Intenta ahora con 30 epoch para su entrenamiento.\n",
    "\n",
    "**Pregunta 7.3 (0.25 puntos)**\n",
    "* ¿Qué está pasando en la pregunta anterior? Explica tu respuesta y da el nombre de este efecto si lo conoces."
   ]
  },
  {
   "cell_type": "code",
   "execution_count": 26,
   "metadata": {},
   "outputs": [],
   "source": [
    "# Crear el modelo\n",
    "model2 = Sequential()\n",
    "\n",
    "# Capa oculta con 128 neuronas y activación ReLU\n",
    "model2.add(Dense(units=128, activation='relu', input_shape=(784,)))\n",
    "\n",
    "# Capa de salida con 10 neuronas (una por cada dígito), activación softmax\n",
    "model2.add(Dense(units=10, activation='softmax'))"
   ]
  },
  {
   "cell_type": "code",
   "execution_count": 27,
   "metadata": {},
   "outputs": [],
   "source": [
    "model2.compile(\n",
    "    optimizer='adam',\n",
    "    loss='categorical_crossentropy',\n",
    "    metrics=['accuracy']\n",
    ")"
   ]
  },
  {
   "cell_type": "code",
   "execution_count": 28,
   "metadata": {
    "id": "Cb5vk_imG4iZ"
   },
   "outputs": [
    {
     "name": "stdout",
     "output_type": "stream",
     "text": [
      "Epoch 1/15\n",
      "1500/1500 - 4s - 3ms/step - accuracy: 0.9166 - loss: 0.2938 - val_accuracy: 0.9443 - val_loss: 0.1799\n",
      "Epoch 2/15\n",
      "1500/1500 - 3s - 2ms/step - accuracy: 0.9626 - loss: 0.1312 - val_accuracy: 0.9656 - val_loss: 0.1173\n",
      "Epoch 3/15\n",
      "1500/1500 - 3s - 2ms/step - accuracy: 0.9740 - loss: 0.0887 - val_accuracy: 0.9625 - val_loss: 0.1222\n",
      "Epoch 4/15\n",
      "1500/1500 - 4s - 3ms/step - accuracy: 0.9803 - loss: 0.0666 - val_accuracy: 0.9701 - val_loss: 0.0975\n",
      "Epoch 5/15\n",
      "1500/1500 - 4s - 2ms/step - accuracy: 0.9844 - loss: 0.0516 - val_accuracy: 0.9738 - val_loss: 0.0901\n",
      "Epoch 6/15\n",
      "1500/1500 - 4s - 3ms/step - accuracy: 0.9882 - loss: 0.0398 - val_accuracy: 0.9744 - val_loss: 0.0904\n",
      "Epoch 7/15\n",
      "1500/1500 - 3s - 2ms/step - accuracy: 0.9905 - loss: 0.0312 - val_accuracy: 0.9752 - val_loss: 0.0883\n",
      "Epoch 8/15\n",
      "1500/1500 - 3s - 2ms/step - accuracy: 0.9914 - loss: 0.0269 - val_accuracy: 0.9755 - val_loss: 0.0917\n",
      "Epoch 9/15\n",
      "1500/1500 - 3s - 2ms/step - accuracy: 0.9936 - loss: 0.0217 - val_accuracy: 0.9772 - val_loss: 0.0911\n",
      "Epoch 10/15\n",
      "1500/1500 - 4s - 3ms/step - accuracy: 0.9952 - loss: 0.0165 - val_accuracy: 0.9759 - val_loss: 0.0955\n",
      "Epoch 11/15\n",
      "1500/1500 - 3s - 2ms/step - accuracy: 0.9958 - loss: 0.0146 - val_accuracy: 0.9743 - val_loss: 0.1046\n",
      "Epoch 12/15\n",
      "1500/1500 - 3s - 2ms/step - accuracy: 0.9968 - loss: 0.0112 - val_accuracy: 0.9778 - val_loss: 0.0960\n",
      "Epoch 13/15\n",
      "1500/1500 - 3s - 2ms/step - accuracy: 0.9967 - loss: 0.0105 - val_accuracy: 0.9762 - val_loss: 0.1038\n",
      "Epoch 14/15\n",
      "1500/1500 - 3s - 2ms/step - accuracy: 0.9975 - loss: 0.0089 - val_accuracy: 0.9762 - val_loss: 0.1018\n",
      "Epoch 15/15\n",
      "1500/1500 - 4s - 3ms/step - accuracy: 0.9979 - loss: 0.0072 - val_accuracy: 0.9752 - val_loss: 0.1123\n"
     ]
    }
   ],
   "source": [
    "history_15 = model2.fit(x_train, y_train_encoded,\n",
    "                          epochs=15,\n",
    "                          batch_size=32,\n",
    "                          validation_split=0.2,\n",
    "                          verbose=2)"
   ]
  },
  {
   "cell_type": "code",
   "execution_count": 31,
   "metadata": {},
   "outputs": [],
   "source": [
    "# Crear el modelo\n",
    "model3 = Sequential()\n",
    "\n",
    "# Capa oculta con 128 neuronas y activación ReLU\n",
    "model3.add(Dense(units=128, activation='relu', input_shape=(784,)))\n",
    "\n",
    "# Capa de salida con 10 neuronas (una por cada dígito), activación softmax\n",
    "model3.add(Dense(units=10, activation='softmax'))"
   ]
  },
  {
   "cell_type": "code",
   "execution_count": 32,
   "metadata": {},
   "outputs": [],
   "source": [
    "model3.compile(\n",
    "    optimizer='adam',\n",
    "    loss='categorical_crossentropy',\n",
    "    metrics=['accuracy']\n",
    ")"
   ]
  },
  {
   "cell_type": "code",
   "execution_count": 34,
   "metadata": {},
   "outputs": [
    {
     "name": "stdout",
     "output_type": "stream",
     "text": [
      "Epoch 1/30\n",
      "1500/1500 - 4s - 3ms/step - accuracy: 0.9190 - loss: 0.2834 - val_accuracy: 0.9526 - val_loss: 0.1660\n",
      "Epoch 2/30\n",
      "1500/1500 - 4s - 2ms/step - accuracy: 0.9623 - loss: 0.1285 - val_accuracy: 0.9636 - val_loss: 0.1249\n",
      "Epoch 3/30\n",
      "1500/1500 - 4s - 3ms/step - accuracy: 0.9731 - loss: 0.0890 - val_accuracy: 0.9677 - val_loss: 0.1047\n",
      "Epoch 4/30\n",
      "1500/1500 - 3s - 2ms/step - accuracy: 0.9811 - loss: 0.0652 - val_accuracy: 0.9722 - val_loss: 0.0970\n",
      "Epoch 5/30\n",
      "1500/1500 - 3s - 2ms/step - accuracy: 0.9843 - loss: 0.0519 - val_accuracy: 0.9743 - val_loss: 0.0877\n",
      "Epoch 6/30\n",
      "1500/1500 - 3s - 2ms/step - accuracy: 0.9878 - loss: 0.0401 - val_accuracy: 0.9743 - val_loss: 0.0940\n",
      "Epoch 7/30\n",
      "1500/1500 - 4s - 3ms/step - accuracy: 0.9909 - loss: 0.0299 - val_accuracy: 0.9722 - val_loss: 0.0982\n",
      "Epoch 8/30\n",
      "1500/1500 - 4s - 2ms/step - accuracy: 0.9928 - loss: 0.0240 - val_accuracy: 0.9742 - val_loss: 0.0946\n",
      "Epoch 9/30\n",
      "1500/1500 - 3s - 2ms/step - accuracy: 0.9937 - loss: 0.0211 - val_accuracy: 0.9772 - val_loss: 0.0882\n",
      "Epoch 10/30\n",
      "1500/1500 - 3s - 2ms/step - accuracy: 0.9955 - loss: 0.0148 - val_accuracy: 0.9736 - val_loss: 0.1074\n",
      "Epoch 11/30\n",
      "1500/1500 - 3s - 2ms/step - accuracy: 0.9959 - loss: 0.0141 - val_accuracy: 0.9728 - val_loss: 0.1099\n",
      "Epoch 12/30\n",
      "1500/1500 - 5s - 3ms/step - accuracy: 0.9965 - loss: 0.0114 - val_accuracy: 0.9765 - val_loss: 0.1036\n",
      "Epoch 13/30\n",
      "1500/1500 - 3s - 2ms/step - accuracy: 0.9973 - loss: 0.0090 - val_accuracy: 0.9733 - val_loss: 0.1207\n",
      "Epoch 14/30\n",
      "1500/1500 - 3s - 2ms/step - accuracy: 0.9977 - loss: 0.0081 - val_accuracy: 0.9758 - val_loss: 0.1130\n",
      "Epoch 15/30\n",
      "1500/1500 - 3s - 2ms/step - accuracy: 0.9974 - loss: 0.0093 - val_accuracy: 0.9759 - val_loss: 0.1138\n",
      "Epoch 16/30\n",
      "1500/1500 - 4s - 3ms/step - accuracy: 0.9985 - loss: 0.0059 - val_accuracy: 0.9778 - val_loss: 0.1036\n",
      "Epoch 17/30\n",
      "1500/1500 - 4s - 2ms/step - accuracy: 0.9981 - loss: 0.0068 - val_accuracy: 0.9743 - val_loss: 0.1238\n",
      "Epoch 18/30\n",
      "1500/1500 - 3s - 2ms/step - accuracy: 0.9981 - loss: 0.0058 - val_accuracy: 0.9762 - val_loss: 0.1251\n",
      "Epoch 19/30\n",
      "1500/1500 - 3s - 2ms/step - accuracy: 0.9987 - loss: 0.0044 - val_accuracy: 0.9770 - val_loss: 0.1264\n",
      "Epoch 20/30\n",
      "1500/1500 - 5s - 3ms/step - accuracy: 0.9984 - loss: 0.0049 - val_accuracy: 0.9769 - val_loss: 0.1191\n",
      "Epoch 21/30\n",
      "1500/1500 - 5s - 3ms/step - accuracy: 0.9980 - loss: 0.0058 - val_accuracy: 0.9765 - val_loss: 0.1229\n",
      "Epoch 22/30\n",
      "1500/1500 - 3s - 2ms/step - accuracy: 0.9991 - loss: 0.0033 - val_accuracy: 0.9793 - val_loss: 0.1126\n",
      "Epoch 23/30\n",
      "1500/1500 - 3s - 2ms/step - accuracy: 0.9984 - loss: 0.0055 - val_accuracy: 0.9791 - val_loss: 0.1200\n",
      "Epoch 24/30\n",
      "1500/1500 - 4s - 2ms/step - accuracy: 0.9989 - loss: 0.0036 - val_accuracy: 0.9768 - val_loss: 0.1372\n",
      "Epoch 25/30\n",
      "1500/1500 - 4s - 3ms/step - accuracy: 0.9984 - loss: 0.0054 - val_accuracy: 0.9739 - val_loss: 0.1464\n",
      "Epoch 26/30\n",
      "1500/1500 - 4s - 2ms/step - accuracy: 0.9988 - loss: 0.0038 - val_accuracy: 0.9773 - val_loss: 0.1412\n",
      "Epoch 27/30\n",
      "1500/1500 - 3s - 2ms/step - accuracy: 0.9995 - loss: 0.0016 - val_accuracy: 0.9780 - val_loss: 0.1371\n",
      "Epoch 28/30\n",
      "1500/1500 - 3s - 2ms/step - accuracy: 0.9979 - loss: 0.0064 - val_accuracy: 0.9775 - val_loss: 0.1521\n",
      "Epoch 29/30\n",
      "1500/1500 - 3s - 2ms/step - accuracy: 0.9989 - loss: 0.0034 - val_accuracy: 0.9783 - val_loss: 0.1342\n",
      "Epoch 30/30\n",
      "1500/1500 - 4s - 3ms/step - accuracy: 0.9985 - loss: 0.0044 - val_accuracy: 0.9775 - val_loss: 0.1426\n"
     ]
    }
   ],
   "source": [
    "history_30 = model3.fit(x_train, y_train_encoded,\n",
    "                          epochs=30,\n",
    "                          batch_size=32,\n",
    "                          validation_split=0.2,\n",
    "                          verbose=2)"
   ]
  },
  {
   "cell_type": "markdown",
   "metadata": {
    "id": "Fs0fjzH4bmSR"
   },
   "source": [
    "Tu respuesta a la pregunta 7.3 aquí:"
   ]
  },
  {
   "cell_type": "markdown",
   "metadata": {},
   "source": [
    "Al aumentar el número de épocas de entrenamiento, el modelo tiene más oportunidades de ajustarse a los datos. Con 15 épocas, la precisión mejora con respecto a 10, y con 30 puede seguir mejorando inicialmente. Sin embargo, si el modelo empieza a aprender demasiado los datos de entrenamiento y pierde capacidad de generalización, puede aparecer sobreajuste. En ese caso, la precisión en validación se estabiliza o incluso disminuye, mientras la de entrenamiento sigue subiendo.\n",
    "\n"
   ]
  },
  {
   "cell_type": "markdown",
   "metadata": {
    "id": "HlIgNG4Yb_N6"
   },
   "source": [
    "# 8: Early stop\n",
    "En el ejercicio anterior, cuando entrenabas con epoch extras, tenías un problema en el que tu pérdida podía cambiar. Puede que te haya llevado un poco de tiempo esperar a que el entrenamiento lo hiciera,  y puede que hayas pensado \"¿no estaría bien si pudiera parar el entrenamiento cuando alcance un valor deseado?\", es decir, una precisión del 85% podría ser suficiente para ti, y si alcanzas eso después de 3 epoch, ¿por qué sentarte a esperar a que termine muchas más épocas? Como cualquier otro programa existen formas de parar la ejecución\n",
    "\n",
    "A partir del código de ejemplo, hacer una nueva función que tenga en cuenta la perdida (loss) y que pueda parar el código para evitar que ocurra el efeto secundario que vimos en el ejercicio 5."
   ]
  },
  {
   "cell_type": "code",
   "execution_count": 35,
   "metadata": {
    "id": "b5UwceFUG4ic"
   },
   "outputs": [],
   "source": [
    "### Ejemplo de código\n",
    "\n",
    "class myCallback(tf.keras.callbacks.Callback):\n",
    "      def on_epoch_end(self, epoch, logs={}):\n",
    "        if(logs.get('accuracy')> 0.85):\n",
    "              print(\"\\nAlcanzado el 85% de precisión, se cancela el entrenamiento!!\")\n",
    "              self.model.stop_training = True"
   ]
  },
  {
   "cell_type": "markdown",
   "metadata": {
    "id": "0Bjd8wGKccrn"
   },
   "source": [
    "**Pregunta 8.1. *(0.75 puntos)***: Consulta la documentación de Keras y aprende cómo podemos utilizar Early stop en nuestro modelos."
   ]
  },
  {
   "cell_type": "code",
   "execution_count": 36,
   "metadata": {
    "id": "3P3sQQky8qI6"
   },
   "outputs": [],
   "source": [
    "from tensorflow.keras.callbacks import EarlyStopping\n",
    "\n",
    "# Definir el callback de EarlyStopping\n",
    "early_stop = EarlyStopping(\n",
    "    monitor='val_loss',     # métrica a vigilar\n",
    "    patience=3,             # número de épocas sin mejora antes de detener\n",
    "    restore_best_weights=True  # recupera los mejores pesos\n",
    ")\n",
    "\n",
    "\n"
   ]
  },
  {
   "cell_type": "code",
   "execution_count": 37,
   "metadata": {},
   "outputs": [],
   "source": [
    "# Crear el modelo\n",
    "model = Sequential()\n",
    "\n",
    "# Capa oculta con 128 neuronas y activación ReLU\n",
    "model.add(Dense(units=128, activation='relu', input_shape=(784,)))\n",
    "\n",
    "# Capa de salida con 10 neuronas (una por cada dígito), activación softmax\n",
    "model.add(Dense(units=10, activation='softmax'))"
   ]
  },
  {
   "cell_type": "code",
   "execution_count": 38,
   "metadata": {},
   "outputs": [],
   "source": [
    "model.compile(optimizer='adam',\n",
    "                    loss='categorical_crossentropy',\n",
    "                    metrics=['accuracy'])"
   ]
  },
  {
   "cell_type": "code",
   "execution_count": 39,
   "metadata": {},
   "outputs": [
    {
     "name": "stdout",
     "output_type": "stream",
     "text": [
      "Epoch 1/30\n",
      "1500/1500 - 5s - 3ms/step - accuracy: 0.9194 - loss: 0.2836 - val_accuracy: 0.9563 - val_loss: 0.1535\n",
      "Epoch 2/30\n",
      "1500/1500 - 4s - 3ms/step - accuracy: 0.9623 - loss: 0.1251 - val_accuracy: 0.9643 - val_loss: 0.1153\n",
      "Epoch 3/30\n",
      "1500/1500 - 4s - 2ms/step - accuracy: 0.9742 - loss: 0.0859 - val_accuracy: 0.9674 - val_loss: 0.1093\n",
      "Epoch 4/30\n",
      "1500/1500 - 3s - 2ms/step - accuracy: 0.9808 - loss: 0.0629 - val_accuracy: 0.9716 - val_loss: 0.0955\n",
      "Epoch 5/30\n",
      "1500/1500 - 3s - 2ms/step - accuracy: 0.9854 - loss: 0.0493 - val_accuracy: 0.9713 - val_loss: 0.0974\n",
      "Epoch 6/30\n",
      "1500/1500 - 4s - 2ms/step - accuracy: 0.9881 - loss: 0.0381 - val_accuracy: 0.9728 - val_loss: 0.0936\n",
      "Epoch 7/30\n",
      "1500/1500 - 4s - 3ms/step - accuracy: 0.9909 - loss: 0.0304 - val_accuracy: 0.9752 - val_loss: 0.0888\n",
      "Epoch 8/30\n",
      "1500/1500 - 3s - 2ms/step - accuracy: 0.9928 - loss: 0.0243 - val_accuracy: 0.9746 - val_loss: 0.0925\n",
      "Epoch 9/30\n",
      "1500/1500 - 3s - 2ms/step - accuracy: 0.9940 - loss: 0.0201 - val_accuracy: 0.9771 - val_loss: 0.0863\n",
      "Epoch 10/30\n",
      "1500/1500 - 3s - 2ms/step - accuracy: 0.9956 - loss: 0.0154 - val_accuracy: 0.9693 - val_loss: 0.1108\n",
      "Epoch 11/30\n",
      "1500/1500 - 3s - 2ms/step - accuracy: 0.9958 - loss: 0.0137 - val_accuracy: 0.9754 - val_loss: 0.0953\n",
      "Epoch 12/30\n",
      "1500/1500 - 4s - 3ms/step - accuracy: 0.9971 - loss: 0.0109 - val_accuracy: 0.9738 - val_loss: 0.1063\n"
     ]
    }
   ],
   "source": [
    "history_early = model.fit(x_train, y_train_encoded,\n",
    "                          epochs=30,\n",
    "                          batch_size=32,\n",
    "                          validation_split=0.2,\n",
    "                          callbacks=[early_stop],\n",
    "                          verbose=2)"
   ]
  },
  {
   "cell_type": "markdown",
   "metadata": {},
   "source": [
    "Keras permite usar el callback EarlyStopping para detener el entrenamiento automáticamente cuando una métrica (por ejemplo, val_loss o val_accuracy) deja de mejorar. Esto ayuda a evitar el sobreentrenamiento y reduce el tiempo de computación. Se puede configurar qué métrica observar (monitor), cuántas épocas esperar antes de detener (patience) y si se deben restaurar los mejores pesos (restore_best_weights=True).\n",
    "\n",
    "Esto es útil cuando, como en el ejercicio anterior, la precisión ya es suficiente tras pocas épocas, y seguir entrenando no mejora el modelo e incluso lo empeora."
   ]
  },
  {
   "cell_type": "markdown",
   "metadata": {
    "id": "M_yZ9B8gTFqR"
   },
   "source": [
    "## 9. Unidades de activación"
   ]
  },
  {
   "cell_type": "markdown",
   "metadata": {
    "id": "MuVNxmXSTFqR"
   },
   "source": [
    "En este ejercicio, vamos a evaluar la importancia de utilizar las unidades de activación adecuadas. Como hemos visto en clase, funciones de activación como sigmoid han dejado de utilizarse en favor de otras unidades como ReLU.\n",
    "\n",
    "**Pregunta 9.1 *(0.75 puntos)***: Utilizando la red realizada en el ejercicio 3, escribir un breve análisis comparando la utilización de unidades sigmoid y ReLU (por ejemplo, se pueden comentar aspectos como velocidad de convergencia, métricas obtenidas...). Explicar por qué pueden darse estas diferencias. Opcionalmente, comparar con otras activaciones disponibles en Keras.\n",
    "\n",
    "*Pista: Usando redes más grandes se hace más sencillo apreciar las diferencias. Es mejor utilizar al menos 3 o 4 capas densas.*"
   ]
  },
  {
   "cell_type": "code",
   "execution_count": 40,
   "metadata": {},
   "outputs": [],
   "source": [
    "model_relu = Sequential()\n",
    "model_relu.add(Dense(128, activation='relu', input_shape=(784,)))\n",
    "model_relu.add(Dense(64, activation='relu'))\n",
    "model_relu.add(Dense(32, activation='relu'))\n",
    "model_relu.add(Dense(10, activation='softmax'))\n",
    "\n",
    "\n",
    "\n"
   ]
  },
  {
   "cell_type": "code",
   "execution_count": 41,
   "metadata": {},
   "outputs": [],
   "source": [
    "model_relu.compile(optimizer='adam',\n",
    "                   loss='categorical_crossentropy',\n",
    "                   metrics=['accuracy'])\n"
   ]
  },
  {
   "cell_type": "code",
   "execution_count": 42,
   "metadata": {},
   "outputs": [
    {
     "name": "stdout",
     "output_type": "stream",
     "text": [
      "Epoch 1/15\n",
      "1500/1500 - 5s - 3ms/step - accuracy: 0.9153 - loss: 0.2791 - val_accuracy: 0.9578 - val_loss: 0.1425\n",
      "Epoch 2/15\n",
      "1500/1500 - 4s - 2ms/step - accuracy: 0.9642 - loss: 0.1175 - val_accuracy: 0.9662 - val_loss: 0.1077\n",
      "Epoch 3/15\n",
      "1500/1500 - 4s - 2ms/step - accuracy: 0.9743 - loss: 0.0836 - val_accuracy: 0.9709 - val_loss: 0.1010\n",
      "Epoch 4/15\n",
      "1500/1500 - 3s - 2ms/step - accuracy: 0.9808 - loss: 0.0638 - val_accuracy: 0.9717 - val_loss: 0.0947\n",
      "Epoch 5/15\n",
      "1500/1500 - 3s - 2ms/step - accuracy: 0.9841 - loss: 0.0500 - val_accuracy: 0.9722 - val_loss: 0.0999\n",
      "Epoch 6/15\n",
      "1500/1500 - 3s - 2ms/step - accuracy: 0.9863 - loss: 0.0418 - val_accuracy: 0.9732 - val_loss: 0.1039\n",
      "Epoch 7/15\n",
      "1500/1500 - 4s - 3ms/step - accuracy: 0.9881 - loss: 0.0358 - val_accuracy: 0.9703 - val_loss: 0.1111\n",
      "Epoch 8/15\n",
      "1500/1500 - 3s - 2ms/step - accuracy: 0.9899 - loss: 0.0300 - val_accuracy: 0.9729 - val_loss: 0.1058\n",
      "Epoch 9/15\n",
      "1500/1500 - 4s - 2ms/step - accuracy: 0.9911 - loss: 0.0271 - val_accuracy: 0.9651 - val_loss: 0.1345\n",
      "Epoch 10/15\n",
      "1500/1500 - 4s - 3ms/step - accuracy: 0.9916 - loss: 0.0243 - val_accuracy: 0.9758 - val_loss: 0.0995\n",
      "Epoch 11/15\n",
      "1500/1500 - 4s - 3ms/step - accuracy: 0.9929 - loss: 0.0220 - val_accuracy: 0.9750 - val_loss: 0.1202\n",
      "Epoch 12/15\n",
      "1500/1500 - 5s - 3ms/step - accuracy: 0.9940 - loss: 0.0177 - val_accuracy: 0.9758 - val_loss: 0.1228\n",
      "Epoch 13/15\n",
      "1500/1500 - 4s - 3ms/step - accuracy: 0.9941 - loss: 0.0183 - val_accuracy: 0.9739 - val_loss: 0.1283\n",
      "Epoch 14/15\n",
      "1500/1500 - 4s - 3ms/step - accuracy: 0.9938 - loss: 0.0185 - val_accuracy: 0.9743 - val_loss: 0.1233\n",
      "Epoch 15/15\n",
      "1500/1500 - 4s - 3ms/step - accuracy: 0.9950 - loss: 0.0151 - val_accuracy: 0.9728 - val_loss: 0.1246\n"
     ]
    }
   ],
   "source": [
    "history_relu = model_relu.fit(x_train, y_train_encoded,\n",
    "                              epochs=15,\n",
    "                              batch_size=32,\n",
    "                              validation_split=0.2,\n",
    "                              verbose=2)"
   ]
  },
  {
   "cell_type": "code",
   "execution_count": null,
   "metadata": {},
   "outputs": [],
   "source": []
  },
  {
   "cell_type": "code",
   "execution_count": null,
   "metadata": {},
   "outputs": [],
   "source": []
  },
  {
   "cell_type": "code",
   "execution_count": 44,
   "metadata": {},
   "outputs": [],
   "source": [
    "model_sigmoid = Sequential()\n",
    "model_sigmoid.add(Dense(128, activation='sigmoid', input_shape=(784,)))\n",
    "model_sigmoid.add(Dense(64, activation='sigmoid'))\n",
    "model_sigmoid.add(Dense(32, activation='sigmoid'))\n",
    "model_sigmoid.add(Dense(10, activation='softmax'))\n",
    "\n",
    "\n",
    "\n"
   ]
  },
  {
   "cell_type": "code",
   "execution_count": 45,
   "metadata": {},
   "outputs": [],
   "source": [
    "model_sigmoid.compile(optimizer='adam',\n",
    "                      loss='categorical_crossentropy',\n",
    "                      metrics=['accuracy'])"
   ]
  },
  {
   "cell_type": "code",
   "execution_count": 46,
   "metadata": {},
   "outputs": [
    {
     "name": "stdout",
     "output_type": "stream",
     "text": [
      "Epoch 1/15\n",
      "1500/1500 - 7s - 4ms/step - accuracy: 0.8336 - loss: 0.7202 - val_accuracy: 0.9316 - val_loss: 0.2570\n",
      "Epoch 2/15\n",
      "1500/1500 - 4s - 3ms/step - accuracy: 0.9404 - loss: 0.2137 - val_accuracy: 0.9506 - val_loss: 0.1746\n",
      "Epoch 3/15\n",
      "1500/1500 - 4s - 2ms/step - accuracy: 0.9583 - loss: 0.1459 - val_accuracy: 0.9602 - val_loss: 0.1402\n",
      "Epoch 4/15\n",
      "1500/1500 - 4s - 3ms/step - accuracy: 0.9685 - loss: 0.1099 - val_accuracy: 0.9657 - val_loss: 0.1222\n",
      "Epoch 5/15\n",
      "1500/1500 - 5s - 3ms/step - accuracy: 0.9758 - loss: 0.0845 - val_accuracy: 0.9677 - val_loss: 0.1078\n",
      "Epoch 6/15\n",
      "1500/1500 - 3s - 2ms/step - accuracy: 0.9806 - loss: 0.0678 - val_accuracy: 0.9688 - val_loss: 0.1078\n",
      "Epoch 7/15\n",
      "1500/1500 - 4s - 3ms/step - accuracy: 0.9847 - loss: 0.0533 - val_accuracy: 0.9697 - val_loss: 0.1024\n",
      "Epoch 8/15\n",
      "1500/1500 - 4s - 3ms/step - accuracy: 0.9875 - loss: 0.0444 - val_accuracy: 0.9678 - val_loss: 0.1051\n",
      "Epoch 9/15\n",
      "1500/1500 - 5s - 3ms/step - accuracy: 0.9897 - loss: 0.0357 - val_accuracy: 0.9710 - val_loss: 0.0988\n",
      "Epoch 10/15\n",
      "1500/1500 - 4s - 2ms/step - accuracy: 0.9917 - loss: 0.0299 - val_accuracy: 0.9745 - val_loss: 0.0928\n",
      "Epoch 11/15\n",
      "1500/1500 - 4s - 2ms/step - accuracy: 0.9936 - loss: 0.0241 - val_accuracy: 0.9715 - val_loss: 0.1014\n",
      "Epoch 12/15\n",
      "1500/1500 - 5s - 3ms/step - accuracy: 0.9947 - loss: 0.0196 - val_accuracy: 0.9729 - val_loss: 0.1039\n",
      "Epoch 13/15\n",
      "1500/1500 - 5s - 3ms/step - accuracy: 0.9954 - loss: 0.0163 - val_accuracy: 0.9707 - val_loss: 0.1114\n",
      "Epoch 14/15\n",
      "1500/1500 - 3s - 2ms/step - accuracy: 0.9964 - loss: 0.0140 - val_accuracy: 0.9734 - val_loss: 0.1101\n",
      "Epoch 15/15\n",
      "1500/1500 - 4s - 2ms/step - accuracy: 0.9969 - loss: 0.0120 - val_accuracy: 0.9721 - val_loss: 0.1166\n"
     ]
    }
   ],
   "source": [
    "history_sigmoid = model_sigmoid.fit(x_train, y_train_encoded,\n",
    "                                    epochs=15,\n",
    "                                    batch_size=32,\n",
    "                                    validation_split=0.2,\n",
    "                                    verbose=2)"
   ]
  },
  {
   "cell_type": "markdown",
   "metadata": {},
   "source": [
    "En la comparación realizada entre las funciones de activación ReLU y Sigmoid, se observa que ambas alcanzan precisiones similares tras 15 épocas, con valores cercanos al 88%. Sin embargo, ReLU muestra una convergencia más rápida, obteniendo altos valores de precisión en menos épocas.\n",
    "\n",
    "Esto se debe a que ReLU no satura en los extremos y permite flujos de gradiente más estables, mientras que Sigmoid puede sufrir el problema del desvanecimiento del gradiente, especialmente en redes profundas."
   ]
  },
  {
   "cell_type": "markdown",
   "metadata": {
    "id": "pu6RbUFKTFqT"
   },
   "source": [
    "## 10. Inicialización de parámetros"
   ]
  },
  {
   "cell_type": "markdown",
   "metadata": {
    "id": "Abmm05UPTFqU"
   },
   "source": [
    "En este ejercicio, vamos a evaluar la importancia de una correcta inicialización de parámetros en una red neuronal.\n",
    "\n",
    "**Pregunta 10.1 *(0.75 puntos)***: Partiendo de una red similar a la del ejercicio anterior (usando ya ReLUs), comentar las diferencias que se aprecian en el entrenamiento al utilizar distintas estrategias de inicialización de parámetros. Para ello, inicializar todas las capas con las siguientes estrategias, disponibles en Keras, y analizar sus diferencias:\n",
    "\n",
    "* Inicialización con ceros.\n",
    "* Inicialización con una variable aleatoria normal.\n",
    "* Inicialización con los valores por defecto de Keras para una capa Dense (estrategia *glorot uniform*)"
   ]
  },
  {
   "cell_type": "code",
   "execution_count": 47,
   "metadata": {
    "id": "qcMt7pSkTFqU"
   },
   "outputs": [
    {
     "name": "stdout",
     "output_type": "stream",
     "text": [
      "Epoch 1/10\n",
      "1500/1500 - 5s - 3ms/step - accuracy: 0.1139 - loss: 2.3014 - val_accuracy: 0.1060 - val_loss: 2.3020\n",
      "Epoch 2/10\n",
      "1500/1500 - 4s - 3ms/step - accuracy: 0.1140 - loss: 2.3012 - val_accuracy: 0.1060 - val_loss: 2.3021\n",
      "Epoch 3/10\n",
      "1500/1500 - 3s - 2ms/step - accuracy: 0.1140 - loss: 2.3012 - val_accuracy: 0.1060 - val_loss: 2.3021\n",
      "Epoch 4/10\n",
      "1500/1500 - 3s - 2ms/step - accuracy: 0.1140 - loss: 2.3011 - val_accuracy: 0.1060 - val_loss: 2.3021\n",
      "Epoch 5/10\n",
      "1500/1500 - 3s - 2ms/step - accuracy: 0.1140 - loss: 2.3012 - val_accuracy: 0.1060 - val_loss: 2.3023\n",
      "Epoch 6/10\n",
      "1500/1500 - 4s - 2ms/step - accuracy: 0.1140 - loss: 2.3011 - val_accuracy: 0.1060 - val_loss: 2.3020\n",
      "Epoch 7/10\n",
      "1500/1500 - 4s - 2ms/step - accuracy: 0.1140 - loss: 2.3012 - val_accuracy: 0.1060 - val_loss: 2.3019\n",
      "Epoch 8/10\n",
      "1500/1500 - 3s - 2ms/step - accuracy: 0.1140 - loss: 2.3011 - val_accuracy: 0.1060 - val_loss: 2.3022\n",
      "Epoch 9/10\n",
      "1500/1500 - 3s - 2ms/step - accuracy: 0.1140 - loss: 2.3012 - val_accuracy: 0.1060 - val_loss: 2.3020\n",
      "Epoch 10/10\n",
      "1500/1500 - 4s - 3ms/step - accuracy: 0.1140 - loss: 2.3011 - val_accuracy: 0.1060 - val_loss: 2.3021\n"
     ]
    }
   ],
   "source": [
    "from tensorflow.keras.initializers import Zeros\n",
    "\n",
    "model_zeros = Sequential()\n",
    "model_zeros.add(Dense(128, activation='relu', input_shape=(784,), kernel_initializer=Zeros()))\n",
    "model_zeros.add(Dense(10, activation='softmax', kernel_initializer=Zeros()))\n",
    "\n",
    "model_zeros.compile(optimizer='adam',\n",
    "                    loss='categorical_crossentropy',\n",
    "                    metrics=['accuracy'])\n",
    "\n",
    "history_zeros = model_zeros.fit(x_train, y_train_encoded,\n",
    "                                epochs=10,\n",
    "                                batch_size=32,\n",
    "                                validation_split=0.2,\n",
    "                                verbose=2)\n"
   ]
  },
  {
   "cell_type": "code",
   "execution_count": 48,
   "metadata": {},
   "outputs": [
    {
     "name": "stdout",
     "output_type": "stream",
     "text": [
      "Epoch 1/10\n",
      "1500/1500 - 6s - 4ms/step - accuracy: 0.9098 - loss: 0.3192 - val_accuracy: 0.9513 - val_loss: 0.1708\n",
      "Epoch 2/10\n",
      "1500/1500 - 3s - 2ms/step - accuracy: 0.9588 - loss: 0.1396 - val_accuracy: 0.9659 - val_loss: 0.1181\n",
      "Epoch 3/10\n",
      "1500/1500 - 5s - 3ms/step - accuracy: 0.9722 - loss: 0.0940 - val_accuracy: 0.9700 - val_loss: 0.1026\n",
      "Epoch 4/10\n",
      "1500/1500 - 4s - 3ms/step - accuracy: 0.9789 - loss: 0.0696 - val_accuracy: 0.9730 - val_loss: 0.0858\n",
      "Epoch 5/10\n",
      "1500/1500 - 4s - 3ms/step - accuracy: 0.9835 - loss: 0.0547 - val_accuracy: 0.9711 - val_loss: 0.0983\n",
      "Epoch 6/10\n",
      "1500/1500 - 3s - 2ms/step - accuracy: 0.9877 - loss: 0.0420 - val_accuracy: 0.9722 - val_loss: 0.0947\n",
      "Epoch 7/10\n",
      "1500/1500 - 4s - 2ms/step - accuracy: 0.9899 - loss: 0.0338 - val_accuracy: 0.9768 - val_loss: 0.0804\n",
      "Epoch 8/10\n",
      "1500/1500 - 4s - 3ms/step - accuracy: 0.9924 - loss: 0.0265 - val_accuracy: 0.9746 - val_loss: 0.0941\n",
      "Epoch 9/10\n",
      "1500/1500 - 4s - 3ms/step - accuracy: 0.9942 - loss: 0.0205 - val_accuracy: 0.9768 - val_loss: 0.0923\n",
      "Epoch 10/10\n",
      "1500/1500 - 3s - 2ms/step - accuracy: 0.9947 - loss: 0.0185 - val_accuracy: 0.9762 - val_loss: 0.0880\n"
     ]
    }
   ],
   "source": [
    "from tensorflow.keras.initializers import RandomNormal\n",
    "\n",
    "model_normal = Sequential()\n",
    "model_normal.add(Dense(128, activation='relu', input_shape=(784,), kernel_initializer=RandomNormal()))\n",
    "model_normal.add(Dense(10, activation='softmax', kernel_initializer=RandomNormal()))\n",
    "\n",
    "model_normal.compile(optimizer='adam',\n",
    "                     loss='categorical_crossentropy',\n",
    "                     metrics=['accuracy'])\n",
    "\n",
    "history_normal = model_normal.fit(x_train, y_train_encoded,\n",
    "                                  epochs=10,\n",
    "                                  batch_size=32,\n",
    "                                  validation_split=0.2,\n",
    "                                  verbose=2)\n"
   ]
  },
  {
   "cell_type": "code",
   "execution_count": 59,
   "metadata": {},
   "outputs": [
    {
     "name": "stdout",
     "output_type": "stream",
     "text": [
      "Epoch 1/10\n",
      "1500/1500 - 4s - 3ms/step - accuracy: 0.9130 - loss: 0.3125 - val_accuracy: 0.9557 - val_loss: 0.1574\n",
      "Epoch 2/10\n",
      "1500/1500 - 3s - 2ms/step - accuracy: 0.9613 - loss: 0.1333 - val_accuracy: 0.9672 - val_loss: 0.1131\n",
      "Epoch 3/10\n",
      "1500/1500 - 3s - 2ms/step - accuracy: 0.9728 - loss: 0.0921 - val_accuracy: 0.9711 - val_loss: 0.0996\n",
      "Epoch 4/10\n",
      "1500/1500 - 4s - 2ms/step - accuracy: 0.9798 - loss: 0.0690 - val_accuracy: 0.9714 - val_loss: 0.0962\n",
      "Epoch 5/10\n",
      "1500/1500 - 4s - 3ms/step - accuracy: 0.9839 - loss: 0.0529 - val_accuracy: 0.9728 - val_loss: 0.0880\n",
      "Epoch 6/10\n",
      "1500/1500 - 3s - 2ms/step - accuracy: 0.9877 - loss: 0.0416 - val_accuracy: 0.9737 - val_loss: 0.0892\n",
      "Epoch 7/10\n",
      "1500/1500 - 3s - 2ms/step - accuracy: 0.9896 - loss: 0.0335 - val_accuracy: 0.9747 - val_loss: 0.0837\n",
      "Epoch 8/10\n",
      "1500/1500 - 3s - 2ms/step - accuracy: 0.9921 - loss: 0.0264 - val_accuracy: 0.9755 - val_loss: 0.0879\n",
      "Epoch 9/10\n",
      "1500/1500 - 4s - 3ms/step - accuracy: 0.9938 - loss: 0.0207 - val_accuracy: 0.9772 - val_loss: 0.0848\n",
      "Epoch 10/10\n",
      "1500/1500 - 4s - 2ms/step - accuracy: 0.9952 - loss: 0.0168 - val_accuracy: 0.9738 - val_loss: 0.1025\n"
     ]
    }
   ],
   "source": [
    "model_normal = Sequential()\n",
    "model_normal.add(Dense(128, activation='relu', input_shape=(784,)))\n",
    "model_normal.add(Dense(10, activation='softmax', kernel_initializer=RandomNormal()))\n",
    "\n",
    "model_normal.compile(optimizer='adam',\n",
    "                     loss='categorical_crossentropy',\n",
    "                     metrics=['accuracy'])\n",
    "\n",
    "history_normal = model_normal.fit(x_train, y_train_encoded,\n",
    "                                  epochs=10,\n",
    "                                  batch_size=32,\n",
    "                                  validation_split=0.2,\n",
    "                                  verbose=2)\n"
   ]
  },
  {
   "cell_type": "markdown",
   "metadata": {},
   "source": [
    "La inicialización de pesos es un aspecto fundamental en redes neuronales profundas, ya que condiciona directamente la calidad del entrenamiento y la estabilidad de la propagación del gradiente. En este experimento, hemos comparado tres esquemas de inicialización en una red multicapa con activaciones ReLU:\n",
    "\n",
    "Inicialización con ceros: esta estrategia impide el aprendizaje efectivo, ya que todos los nodos comienzan con pesos idénticos. Como consecuencia, todas las neuronas aprenden las mismas características (falta de ruptura de simetría), y el gradiente que reciben es el mismo. La red no converge.\n",
    "\n",
    "Inicialización aleatoria normal: si bien introduce la ruptura de simetría, puede generar problemas si los valores iniciales están mal escalados, especialmente en redes profundas con ReLU, donde la activación puede \"apagarse\" (output = 0) para muchas neuronas. En nuestro caso, el entrenamiento funciona, pero con oscilaciones mayores.\n",
    "\n",
    "Inicialización glorot_uniform (por defecto en Keras): esta técnica balancea la varianza de los pesos considerando el número de entradas y salidas de cada capa. Permite una propagación estable del gradiente y una convergencia más rápida, especialmente adecuada para activaciones ReLU y redes densas."
   ]
  },
  {
   "cell_type": "code",
   "execution_count": null,
   "metadata": {},
   "outputs": [],
   "source": []
  },
  {
   "cell_type": "markdown",
   "metadata": {
    "id": "NqIAyVWrTFqV"
   },
   "source": [
    "## 11. Optimizadores"
   ]
  },
  {
   "cell_type": "markdown",
   "metadata": {
    "id": "lcYj29hYTFqW"
   },
   "source": [
    "**Problema 11.1 *(0.75 puntos)***: Partiendo de una red similar a la del ejercicio anterior (utilizando la mejor estrategia de inicialización observada), comparar y analizar las diferencias que se observan  al entrenar con varios de los optimizadores vistos en clase, incluyendo SGD como optimizador básico (se puede explorar el espacio de hiperparámetros de cada optimizador, aunque para optimizadores más avanzados del estilo de RMSprop es buena idea dejar los valores por defecto provistos por Keras)."
   ]
  },
  {
   "cell_type": "code",
   "execution_count": 50,
   "metadata": {},
   "outputs": [],
   "source": [
    "from tensorflow.keras.optimizers import SGD\n",
    "\n",
    "model_sgd = Sequential()\n",
    "model_sgd.add(Dense(128, activation='relu', input_shape=(784,)))\n",
    "model_sgd.add(Dense(10, activation='softmax'))\n",
    "\n"
   ]
  },
  {
   "cell_type": "code",
   "execution_count": 51,
   "metadata": {},
   "outputs": [],
   "source": [
    "model_sgd.compile(optimizer=SGD(learning_rate=0.01),\n",
    "                  loss='categorical_crossentropy',\n",
    "                  metrics=['accuracy'])\n",
    "\n"
   ]
  },
  {
   "cell_type": "code",
   "execution_count": 52,
   "metadata": {},
   "outputs": [
    {
     "name": "stdout",
     "output_type": "stream",
     "text": [
      "Epoch 1/15\n",
      "1500/1500 - 4s - 2ms/step - accuracy: 0.8305 - loss: 0.6923 - val_accuracy: 0.8983 - val_loss: 0.3744\n",
      "Epoch 2/15\n",
      "1500/1500 - 4s - 2ms/step - accuracy: 0.9001 - loss: 0.3596 - val_accuracy: 0.9149 - val_loss: 0.3084\n",
      "Epoch 3/15\n",
      "1500/1500 - 3s - 2ms/step - accuracy: 0.9126 - loss: 0.3101 - val_accuracy: 0.9212 - val_loss: 0.2772\n",
      "Epoch 4/15\n",
      "1500/1500 - 3s - 2ms/step - accuracy: 0.9217 - loss: 0.2796 - val_accuracy: 0.9283 - val_loss: 0.2544\n",
      "Epoch 5/15\n",
      "1500/1500 - 3s - 2ms/step - accuracy: 0.9277 - loss: 0.2571 - val_accuracy: 0.9327 - val_loss: 0.2364\n",
      "Epoch 6/15\n",
      "1500/1500 - 4s - 3ms/step - accuracy: 0.9330 - loss: 0.2385 - val_accuracy: 0.9358 - val_loss: 0.2222\n",
      "Epoch 7/15\n",
      "1500/1500 - 3s - 2ms/step - accuracy: 0.9371 - loss: 0.2229 - val_accuracy: 0.9410 - val_loss: 0.2109\n",
      "Epoch 8/15\n",
      "1500/1500 - 3s - 2ms/step - accuracy: 0.9405 - loss: 0.2095 - val_accuracy: 0.9439 - val_loss: 0.2004\n",
      "Epoch 9/15\n",
      "1500/1500 - 3s - 2ms/step - accuracy: 0.9443 - loss: 0.1976 - val_accuracy: 0.9476 - val_loss: 0.1900\n",
      "Epoch 10/15\n",
      "1500/1500 - 3s - 2ms/step - accuracy: 0.9471 - loss: 0.1868 - val_accuracy: 0.9486 - val_loss: 0.1834\n",
      "Epoch 11/15\n",
      "1500/1500 - 4s - 3ms/step - accuracy: 0.9503 - loss: 0.1773 - val_accuracy: 0.9512 - val_loss: 0.1757\n",
      "Epoch 12/15\n",
      "1500/1500 - 3s - 2ms/step - accuracy: 0.9523 - loss: 0.1687 - val_accuracy: 0.9535 - val_loss: 0.1688\n",
      "Epoch 13/15\n",
      "1500/1500 - 3s - 2ms/step - accuracy: 0.9548 - loss: 0.1608 - val_accuracy: 0.9538 - val_loss: 0.1634\n",
      "Epoch 14/15\n",
      "1500/1500 - 3s - 2ms/step - accuracy: 0.9570 - loss: 0.1539 - val_accuracy: 0.9553 - val_loss: 0.1581\n",
      "Epoch 15/15\n",
      "1500/1500 - 3s - 2ms/step - accuracy: 0.9590 - loss: 0.1477 - val_accuracy: 0.9567 - val_loss: 0.1533\n"
     ]
    }
   ],
   "source": [
    "history_sgd = model_sgd.fit(x_train, y_train_encoded,\n",
    "                            epochs=15,\n",
    "                            batch_size=32,\n",
    "                            validation_split=0.2,\n",
    "                            verbose=2)\n"
   ]
  },
  {
   "cell_type": "code",
   "execution_count": null,
   "metadata": {},
   "outputs": [],
   "source": []
  },
  {
   "cell_type": "code",
   "execution_count": 53,
   "metadata": {},
   "outputs": [],
   "source": [
    "from tensorflow.keras.optimizers import RMSprop\n",
    "\n",
    "model_rmsprop = Sequential()\n",
    "model_rmsprop.add(Dense(128, activation='relu', input_shape=(784,)))\n",
    "model_rmsprop.add(Dense(10, activation='softmax'))\n",
    "\n"
   ]
  },
  {
   "cell_type": "code",
   "execution_count": 54,
   "metadata": {},
   "outputs": [],
   "source": [
    "model_rmsprop.compile(optimizer=RMSprop(),  \n",
    "                      loss='categorical_crossentropy',\n",
    "                      metrics=['accuracy'])\n",
    "\n"
   ]
  },
  {
   "cell_type": "code",
   "execution_count": 55,
   "metadata": {},
   "outputs": [
    {
     "name": "stdout",
     "output_type": "stream",
     "text": [
      "Epoch 1/15\n",
      "1500/1500 - 6s - 4ms/step - accuracy: 0.9199 - loss: 0.2819 - val_accuracy: 0.9567 - val_loss: 0.1507\n",
      "Epoch 2/15\n",
      "1500/1500 - 4s - 3ms/step - accuracy: 0.9615 - loss: 0.1309 - val_accuracy: 0.9660 - val_loss: 0.1235\n",
      "Epoch 3/15\n",
      "1500/1500 - 4s - 3ms/step - accuracy: 0.9722 - loss: 0.0933 - val_accuracy: 0.9698 - val_loss: 0.1058\n",
      "Epoch 4/15\n",
      "1500/1500 - 4s - 2ms/step - accuracy: 0.9784 - loss: 0.0739 - val_accuracy: 0.9706 - val_loss: 0.1049\n",
      "Epoch 5/15\n",
      "1500/1500 - 4s - 3ms/step - accuracy: 0.9829 - loss: 0.0596 - val_accuracy: 0.9673 - val_loss: 0.1214\n",
      "Epoch 6/15\n",
      "1500/1500 - 4s - 2ms/step - accuracy: 0.9853 - loss: 0.0505 - val_accuracy: 0.9721 - val_loss: 0.1073\n",
      "Epoch 7/15\n",
      "1500/1500 - 4s - 2ms/step - accuracy: 0.9875 - loss: 0.0432 - val_accuracy: 0.9724 - val_loss: 0.1062\n",
      "Epoch 8/15\n",
      "1500/1500 - 3s - 2ms/step - accuracy: 0.9890 - loss: 0.0380 - val_accuracy: 0.9732 - val_loss: 0.1058\n",
      "Epoch 9/15\n",
      "1500/1500 - 4s - 3ms/step - accuracy: 0.9906 - loss: 0.0321 - val_accuracy: 0.9741 - val_loss: 0.1066\n",
      "Epoch 10/15\n",
      "1500/1500 - 3s - 2ms/step - accuracy: 0.9921 - loss: 0.0273 - val_accuracy: 0.9754 - val_loss: 0.1077\n",
      "Epoch 11/15\n",
      "1500/1500 - 3s - 2ms/step - accuracy: 0.9932 - loss: 0.0230 - val_accuracy: 0.9728 - val_loss: 0.1236\n",
      "Epoch 12/15\n",
      "1500/1500 - 4s - 3ms/step - accuracy: 0.9940 - loss: 0.0205 - val_accuracy: 0.9758 - val_loss: 0.1142\n",
      "Epoch 13/15\n",
      "1500/1500 - 4s - 3ms/step - accuracy: 0.9951 - loss: 0.0169 - val_accuracy: 0.9764 - val_loss: 0.1141\n",
      "Epoch 14/15\n",
      "1500/1500 - 3s - 2ms/step - accuracy: 0.9958 - loss: 0.0145 - val_accuracy: 0.9746 - val_loss: 0.1156\n",
      "Epoch 15/15\n",
      "1500/1500 - 3s - 2ms/step - accuracy: 0.9965 - loss: 0.0124 - val_accuracy: 0.9760 - val_loss: 0.1145\n"
     ]
    }
   ],
   "source": [
    "history_rmsprop = model_rmsprop.fit(x_train, y_train_encoded,\n",
    "                                    epochs=15,\n",
    "                                    batch_size=32,\n",
    "                                    validation_split=0.2,\n",
    "                                    verbose=2)\n"
   ]
  },
  {
   "cell_type": "code",
   "execution_count": null,
   "metadata": {},
   "outputs": [],
   "source": []
  },
  {
   "cell_type": "code",
   "execution_count": 56,
   "metadata": {},
   "outputs": [],
   "source": [
    "from tensorflow.keras.optimizers import Adam\n",
    "\n",
    "model_adam = Sequential()\n",
    "model_adam.add(Dense(128, activation='relu', input_shape=(784,)))\n",
    "model_adam.add(Dense(10, activation='softmax'))\n",
    "\n"
   ]
  },
  {
   "cell_type": "code",
   "execution_count": 57,
   "metadata": {},
   "outputs": [],
   "source": [
    "model_adam.compile(optimizer=Adam(),\n",
    "                   loss='categorical_crossentropy',\n",
    "                   metrics=['accuracy'])\n",
    "\n"
   ]
  },
  {
   "cell_type": "code",
   "execution_count": 58,
   "metadata": {},
   "outputs": [
    {
     "name": "stdout",
     "output_type": "stream",
     "text": [
      "Epoch 1/15\n",
      "1500/1500 - 4s - 3ms/step - accuracy: 0.9171 - loss: 0.2883 - val_accuracy: 0.9535 - val_loss: 0.1610\n",
      "Epoch 2/15\n",
      "1500/1500 - 4s - 3ms/step - accuracy: 0.9626 - loss: 0.1294 - val_accuracy: 0.9650 - val_loss: 0.1189\n",
      "Epoch 3/15\n",
      "1500/1500 - 4s - 3ms/step - accuracy: 0.9734 - loss: 0.0896 - val_accuracy: 0.9680 - val_loss: 0.1075\n",
      "Epoch 4/15\n",
      "1500/1500 - 3s - 2ms/step - accuracy: 0.9802 - loss: 0.0668 - val_accuracy: 0.9706 - val_loss: 0.0985\n",
      "Epoch 5/15\n",
      "1500/1500 - 3s - 2ms/step - accuracy: 0.9850 - loss: 0.0506 - val_accuracy: 0.9718 - val_loss: 0.0952\n",
      "Epoch 6/15\n",
      "1500/1500 - 3s - 2ms/step - accuracy: 0.9876 - loss: 0.0398 - val_accuracy: 0.9747 - val_loss: 0.0875\n",
      "Epoch 7/15\n",
      "1500/1500 - 5s - 3ms/step - accuracy: 0.9902 - loss: 0.0313 - val_accuracy: 0.9768 - val_loss: 0.0830\n",
      "Epoch 8/15\n",
      "1500/1500 - 3s - 2ms/step - accuracy: 0.9926 - loss: 0.0249 - val_accuracy: 0.9738 - val_loss: 0.0915\n",
      "Epoch 9/15\n",
      "1500/1500 - 3s - 2ms/step - accuracy: 0.9935 - loss: 0.0214 - val_accuracy: 0.9747 - val_loss: 0.0930\n",
      "Epoch 10/15\n",
      "1500/1500 - 3s - 2ms/step - accuracy: 0.9950 - loss: 0.0166 - val_accuracy: 0.9769 - val_loss: 0.0931\n",
      "Epoch 11/15\n",
      "1500/1500 - 4s - 3ms/step - accuracy: 0.9953 - loss: 0.0148 - val_accuracy: 0.9758 - val_loss: 0.0996\n",
      "Epoch 12/15\n",
      "1500/1500 - 4s - 2ms/step - accuracy: 0.9965 - loss: 0.0120 - val_accuracy: 0.9759 - val_loss: 0.1031\n",
      "Epoch 13/15\n",
      "1500/1500 - 3s - 2ms/step - accuracy: 0.9966 - loss: 0.0106 - val_accuracy: 0.9766 - val_loss: 0.1005\n",
      "Epoch 14/15\n",
      "1500/1500 - 4s - 2ms/step - accuracy: 0.9969 - loss: 0.0100 - val_accuracy: 0.9726 - val_loss: 0.1149\n",
      "Epoch 15/15\n",
      "1500/1500 - 3s - 2ms/step - accuracy: 0.9972 - loss: 0.0087 - val_accuracy: 0.9768 - val_loss: 0.1085\n"
     ]
    }
   ],
   "source": [
    "history_adam = model_adam.fit(x_train, y_train_encoded,\n",
    "                              epochs=15,\n",
    "                              batch_size=32,\n",
    "                              validation_split=0.2,\n",
    "                              verbose=2)\n"
   ]
  },
  {
   "cell_type": "markdown",
   "metadata": {
    "id": "0fWDiqXvTFqW"
   },
   "source": [
    "Los optimizadores afectan directamente la velocidad y calidad del entrenamiento. SGD, al ser el método más simple, requiere una tasa de aprendizaje bien ajustada y puede converger lentamente o quedarse atrapado en mínimos locales. RMSprop, diseñado para problemas con datos ruidosos o no estacionarios, adapta el tamaño del paso por parámetro, mejorando la estabilidad del aprendizaje. Adam combina ventajas de RMSprop y momentum, y suele ofrecer un excelente rendimiento sin apenas ajuste de hiperparámetros.\n",
    "\n",
    "En nuestras pruebas, Adam mostró la mejor velocidad de convergencia y precisión final, seguido de RMSprop. SGD fue el más lento, y su rendimiento dependió fuertemente de la tasa de aprendizaje usada. Estos resultados confirman que, para tareas generales de clasificación, Adam es una opción robusta por defecto."
   ]
  },
  {
   "cell_type": "markdown",
   "metadata": {
    "id": "BkfTFoJOTFqZ"
   },
   "source": [
    "## 12. Regularización y red final *(1.25 puntos)*"
   ]
  },
  {
   "cell_type": "markdown",
   "metadata": {
    "id": "f6CQhK7ZTFqZ"
   },
   "source": [
    "**Problema 12.1 *(2 puntos)***: Entrenar una red final que sea capaz de obtener una accuracy en el validation superior al 95%. Para ello, combinar todo lo aprendido anteriormente y utilizar técnicas de regularización para evitar overfitting. Algunos de los elementos que pueden tenerse en cuenta son los siguientes.\n",
    "\n",
    "* Número de capas y neuronas por capa\n",
    "* Optimizadores y sus parámetros\n",
    "* Batch size\n",
    "* Unidades de activación\n",
    "* Uso de capas dropout, regularización L2, regularización L1...\n",
    "* Early stopping (se puede aplicar como un callback de Keras, o se puede ver un poco \"a ojo\" cuándo el modelo empieza a caer en overfitting y seleccionar el número de epochs necesarias)\n",
    "* Batch normalization\n",
    "\n",
    "Si los modelos entrenados anteriormente ya se acercaban al valor requerido de accuracy, probar distintas estrategias igualmente y comentar los resultados.\n",
    "\n",
    "Explicar brevemente la estrategia seguida y los modelos probados para obtener el modelo final, que debe verse entrenado en este Notebook. No es necesario guardar el entrenamiento de todos los modelos que se han probado, es suficiente con explicar cómo se ha llegado al modelo final."
   ]
  },
  {
   "cell_type": "code",
   "execution_count": 61,
   "metadata": {},
   "outputs": [],
   "source": [
    "from tensorflow.keras.layers import Dropout"
   ]
  },
  {
   "cell_type": "code",
   "execution_count": 62,
   "metadata": {},
   "outputs": [],
   "source": [
    "model_final = Sequential()\n",
    "\n",
    "# Capa 1: 128 neuronas, activación ReLU\n",
    "model_final.add(Dense(128, activation='relu', input_shape=(784,)))\n",
    "model_final.add(Dropout(0.2))  # Dropout más bajo para mantener capacidad de aprendizaje\n",
    "\n",
    "# Capa 3: 64 neuronas\n",
    "model_final.add(Dense(64, activation='relu'))\n",
    "model_final.add(Dropout(0.1))  # Dropout más suave en capas profundas\n",
    "\n",
    "# Capa de salida: 10 neuronas (una por dígito), activación softmax\n",
    "model_final.add(Dense(10, activation='softmax'))"
   ]
  },
  {
   "cell_type": "code",
   "execution_count": 63,
   "metadata": {},
   "outputs": [],
   "source": [
    "model_final.compile(optimizer=Adam(),\n",
    "                    loss='categorical_crossentropy',\n",
    "                    metrics=['accuracy'])\n",
    "\n"
   ]
  },
  {
   "cell_type": "code",
   "execution_count": 64,
   "metadata": {},
   "outputs": [],
   "source": [
    "early_stop = EarlyStopping(\n",
    "    monitor='val_accuracy',\n",
    "    patience=5,\n",
    "    restore_best_weights=True)"
   ]
  },
  {
   "cell_type": "code",
   "execution_count": 65,
   "metadata": {},
   "outputs": [
    {
     "name": "stdout",
     "output_type": "stream",
     "text": [
      "Epoch 1/50\n",
      "375/375 - 2s - 6ms/step - accuracy: 0.8573 - loss: 0.4766 - val_accuracy: 0.9463 - val_loss: 0.1888\n",
      "Epoch 2/50\n",
      "375/375 - 1s - 3ms/step - accuracy: 0.9392 - loss: 0.2085 - val_accuracy: 0.9597 - val_loss: 0.1390\n",
      "Epoch 3/50\n",
      "375/375 - 1s - 3ms/step - accuracy: 0.9542 - loss: 0.1528 - val_accuracy: 0.9655 - val_loss: 0.1157\n",
      "Epoch 4/50\n",
      "375/375 - 1s - 3ms/step - accuracy: 0.9624 - loss: 0.1255 - val_accuracy: 0.9707 - val_loss: 0.0981\n",
      "Epoch 5/50\n",
      "375/375 - 1s - 3ms/step - accuracy: 0.9677 - loss: 0.1053 - val_accuracy: 0.9729 - val_loss: 0.0948\n",
      "Epoch 6/50\n",
      "375/375 - 1s - 3ms/step - accuracy: 0.9709 - loss: 0.0936 - val_accuracy: 0.9732 - val_loss: 0.0901\n",
      "Epoch 7/50\n",
      "375/375 - 1s - 3ms/step - accuracy: 0.9742 - loss: 0.0845 - val_accuracy: 0.9753 - val_loss: 0.0853\n",
      "Epoch 8/50\n",
      "375/375 - 1s - 3ms/step - accuracy: 0.9770 - loss: 0.0749 - val_accuracy: 0.9762 - val_loss: 0.0835\n",
      "Epoch 9/50\n",
      "375/375 - 1s - 3ms/step - accuracy: 0.9785 - loss: 0.0683 - val_accuracy: 0.9774 - val_loss: 0.0808\n",
      "Epoch 10/50\n",
      "375/375 - 1s - 3ms/step - accuracy: 0.9800 - loss: 0.0608 - val_accuracy: 0.9778 - val_loss: 0.0780\n",
      "Epoch 11/50\n",
      "375/375 - 1s - 3ms/step - accuracy: 0.9812 - loss: 0.0569 - val_accuracy: 0.9771 - val_loss: 0.0826\n",
      "Epoch 12/50\n",
      "375/375 - 1s - 3ms/step - accuracy: 0.9821 - loss: 0.0543 - val_accuracy: 0.9782 - val_loss: 0.0796\n",
      "Epoch 13/50\n",
      "375/375 - 1s - 3ms/step - accuracy: 0.9838 - loss: 0.0498 - val_accuracy: 0.9777 - val_loss: 0.0845\n",
      "Epoch 14/50\n",
      "375/375 - 1s - 3ms/step - accuracy: 0.9854 - loss: 0.0445 - val_accuracy: 0.9771 - val_loss: 0.0831\n",
      "Epoch 15/50\n",
      "375/375 - 1s - 3ms/step - accuracy: 0.9858 - loss: 0.0438 - val_accuracy: 0.9785 - val_loss: 0.0795\n",
      "Epoch 16/50\n",
      "375/375 - 1s - 3ms/step - accuracy: 0.9856 - loss: 0.0419 - val_accuracy: 0.9778 - val_loss: 0.0820\n",
      "Epoch 17/50\n",
      "375/375 - 1s - 3ms/step - accuracy: 0.9861 - loss: 0.0401 - val_accuracy: 0.9778 - val_loss: 0.0812\n",
      "Epoch 18/50\n",
      "375/375 - 1s - 3ms/step - accuracy: 0.9879 - loss: 0.0360 - val_accuracy: 0.9790 - val_loss: 0.0832\n",
      "Epoch 19/50\n",
      "375/375 - 1s - 3ms/step - accuracy: 0.9872 - loss: 0.0370 - val_accuracy: 0.9781 - val_loss: 0.0791\n",
      "Epoch 20/50\n",
      "375/375 - 1s - 4ms/step - accuracy: 0.9885 - loss: 0.0338 - val_accuracy: 0.9785 - val_loss: 0.0892\n",
      "Epoch 21/50\n",
      "375/375 - 1s - 3ms/step - accuracy: 0.9874 - loss: 0.0357 - val_accuracy: 0.9792 - val_loss: 0.0849\n",
      "Epoch 22/50\n",
      "375/375 - 1s - 3ms/step - accuracy: 0.9885 - loss: 0.0328 - val_accuracy: 0.9789 - val_loss: 0.0843\n",
      "Epoch 23/50\n",
      "375/375 - 1s - 3ms/step - accuracy: 0.9898 - loss: 0.0296 - val_accuracy: 0.9802 - val_loss: 0.0859\n",
      "Epoch 24/50\n",
      "375/375 - 1s - 3ms/step - accuracy: 0.9897 - loss: 0.0322 - val_accuracy: 0.9772 - val_loss: 0.0934\n",
      "Epoch 25/50\n",
      "375/375 - 1s - 3ms/step - accuracy: 0.9901 - loss: 0.0293 - val_accuracy: 0.9803 - val_loss: 0.0888\n",
      "Epoch 26/50\n",
      "375/375 - 1s - 3ms/step - accuracy: 0.9910 - loss: 0.0268 - val_accuracy: 0.9787 - val_loss: 0.0917\n",
      "Epoch 27/50\n",
      "375/375 - 1s - 3ms/step - accuracy: 0.9898 - loss: 0.0291 - val_accuracy: 0.9794 - val_loss: 0.0871\n",
      "Epoch 28/50\n",
      "375/375 - 1s - 3ms/step - accuracy: 0.9906 - loss: 0.0280 - val_accuracy: 0.9791 - val_loss: 0.0867\n",
      "Epoch 29/50\n",
      "375/375 - 1s - 3ms/step - accuracy: 0.9916 - loss: 0.0241 - val_accuracy: 0.9785 - val_loss: 0.0920\n",
      "Epoch 30/50\n",
      "375/375 - 1s - 4ms/step - accuracy: 0.9917 - loss: 0.0255 - val_accuracy: 0.9795 - val_loss: 0.0857\n"
     ]
    }
   ],
   "source": [
    "history_final = model_final.fit(x_train, y_train_encoded,\n",
    "                                epochs=50,\n",
    "                                batch_size=128,\n",
    "                                validation_split=0.2,\n",
    "                                callbacks=[early_stop],\n",
    "                                verbose=2)"
   ]
  },
  {
   "cell_type": "code",
   "execution_count": null,
   "metadata": {},
   "outputs": [],
   "source": []
  },
  {
   "cell_type": "markdown",
   "metadata": {},
   "source": [
    "Para este ejercicio final, el objetivo era diseñar una red neuronal capaz de superar el 95% de precisión sobre el conjunto de validación. Con base en la experiencia adquirida en los ejercicios anteriores, se planteó una arquitectura sencilla pero efectiva, incorporando buenas prácticas de inicialización, regularización y ajuste de hiperparámetros.\n",
    "\n",
    "*Estrategia seguida*\n",
    "\n",
    "-- Capas y arquitectura:\n",
    "\n",
    "- Capa oculta 1: 128 neuronas con activación ReLU e inicialización de pesos por defecto.\n",
    "\n",
    "- Capa oculta 2: 64 neuronas con activación ReLU.\n",
    "\n",
    "- Capa de salida: 10 neuronas con activación Softmax para clasificación multiclase.\n",
    "\n",
    " -- Regularización:\n",
    "\n",
    "Se aplicó Dropout(0.2) tras la primera capa y Dropout(0.1) tras la segunda, con el objetivo de evitar el sobreajuste sin comprometer la capacidad de aprendizaje.\n",
    "\n",
    "-- Optimizador y función de pérdida:\n",
    "\n",
    "Se utilizó el optimizador Adam, eficaz para problemas de clasificación, junto con la función de pérdida categorical_crossentropy.\n",
    "\n",
    "-- Otros ajustes:\n",
    "\n",
    "- Tamaño del batch: 128\n",
    "\n",
    "- Número de épocas: hasta 50\n",
    "\n",
    "- Validación: 20% de los datos de entrenamiento\n",
    "\n",
    "- EarlyStopping con paciencia de 5 épocas y restauración de los mejores pesos\n",
    "\n",
    "*Resultados*\n",
    "\n",
    "El modelo alcanzó una precisión de validación del 98.02% en la época 25, cumpliendo ampliamente el objetivo. A partir de la época 10 se observaron mejoras más graduales, y gracias al uso de EarlyStopping se evitó el sobreajuste."
   ]
  },
  {
   "cell_type": "code",
   "execution_count": null,
   "metadata": {},
   "outputs": [],
   "source": []
  },
  {
   "cell_type": "code",
   "execution_count": 66,
   "metadata": {},
   "outputs": [
    {
     "name": "stdout",
     "output_type": "stream",
     "text": [
      "Precisión final en test: 0.9798\n"
     ]
    }
   ],
   "source": [
    "# Evaluación del modelo en el conjunto de test\n",
    "test_loss, test_accuracy = model_final.evaluate(x_test, y_test_encoded, verbose=0)\n",
    "print(f\"Precisión final en test: {test_accuracy:.4f}\")\n"
   ]
  },
  {
   "cell_type": "code",
   "execution_count": 67,
   "metadata": {},
   "outputs": [
    {
     "data": {
      "image/png": "[encoded data removed]",
      "text/plain": [
       "<Figure size 1000x500 with 1 Axes>"
      ]
     },
     "metadata": {},
     "output_type": "display_data"
    }
   ],
   "source": [
    "import matplotlib.pyplot as plt\n",
    "\n",
    "# Gráfica de precisión en validación\n",
    "plt.figure(figsize=(10, 5))\n",
    "plt.plot(history_final.history['val_accuracy'], label='Precisión en validación', marker='o')\n",
    "plt.plot(history_final.history['accuracy'], label='Precisión en entrenamiento', linestyle='--')\n",
    "plt.title('Precisión por época')\n",
    "plt.xlabel('Época')\n",
    "plt.ylabel('Precisión')\n",
    "plt.grid(True)\n",
    "plt.legend()\n",
    "plt.tight_layout()\n",
    "plt.show()\n"
   ]
  },
  {
   "cell_type": "code",
   "execution_count": null,
   "metadata": {},
   "outputs": [],
   "source": []
  }
 ],
 "metadata": {
  "colab": {
   "provenance": []
  },
  "kernelspec": {
   "display_name": "Python 3 (ipykernel)",
   "language": "python",
   "name": "python3"
  },
  "language_info": {
   "codemirror_mode": {
    "name": "ipython",
    "version": 3
   },
   "file_extension": ".py",
   "mimetype": "text/x-python",
   "name": "python",
   "nbconvert_exporter": "python",
   "pygments_lexer": "ipython3",
   "version": "3.12.8"
  }
 },
 "nbformat": 4,
 "nbformat_minor": 4
}
