{
 "cells": [
  {
   "cell_type": "markdown",
   "metadata": {},
   "source": [
    "**Actividad presentada por:**\n",
    "- Pedro Durán Porras\n",
    "- Andoni Alonso Gandariasbeiteia\n",
    "- Marta Izquierdo Franco\n",
    "- Noelia Seco Redondo\n",
    "- Sergio Naranjo Fernández"
   ]
  },
  {
   "cell_type": "markdown",
   "metadata": {
    "id": "KVfeIL4OiTON"
   },
   "source": [
    "# ACTIVIDAD 3 (GRUPAL): REDES NEURONALES RECURRENTES (RNN)\n",
    "\n",
    "---\n",
    "\n",
    "En esta actividad grupal, vamos a utilizar las RNN para identificar la intensidad de odio en mensajes escritos en las redes sociales. Esta actividad forma parte del proyecto transversal del Máster, ¡así que seguro que ya estás familiarizado/a con el dataset!\n",
    "\n",
    "Por sencillez, se adjunta un documento csv que es una versión resumida del dataset original del proyecto transversal. En este dataset, solo se incluyen los mensajes que han sido catalogados como contenedores de odio. También se han eliminado las features innecesarias para este trabajo simplemente para hacer todo el proceso más rápido computacionalmente hablando.\n",
    "\n",
    "El dataset a utilizar consiste en 12280 mensajes de odio. Los mensajes pueden pertenecer a cinco categorias (numeradadas del 1 al 5), siendo 1 la menor intensidadd y 5 la mayor intensidad de odio del mensaje. El dataset ya ha sido procesado para eliminar ciertos caracteres que podrían darte problemas y para utilizar una codificación más amigable."
   ]
  },
  {
   "cell_type": "markdown",
   "metadata": {
    "id": "Qeb4aqTDjtZu"
   },
   "source": [
    "Empezamos, como siempre, incluyendo todo lo que vamos a necesitar. Según lo que vayas a hacer, es posible que necesites incluir alguna librería extra."
   ]
  },
  {
   "cell_type": "code",
   "execution_count": 1,
   "metadata": {
    "colab": {
     "base_uri": "https://localhost:8080/"
    },
    "id": "2gvn3m1cgZ7-",
    "outputId": "f7a3887a-3542-4e99-8c45-353e8b2443f2"
   },
   "outputs": [
    {
     "name": "stderr",
     "output_type": "stream",
     "text": [
      "[nltk_data] Downloading package stopwords to\n",
      "[nltk_data]     C:\\Users\\Pedro\\AppData\\Roaming\\nltk_data...\n",
      "[nltk_data]   Package stopwords is already up-to-date!\n",
      "[nltk_data] Downloading package wordnet to\n",
      "[nltk_data]     C:\\Users\\Pedro\\AppData\\Roaming\\nltk_data...\n",
      "[nltk_data]   Package wordnet is already up-to-date!\n"
     ]
    }
   ],
   "source": [
    "import tensorflow as tf\n",
    "from tensorflow import keras\n",
    "from keras import layers\n",
    "\n",
    "import matplotlib.pyplot as plt\n",
    "import pandas as pd\n",
    "import numpy as np\n",
    "import string\n",
    "import re\n",
    "import nltk\n",
    "nltk.download('stopwords')\n",
    "nltk.download('wordnet')\n",
    "\n",
    "from nltk.stem import WordNetLemmatizer\n",
    "from nltk.corpus import stopwords\n",
    "\n",
    "from sklearn.model_selection import train_test_split\n",
    "from tensorflow.keras.preprocessing.text import Tokenizer\n",
    "from tensorflow.keras.preprocessing.sequence import pad_sequences\n",
    "\n",
    "# Nuevas librerías\n",
    "from sklearn.utils import class_weight\n",
    "from tensorflow.keras.callbacks import EarlyStopping\n",
    "\n",
    "from sklearn.metrics import classification_report, confusion_matrix\n",
    "import seaborn as sns\n",
    "\n",
    "from sklearn.metrics import roc_curve, auc\n",
    "from sklearn.preprocessing import label_binarize\n",
    "from itertools import cycle"
   ]
  },
  {
   "cell_type": "markdown",
   "metadata": {
    "id": "_xvORCesj6S3"
   },
   "source": [
    "Cargamos el dataset. Lo encontrarás adjunto a este Notebook, al descargar la actividad del Campus Virtual."
   ]
  },
  {
   "cell_type": "code",
   "execution_count": 2,
   "metadata": {
    "id": "sI11OfLxgh9H"
   },
   "outputs": [
    {
     "data": {
      "text/html": [
       "<div>\n",
       "<style scoped>\n",
       "    .dataframe tbody tr th:only-of-type {\n",
       "        vertical-align: middle;\n",
       "    }\n",
       "\n",
       "    .dataframe tbody tr th {\n",
       "        vertical-align: top;\n",
       "    }\n",
       "\n",
       "    .dataframe thead th {\n",
       "        text-align: right;\n",
       "    }\n",
       "</style>\n",
       "<table border=\"1\" class=\"dataframe\">\n",
       "  <thead>\n",
       "    <tr style=\"text-align: right;\">\n",
       "      <th></th>\n",
       "      <th>CONTENIDO A ANALIZAR</th>\n",
       "      <th>INTENSIDAD</th>\n",
       "    </tr>\n",
       "  </thead>\n",
       "  <tbody>\n",
       "    <tr>\n",
       "      <th>0</th>\n",
       "      <td>cristina cifuentes podrí­a haber sido la presi...</td>\n",
       "      <td>3</td>\n",
       "    </tr>\n",
       "    <tr>\n",
       "      <th>1</th>\n",
       "      <td>habrí­a que reabrir el caso. el supremo se ded...</td>\n",
       "      <td>3</td>\n",
       "    </tr>\n",
       "    <tr>\n",
       "      <th>2</th>\n",
       "      <td>me parece un poco exagerado pedir más de tres ...</td>\n",
       "      <td>3</td>\n",
       "    </tr>\n",
       "    <tr>\n",
       "      <th>3</th>\n",
       "      <td>parece que todos los delincuentes niegan las e...</td>\n",
       "      <td>3</td>\n",
       "    </tr>\n",
       "    <tr>\n",
       "      <th>4</th>\n",
       "      <td>preguntárselo al fracasado, media carrera en 6...</td>\n",
       "      <td>4</td>\n",
       "    </tr>\n",
       "  </tbody>\n",
       "</table>\n",
       "</div>"
      ],
      "text/plain": [
       "                                CONTENIDO A ANALIZAR  INTENSIDAD\n",
       "0  cristina cifuentes podrí­a haber sido la presi...           3\n",
       "1  habrí­a que reabrir el caso. el supremo se ded...           3\n",
       "2  me parece un poco exagerado pedir más de tres ...           3\n",
       "3  parece que todos los delincuentes niegan las e...           3\n",
       "4  preguntárselo al fracasado, media carrera en 6...           4"
      ]
     },
     "execution_count": 2,
     "metadata": {},
     "output_type": "execute_result"
    }
   ],
   "source": [
    "# Leemos el fichero\n",
    "data = pd.read_csv('dataset.csv', sep=\";\", encoding='utf-8')\n",
    "# Mostramos las 5 primeras filas\n",
    "data.head()"
   ]
  },
  {
   "cell_type": "markdown",
   "metadata": {
    "id": "WYJWQvEqkB2B"
   },
   "source": [
    "Cambiamos el nombre de las features para hacer su manejo más amigable:"
   ]
  },
  {
   "cell_type": "code",
   "execution_count": 3,
   "metadata": {
    "id": "nTawYDb6NmmH"
   },
   "outputs": [
    {
     "data": {
      "text/html": [
       "<div>\n",
       "<style scoped>\n",
       "    .dataframe tbody tr th:only-of-type {\n",
       "        vertical-align: middle;\n",
       "    }\n",
       "\n",
       "    .dataframe tbody tr th {\n",
       "        vertical-align: top;\n",
       "    }\n",
       "\n",
       "    .dataframe thead th {\n",
       "        text-align: right;\n",
       "    }\n",
       "</style>\n",
       "<table border=\"1\" class=\"dataframe\">\n",
       "  <thead>\n",
       "    <tr style=\"text-align: right;\">\n",
       "      <th></th>\n",
       "      <th>mensaje</th>\n",
       "      <th>intensidad</th>\n",
       "    </tr>\n",
       "  </thead>\n",
       "  <tbody>\n",
       "    <tr>\n",
       "      <th>0</th>\n",
       "      <td>cristina cifuentes podrí­a haber sido la presi...</td>\n",
       "      <td>3</td>\n",
       "    </tr>\n",
       "    <tr>\n",
       "      <th>1</th>\n",
       "      <td>habrí­a que reabrir el caso. el supremo se ded...</td>\n",
       "      <td>3</td>\n",
       "    </tr>\n",
       "    <tr>\n",
       "      <th>2</th>\n",
       "      <td>me parece un poco exagerado pedir más de tres ...</td>\n",
       "      <td>3</td>\n",
       "    </tr>\n",
       "    <tr>\n",
       "      <th>3</th>\n",
       "      <td>parece que todos los delincuentes niegan las e...</td>\n",
       "      <td>3</td>\n",
       "    </tr>\n",
       "    <tr>\n",
       "      <th>4</th>\n",
       "      <td>preguntárselo al fracasado, media carrera en 6...</td>\n",
       "      <td>4</td>\n",
       "    </tr>\n",
       "  </tbody>\n",
       "</table>\n",
       "</div>"
      ],
      "text/plain": [
       "                                             mensaje  intensidad\n",
       "0  cristina cifuentes podrí­a haber sido la presi...           3\n",
       "1  habrí­a que reabrir el caso. el supremo se ded...           3\n",
       "2  me parece un poco exagerado pedir más de tres ...           3\n",
       "3  parece que todos los delincuentes niegan las e...           3\n",
       "4  preguntárselo al fracasado, media carrera en 6...           4"
      ]
     },
     "execution_count": 3,
     "metadata": {},
     "output_type": "execute_result"
    }
   ],
   "source": [
    "data = data.rename(columns={'CONTENIDO A ANALIZAR': 'mensaje', 'INTENSIDAD': 'intensidad'})\n",
    "data.head()"
   ]
  },
  {
   "cell_type": "markdown",
   "metadata": {
    "id": "rSrgxwcHkIpk"
   },
   "source": [
    "Mostramos información básica para saber a qué nos enfrentamos:"
   ]
  },
  {
   "cell_type": "code",
   "execution_count": 4,
   "metadata": {
    "id": "D8sOe2k-jb9r"
   },
   "outputs": [
    {
     "data": {
      "text/plain": [
       "(12279, 2)"
      ]
     },
     "execution_count": 4,
     "metadata": {},
     "output_type": "execute_result"
    }
   ],
   "source": [
    "data.shape"
   ]
  },
  {
   "cell_type": "code",
   "execution_count": 5,
   "metadata": {
    "id": "r70C7LsWnOTP"
   },
   "outputs": [
    {
     "name": "stdout",
     "output_type": "stream",
     "text": [
      "<class 'pandas.core.frame.DataFrame'>\n",
      "RangeIndex: 12279 entries, 0 to 12278\n",
      "Data columns (total 2 columns):\n",
      " #   Column      Non-Null Count  Dtype \n",
      "---  ------      --------------  ----- \n",
      " 0   mensaje     12279 non-null  object\n",
      " 1   intensidad  12279 non-null  int64 \n",
      "dtypes: int64(1), object(1)\n",
      "memory usage: 192.0+ KB\n"
     ]
    }
   ],
   "source": [
    "data.info()"
   ]
  },
  {
   "cell_type": "markdown",
   "metadata": {
    "id": "uDpDVmNAkNDZ"
   },
   "source": [
    "Mostramos ahora la distribución de mensajes de acuerdo a su intensidad. Verás rápidamente que estamos en problemas: hay un gran desbalanceo."
   ]
  },
  {
   "cell_type": "code",
   "execution_count": 6,
   "metadata": {
    "id": "HATeYyBcnTry"
   },
   "outputs": [
    {
     "data": {
      "image/png": "[encoded data removed]",
      "text/plain": [
       "<Figure size 640x480 with 1 Axes>"
      ]
     },
     "metadata": {},
     "output_type": "display_data"
    }
   ],
   "source": [
    "plt.pie(data['intensidad'].value_counts().values,\n",
    "        labels = data['intensidad'].value_counts().index,\n",
    "        autopct='%1.1f%%')\n",
    "plt.show()"
   ]
  },
  {
   "cell_type": "markdown",
   "metadata": {
    "id": "fTYQhBW_keNX"
   },
   "source": [
    "Para hacer todo más sencillo y evitar asociaciones indeseadas, vamos a trabajar solo con minúsculas. Además, quitamos los signos de puntuación de los mensajes"
   ]
  },
  {
   "cell_type": "code",
   "execution_count": 7,
   "metadata": {
    "id": "q-uS0vz0pxW2"
   },
   "outputs": [
    {
     "data": {
      "text/html": [
       "<div>\n",
       "<style scoped>\n",
       "    .dataframe tbody tr th:only-of-type {\n",
       "        vertical-align: middle;\n",
       "    }\n",
       "\n",
       "    .dataframe tbody tr th {\n",
       "        vertical-align: top;\n",
       "    }\n",
       "\n",
       "    .dataframe thead th {\n",
       "        text-align: right;\n",
       "    }\n",
       "</style>\n",
       "<table border=\"1\" class=\"dataframe\">\n",
       "  <thead>\n",
       "    <tr style=\"text-align: right;\">\n",
       "      <th></th>\n",
       "      <th>mensaje</th>\n",
       "      <th>intensidad</th>\n",
       "    </tr>\n",
       "  </thead>\n",
       "  <tbody>\n",
       "    <tr>\n",
       "      <th>0</th>\n",
       "      <td>cristina cifuentes podrí­a haber sido la presi...</td>\n",
       "      <td>3</td>\n",
       "    </tr>\n",
       "    <tr>\n",
       "      <th>1</th>\n",
       "      <td>habrí­a que reabrir el caso el supremo se dedi...</td>\n",
       "      <td>3</td>\n",
       "    </tr>\n",
       "    <tr>\n",
       "      <th>2</th>\n",
       "      <td>me parece un poco exagerado pedir más de tres ...</td>\n",
       "      <td>3</td>\n",
       "    </tr>\n",
       "    <tr>\n",
       "      <th>3</th>\n",
       "      <td>parece que todos los delincuentes niegan las e...</td>\n",
       "      <td>3</td>\n",
       "    </tr>\n",
       "    <tr>\n",
       "      <th>4</th>\n",
       "      <td>preguntárselo al fracasado media carrera en 6 ...</td>\n",
       "      <td>4</td>\n",
       "    </tr>\n",
       "  </tbody>\n",
       "</table>\n",
       "</div>"
      ],
      "text/plain": [
       "                                             mensaje  intensidad\n",
       "0  cristina cifuentes podrí­a haber sido la presi...           3\n",
       "1  habrí­a que reabrir el caso el supremo se dedi...           3\n",
       "2  me parece un poco exagerado pedir más de tres ...           3\n",
       "3  parece que todos los delincuentes niegan las e...           3\n",
       "4  preguntárselo al fracasado media carrera en 6 ...           4"
      ]
     },
     "execution_count": 7,
     "metadata": {},
     "output_type": "execute_result"
    }
   ],
   "source": [
    "# Convertimos a minúsculas\n",
    "data['mensaje'] = data['mensaje'].map(lambda x: x.lower())\n",
    "\n",
    "# Función para eliminar signos de puntuación\n",
    "def eliminar_signos(texto):\n",
    "    return re.sub(f\"[{re.escape(string.punctuation)}]\", \"\", texto)\n",
    "\n",
    "# Aplicamos la función al dataset\n",
    "data['mensaje'] = data['mensaje'].map(eliminar_signos)\n",
    "data.head()"
   ]
  },
  {
   "cell_type": "markdown",
   "metadata": {
    "id": "MjXltaASlHiK"
   },
   "source": [
    "Eliminamos las \"stopwords\" o palabras vacías. Las stopwords son palabras comunes que, en general, no contienen información relevante para el análisis de texto y suelen ser filtradas antes de procesar los datos. Ejemplos típicos de stopwords en español son: \"el\", \"la\", \"los\", \"las\", \"un\", \"una\", \"de\", \"y\", \"o\", etc."
   ]
  },
  {
   "cell_type": "code",
   "execution_count": 8,
   "metadata": {
    "id": "O4eVyt4eq2dA"
   },
   "outputs": [
    {
     "data": {
      "text/html": [
       "<div>\n",
       "<style scoped>\n",
       "    .dataframe tbody tr th:only-of-type {\n",
       "        vertical-align: middle;\n",
       "    }\n",
       "\n",
       "    .dataframe tbody tr th {\n",
       "        vertical-align: top;\n",
       "    }\n",
       "\n",
       "    .dataframe thead th {\n",
       "        text-align: right;\n",
       "    }\n",
       "</style>\n",
       "<table border=\"1\" class=\"dataframe\">\n",
       "  <thead>\n",
       "    <tr style=\"text-align: right;\">\n",
       "      <th></th>\n",
       "      <th>mensaje</th>\n",
       "      <th>intensidad</th>\n",
       "    </tr>\n",
       "  </thead>\n",
       "  <tbody>\n",
       "    <tr>\n",
       "      <th>0</th>\n",
       "      <td>cristina cifuentes podrí­a haber sido presiden...</td>\n",
       "      <td>3</td>\n",
       "    </tr>\n",
       "    <tr>\n",
       "      <th>1</th>\n",
       "      <td>habrí­a reabrir caso supremo dedica proteger s...</td>\n",
       "      <td>3</td>\n",
       "    </tr>\n",
       "    <tr>\n",
       "      <th>2</th>\n",
       "      <td>parece exagerado pedir tres años prisión cifue...</td>\n",
       "      <td>3</td>\n",
       "    </tr>\n",
       "    <tr>\n",
       "      <th>3</th>\n",
       "      <td>parece delincuentes niegan evidencias pruebas ...</td>\n",
       "      <td>3</td>\n",
       "    </tr>\n",
       "    <tr>\n",
       "      <th>4</th>\n",
       "      <td>preguntárselo fracasado medium carrera 6 meses...</td>\n",
       "      <td>4</td>\n",
       "    </tr>\n",
       "  </tbody>\n",
       "</table>\n",
       "</div>"
      ],
      "text/plain": [
       "                                             mensaje  intensidad\n",
       "0  cristina cifuentes podrí­a haber sido presiden...           3\n",
       "1  habrí­a reabrir caso supremo dedica proteger s...           3\n",
       "2  parece exagerado pedir tres años prisión cifue...           3\n",
       "3  parece delincuentes niegan evidencias pruebas ...           3\n",
       "4  preguntárselo fracasado medium carrera 6 meses...           4"
      ]
     },
     "execution_count": 8,
     "metadata": {},
     "output_type": "execute_result"
    }
   ],
   "source": [
    "# Obtenemos las stopwords en español\n",
    "stop_words = set(stopwords.words('spanish'))\n",
    "lemmatizer = WordNetLemmatizer()\n",
    "\n",
    "# Definimos una función para eliminar stopwords y lematizar\n",
    "def filtrar_palabras(texto):\n",
    "    palabras_filtradas = []\n",
    "    for palabra in texto.split():\n",
    "        if palabra not in stop_words:\n",
    "            palabra_lema = lemmatizer.lemmatize(palabra)\n",
    "            palabras_filtradas.append(palabra_lema)\n",
    "    return ' '.join(palabras_filtradas)\n",
    "\n",
    "# Aplicamos la función\n",
    "data['mensaje'] = data['mensaje'].apply(filtrar_palabras)\n",
    "data.head()"
   ]
  },
  {
   "cell_type": "markdown",
   "metadata": {
    "id": "ucxI_eXQlZ_1"
   },
   "source": [
    "Creamos los conjuntos de entrenamiento y de test:"
   ]
  },
  {
   "cell_type": "code",
   "execution_count": 9,
   "metadata": {
    "id": "FZxfXScRYVts"
   },
   "outputs": [],
   "source": [
    "X = data['mensaje']\n",
    "y = data['intensidad']\n",
    "\n",
    "# Dividimos el dataset en conjuntos de entrenamiento y prueba\n",
    "X_train, X_test, y_train, y_test = train_test_split(X, y, test_size=0.2, random_state=42)\n",
    "\n",
    "# Convertimos a numpy arrays\n",
    "X_train = X_train.values\n",
    "X_test = X_test.values\n",
    "y_train = y_train.values\n",
    "y_test = y_test.values\n",
    "\n",
    "# Creamos datasets de TensorFlow\n",
    "train_dataset = tf.data.Dataset.from_tensor_slices((X_train, y_train))\n",
    "test_dataset = tf.data.Dataset.from_tensor_slices((X_test, y_test))"
   ]
  },
  {
   "cell_type": "markdown",
   "metadata": {
    "id": "NTEHtlXpnCOI"
   },
   "source": [
    "Mostramos un mensaje y su intensidad, simplemente para ver que todo va bien:"
   ]
  },
  {
   "cell_type": "code",
   "execution_count": 10,
   "metadata": {
    "id": "WWz4VaBCYsjL"
   },
   "outputs": [
    {
     "name": "stdout",
     "output_type": "stream",
     "text": [
      "mensaje:  b'tarado abascal dice gran lider tarado trump'\n",
      "nivel de odio:  4\n"
     ]
    }
   ],
   "source": [
    "for men, inte in train_dataset.take(1):\n",
    "  print('mensaje: ', men.numpy())\n",
    "  print('nivel de odio: ', inte.numpy())"
   ]
  },
  {
   "cell_type": "markdown",
   "metadata": {
    "id": "iGisxv3GnZvN"
   },
   "source": [
    "Mezclamos los datos de forma aleatoria:"
   ]
  },
  {
   "cell_type": "code",
   "execution_count": 11,
   "metadata": {
    "id": "ecZdI0CFYz1Y"
   },
   "outputs": [],
   "source": [
    "BUFFER_SIZE = 10000\n",
    "BATCH_SIZE = 64"
   ]
  },
  {
   "cell_type": "code",
   "execution_count": 12,
   "metadata": {
    "id": "wOJwWckbY9ns"
   },
   "outputs": [],
   "source": [
    "train_dataset = train_dataset.shuffle(BUFFER_SIZE).batch(BATCH_SIZE).prefetch(tf.data.AUTOTUNE)\n",
    "test_dataset = test_dataset.batch(BATCH_SIZE).prefetch(tf.data.AUTOTUNE)"
   ]
  },
  {
   "cell_type": "code",
   "execution_count": 13,
   "metadata": {
    "id": "mGW0FVeyY_fZ"
   },
   "outputs": [
    {
     "name": "stdout",
     "output_type": "stream",
     "text": [
      "mensaje:  [b'saliros islas canarias putos colonizadores mierda canarias \\xc3\\xa1frica'\n",
      " b'facista dem\\xc3\\xb3crata willy' b'arrogante comentario denota envidia']\n",
      "\n",
      "nivel de odio:  [4 1 4]\n"
     ]
    }
   ],
   "source": [
    "for men, inte in train_dataset.take(1):\n",
    "  print('mensaje: ', men.numpy()[:3])\n",
    "  print()\n",
    "  print('nivel de odio: ', inte.numpy()[:3])"
   ]
  },
  {
   "cell_type": "markdown",
   "metadata": {
    "id": "dwTWx49snn-L"
   },
   "source": [
    "Definimos y configuramos un codificador de texto utilizando la capa TextVectorization"
   ]
  },
  {
   "cell_type": "code",
   "execution_count": 14,
   "metadata": {
    "id": "V8W8LqSRZCnl"
   },
   "outputs": [],
   "source": [
    "# Empezamos definiendo el tamaño del vocabulario\n",
    "tamaño_vocabulario = 1000\n",
    "\n",
    "# Creamos una capa de vectorización de texto\n",
    "vectorizador = tf.keras.layers.TextVectorization(\n",
    "    max_tokens=tamaño_vocabulario\n",
    ")\n",
    "\n",
    "# Se extraen solo los textos del conjunto de datos de entrenamiento\n",
    "def extraer_texto(texto, etiqueta):\n",
    "    return texto\n",
    "\n",
    "# Adaptamos el vectorizador al texto del conjunto de datos de entrenamiento\n",
    "dataset_texto = train_dataset.map(extraer_texto)\n",
    "vectorizador.adapt(dataset_texto)"
   ]
  },
  {
   "cell_type": "code",
   "execution_count": 15,
   "metadata": {
    "id": "ps6hMfc3ZII1"
   },
   "outputs": [
    {
     "data": {
      "text/plain": [
       "array(['', '[UNK]', 'si', 'mierda', 'puta', 'ser', 'asco', 'gobierno',\n",
       "       'panfleto', 'q', 'españa', 'paí\\xads', 'gente', 'vergüenza',\n",
       "       'gentuza', 'vaya', 'basura', 'va', 'gilipollas', 'solo'],\n",
       "      dtype='<U25')"
      ]
     },
     "execution_count": 15,
     "metadata": {},
     "output_type": "execute_result"
    }
   ],
   "source": [
    "# Obtenemos el vocabulario aprendido por la capa de vectorización\n",
    "vocabulario = np.array(vectorizador.get_vocabulary())\n",
    "\n",
    "# Mostramos las primeras 20 palabras del vocabulario\n",
    "primeras_20_palabras = vocabulario[:20]\n",
    "primeras_20_palabras"
   ]
  },
  {
   "cell_type": "markdown",
   "metadata": {
    "id": "n1ztdBqGo6xb"
   },
   "source": [
    "# Ejercicio\n",
    "\n",
    "Construye una RNN que pueda detectar el nivel de odio de un mensaje.\n",
    "\n",
    "**Tenéis plena liberta para realizar la red y para hacer cualquier modificación a los datos.**"
   ]
  },
  {
   "cell_type": "markdown",
   "metadata": {},
   "source": [
    "## 1. Introducción"
   ]
  },
  {
   "cell_type": "markdown",
   "metadata": {},
   "source": [
    "En esta actividad se propone abordar el problema de detección de la intensidad del odio como un caso de clasificación de texto multiclase, para lo cual resulta fundamental emplear Redes Neuronales Recurrentes (RNN) y, en particular, sus variantes avanzadas como las LSTM bidireccionales. Dado que estas arquitecturas permiten modelar el contexto y el orden secuencial de las palabras en un mensaje, aspectos esenciales para comprender su significado e intención, se optará por una LSTM bidireccional que, a través de su capacidad para procesar el texto tanto de forma ascendente como descendente, enriquece la representación contextual. \n",
    "\n",
    "El principal desafío del conjunto de datos consiste en el gran desbalance de clases (con la clase mayoritaria representando el 84,5 % de los ejemplos), por lo que se emplearán pesos de clase (`class_weight`) durante el entrenamiento para penalizar adecuadamente los errores en las categorías minoritarias y forzar al modelo a prestarles atención. Finalmente, a parte de la precisión (`accuracy`), se evaluará el desempeño mediante un informe de clasificación (precisión, recall y f1-score por clase) y la matriz de confusión, garantizando así una visión completa de la eficacia de la red, junto a gráficas comparativas."
   ]
  },
  {
   "cell_type": "markdown",
   "metadata": {},
   "source": [
    "## 2. Preparación adicional de los datos"
   ]
  },
  {
   "cell_type": "markdown",
   "metadata": {},
   "source": [
    "### 2.1. Ajuste de etiquetas\n",
    "\n",
    "La librería Keras espera que las etiquetas de clasificación comiencen en 0. Sin embargo, disponemos etiquetas dentro de un rango de 1 a 5, por lo que será necesario convertirlas a un rango de 0 a 4."
   ]
  },
  {
   "cell_type": "code",
   "execution_count": 16,
   "metadata": {},
   "outputs": [
    {
     "name": "stdout",
     "output_type": "stream",
     "text": [
      "Etiquetas originales: [1 2 3 4 5]\n",
      "Etiquetas ajustadas: [0 1 2 3 4]\n"
     ]
    }
   ],
   "source": [
    "# Restar 1 a todas las etiquetas\n",
    "y_train_adjusted = y_train - 1\n",
    "y_test_adjusted = y_test - 1\n",
    "\n",
    "# Verificar los valores únicos para confirmar el cambio\n",
    "print(f\"Etiquetas originales: {np.unique(y_train)}\")\n",
    "print(f\"Etiquetas ajustadas: {np.unique(y_train_adjusted)}\")"
   ]
  },
  {
   "cell_type": "code",
   "execution_count": 17,
   "metadata": {},
   "outputs": [],
   "source": [
    "# Repetir división y mezcla con este cambio\n",
    "\n",
    "# División en entrenamiento y prueba\n",
    "train_dataset = tf.data.Dataset.from_tensor_slices((X_train, y_train_adjusted))\n",
    "test_dataset = tf.data.Dataset.from_tensor_slices((X_test, y_test_adjusted))\n",
    "\n",
    "# Mezclar y agrupar en lotes\n",
    "train_dataset = train_dataset.shuffle(BUFFER_SIZE).batch(BATCH_SIZE).prefetch(tf.data.AUTOTUNE)\n",
    "test_dataset = test_dataset.batch(BATCH_SIZE).prefetch(tf.data.AUTOTUNE)\n",
    "\n",
    "# Adaptar vectorizador\n",
    "vectorizador = tf.keras.layers.TextVectorization(max_tokens=tamaño_vocabulario)\n",
    "dataset_texto = train_dataset.map(extraer_texto)\n",
    "vectorizador.adapt(dataset_texto)\n",
    "vocabulario = np.array(vectorizador.get_vocabulary())"
   ]
  },
  {
   "cell_type": "markdown",
   "metadata": {},
   "source": [
    "### 2.2. Calcular pesos de clase\n",
    "\n",
    "Se considera necesario calcular los pesos de cada clase para contrarrestar el desbalanceo encontrado en el conjunto de datos."
   ]
  },
  {
   "cell_type": "code",
   "execution_count": 18,
   "metadata": {},
   "outputs": [
    {
     "name": "stdout",
     "output_type": "stream",
     "text": [
      "\n",
      "Pesos calculados para cada clase:\n",
      " - Clase 1: Peso 1.79\n",
      " - Clase 2: Peso 15.97\n",
      " - Clase 3: Peso 14.03\n",
      " - Clase 4: Peso 0.24\n",
      " - Clase 5: Peso 11.62\n"
     ]
    }
   ],
   "source": [
    "# Calcular los pesos de clase con etiquetas ajustadas\n",
    "class_weights = class_weight.compute_class_weight(\n",
    "    class_weight='balanced',\n",
    "    classes=np.unique(y_train_adjusted),\n",
    "    y=y_train_adjusted\n",
    ")\n",
    "\n",
    "# Convertir a dict con mapeo del índice de la clase a su peso\n",
    "class_weight_dict = dict(enumerate(class_weights))\n",
    "\n",
    "print(\"\\nPesos calculados para cada clase:\")\n",
    "for clase, peso in class_weight_dict.items():\n",
    "    print(f\" - Clase {clase + 1}: Peso {peso:.2f}\")"
   ]
  },
  {
   "cell_type": "markdown",
   "metadata": {},
   "source": [
    "## 3. Construcción y entrenamiento del modelo"
   ]
  },
  {
   "cell_type": "markdown",
   "metadata": {},
   "source": [
    "### 3.1. Diseño de arquitectura del modelo\n",
    "\n",
    "A continuación se define la arquitectura del modelo de la siguiente manera: en primer lugar, se utiliza la capa de vectorización previamente adaptada para convertir el texto en secuencias de índices. Posteriormente, se aplica una capa de embedding que transformará estos índices en vectores densos, capaces de capturar relaciones semánticas y cuya representación se optimizará durante el entrenamiento. El núcleo de la red estará formado por dos capas LSTM bidireccionales, que procesan el texto en ambas direcciones para enriquecer el contexto. La primera generá una secuencia de estados ocultos que contienen información contextualizada y la segunda procesa esta secuencia enriquecida para aprender relaciones de más alto nivel.\n",
    "\n",
    "Para evitar el sobreajuste, se intercalan capas de dropout tras cada capa LSTM que desactivarán aleatoriamente un porcentaje de neuronas en cada paso de entrenamiento. Finalmente, se incorpora una capa densa de salida con cinco neuronas (una por categoría de intensidad de odio) y activación softmax, de modo que el modelo entregue como resultado una distribución de probabilidad sobre las cinco clases."
   ]
  },
  {
   "cell_type": "code",
   "execution_count": 138,
   "metadata": {},
   "outputs": [],
   "source": [
    "# Hiperparámetros\n",
    "embedding_dim = 128  # Dimensión de los vectores de palabras\n",
    "lstm_units_1 = 32   # Unidades en la primera capa LSTM\n",
    "lstm_units_2 = 16    # Unidades en la segunda capa LSTM\n",
    "dropout_rate = 0.6   # Tasa de dropout para regularización\n",
    "num_classes = len(np.unique(y_train_adjusted))\n",
    "\n",
    "# Construcción del modelo secuencial\n",
    "modelo_lstm = tf.keras.Sequential([\n",
    "    # 1. Capa de vectorización\n",
    "    vectorizador,\n",
    "    \n",
    "    # 2. Capa de Embedding\n",
    "    layers.Embedding(\n",
    "        input_dim=tamaño_vocabulario,\n",
    "        output_dim=embedding_dim,\n",
    "        name=\"embedding\"\n",
    "    ),\n",
    "    \n",
    "    # 3. Primera capa LSTM bidireccional: generar secuencia con info contextualizada\n",
    "    layers.Bidirectional(\n",
    "        layers.LSTM(lstm_units_1, return_sequences=True), \n",
    "        name=\"bidirectional_lstm_1\"\n",
    "    ),\n",
    "    layers.Dropout(dropout_rate), # Dropout para regularizar\n",
    "\n",
    "    # 4. Segunda capa LSTM bidireccional: vector para relaciones de más alto nivel\n",
    "    layers.Bidirectional(\n",
    "        layers.LSTM(lstm_units_2), \n",
    "        name=\"bidirectional_lstm_2\"\n",
    "    ),\n",
    "    layers.Dropout(dropout_rate), # Dropout para regularizar\n",
    "\n",
    "    # 5. Capa de salida\n",
    "    layers.Dense(num_classes, activation='softmax', name=\"output\")\n",
    "])"
   ]
  },
  {
   "cell_type": "markdown",
   "metadata": {},
   "source": [
    "### 3.2. Estructura del modelo\n",
    "\n",
    "En esta sección, se visualiza la arquitectura del modelo. El número de parámetros a entrenar no se pueden observar aún ya que, al tener una entrada flexible de cadenas de texto, Keras devuelve una construcción diferida. Por lo tanto, las matrices de pesos se crean tras la compilación y el entrenamiento."
   ]
  },
  {
   "cell_type": "code",
   "execution_count": 139,
   "metadata": {},
   "outputs": [
    {
     "data": {
      "text/html": [
       "<pre style=\"white-space:pre;overflow-x:auto;line-height:normal;font-family:Menlo,'DejaVu Sans Mono',consolas,'Courier New',monospace\"><span style=\"font-weight: bold\">Model: \"sequential_21\"</span>\n",
       "</pre>\n"
      ],
      "text/plain": [
       "\u001b[1mModel: \"sequential_21\"\u001b[0m\n"
      ]
     },
     "metadata": {},
     "output_type": "display_data"
    },
    {
     "data": {
      "text/html": [
       "<pre style=\"white-space:pre;overflow-x:auto;line-height:normal;font-family:Menlo,'DejaVu Sans Mono',consolas,'Courier New',monospace\">┏━━━━━━━━━━━━━━━━━━━━━━━━━━━━━━━━━┳━━━━━━━━━━━━━━━━━━━━━━━━┳━━━━━━━━━━━━━━━┓\n",
       "┃<span style=\"font-weight: bold\"> Layer (type)                    </span>┃<span style=\"font-weight: bold\"> Output Shape           </span>┃<span style=\"font-weight: bold\">       Param # </span>┃\n",
       "┡━━━━━━━━━━━━━━━━━━━━━━━━━━━━━━━━━╇━━━━━━━━━━━━━━━━━━━━━━━━╇━━━━━━━━━━━━━━━┩\n",
       "│ text_vectorization_1            │ (<span style=\"color: #00d7ff; text-decoration-color: #00d7ff\">None</span>, <span style=\"color: #00d7ff; text-decoration-color: #00d7ff\">None</span>)           │             <span style=\"color: #00af00; text-decoration-color: #00af00\">0</span> │\n",
       "│ (<span style=\"color: #0087ff; text-decoration-color: #0087ff\">TextVectorization</span>)             │                        │               │\n",
       "├─────────────────────────────────┼────────────────────────┼───────────────┤\n",
       "│ embedding (<span style=\"color: #0087ff; text-decoration-color: #0087ff\">Embedding</span>)           │ ?                      │   <span style=\"color: #00af00; text-decoration-color: #00af00\">0</span> (unbuilt) │\n",
       "├─────────────────────────────────┼────────────────────────┼───────────────┤\n",
       "│ bidirectional_lstm_1            │ ?                      │   <span style=\"color: #00af00; text-decoration-color: #00af00\">0</span> (unbuilt) │\n",
       "│ (<span style=\"color: #0087ff; text-decoration-color: #0087ff\">Bidirectional</span>)                 │                        │               │\n",
       "├─────────────────────────────────┼────────────────────────┼───────────────┤\n",
       "│ dropout_42 (<span style=\"color: #0087ff; text-decoration-color: #0087ff\">Dropout</span>)            │ ?                      │             <span style=\"color: #00af00; text-decoration-color: #00af00\">0</span> │\n",
       "├─────────────────────────────────┼────────────────────────┼───────────────┤\n",
       "│ bidirectional_lstm_2            │ ?                      │   <span style=\"color: #00af00; text-decoration-color: #00af00\">0</span> (unbuilt) │\n",
       "│ (<span style=\"color: #0087ff; text-decoration-color: #0087ff\">Bidirectional</span>)                 │                        │               │\n",
       "├─────────────────────────────────┼────────────────────────┼───────────────┤\n",
       "│ dropout_43 (<span style=\"color: #0087ff; text-decoration-color: #0087ff\">Dropout</span>)            │ ?                      │             <span style=\"color: #00af00; text-decoration-color: #00af00\">0</span> │\n",
       "├─────────────────────────────────┼────────────────────────┼───────────────┤\n",
       "│ output (<span style=\"color: #0087ff; text-decoration-color: #0087ff\">Dense</span>)                  │ ?                      │   <span style=\"color: #00af00; text-decoration-color: #00af00\">0</span> (unbuilt) │\n",
       "└─────────────────────────────────┴────────────────────────┴───────────────┘\n",
       "</pre>\n"
      ],
      "text/plain": [
       "┏━━━━━━━━━━━━━━━━━━━━━━━━━━━━━━━━━┳━━━━━━━━━━━━━━━━━━━━━━━━┳━━━━━━━━━━━━━━━┓\n",
       "┃\u001b[1m \u001b[0m\u001b[1mLayer (type)                   \u001b[0m\u001b[1m \u001b[0m┃\u001b[1m \u001b[0m\u001b[1mOutput Shape          \u001b[0m\u001b[1m \u001b[0m┃\u001b[1m \u001b[0m\u001b[1m      Param #\u001b[0m\u001b[1m \u001b[0m┃\n",
       "┡━━━━━━━━━━━━━━━━━━━━━━━━━━━━━━━━━╇━━━━━━━━━━━━━━━━━━━━━━━━╇━━━━━━━━━━━━━━━┩\n",
       "│ text_vectorization_1            │ (\u001b[38;5;45mNone\u001b[0m, \u001b[38;5;45mNone\u001b[0m)           │             \u001b[38;5;34m0\u001b[0m │\n",
       "│ (\u001b[38;5;33mTextVectorization\u001b[0m)             │                        │               │\n",
       "├─────────────────────────────────┼────────────────────────┼───────────────┤\n",
       "│ embedding (\u001b[38;5;33mEmbedding\u001b[0m)           │ ?                      │   \u001b[38;5;34m0\u001b[0m (unbuilt) │\n",
       "├─────────────────────────────────┼────────────────────────┼───────────────┤\n",
       "│ bidirectional_lstm_1            │ ?                      │   \u001b[38;5;34m0\u001b[0m (unbuilt) │\n",
       "│ (\u001b[38;5;33mBidirectional\u001b[0m)                 │                        │               │\n",
       "├─────────────────────────────────┼────────────────────────┼───────────────┤\n",
       "│ dropout_42 (\u001b[38;5;33mDropout\u001b[0m)            │ ?                      │             \u001b[38;5;34m0\u001b[0m │\n",
       "├─────────────────────────────────┼────────────────────────┼───────────────┤\n",
       "│ bidirectional_lstm_2            │ ?                      │   \u001b[38;5;34m0\u001b[0m (unbuilt) │\n",
       "│ (\u001b[38;5;33mBidirectional\u001b[0m)                 │                        │               │\n",
       "├─────────────────────────────────┼────────────────────────┼───────────────┤\n",
       "│ dropout_43 (\u001b[38;5;33mDropout\u001b[0m)            │ ?                      │             \u001b[38;5;34m0\u001b[0m │\n",
       "├─────────────────────────────────┼────────────────────────┼───────────────┤\n",
       "│ output (\u001b[38;5;33mDense\u001b[0m)                  │ ?                      │   \u001b[38;5;34m0\u001b[0m (unbuilt) │\n",
       "└─────────────────────────────────┴────────────────────────┴───────────────┘\n"
      ]
     },
     "metadata": {},
     "output_type": "display_data"
    },
    {
     "data": {
      "text/html": [
       "<pre style=\"white-space:pre;overflow-x:auto;line-height:normal;font-family:Menlo,'DejaVu Sans Mono',consolas,'Courier New',monospace\"><span style=\"font-weight: bold\"> Total params: </span><span style=\"color: #00af00; text-decoration-color: #00af00\">0</span> (0.00 B)\n",
       "</pre>\n"
      ],
      "text/plain": [
       "\u001b[1m Total params: \u001b[0m\u001b[38;5;34m0\u001b[0m (0.00 B)\n"
      ]
     },
     "metadata": {},
     "output_type": "display_data"
    },
    {
     "data": {
      "text/html": [
       "<pre style=\"white-space:pre;overflow-x:auto;line-height:normal;font-family:Menlo,'DejaVu Sans Mono',consolas,'Courier New',monospace\"><span style=\"font-weight: bold\"> Trainable params: </span><span style=\"color: #00af00; text-decoration-color: #00af00\">0</span> (0.00 B)\n",
       "</pre>\n"
      ],
      "text/plain": [
       "\u001b[1m Trainable params: \u001b[0m\u001b[38;5;34m0\u001b[0m (0.00 B)\n"
      ]
     },
     "metadata": {},
     "output_type": "display_data"
    },
    {
     "data": {
      "text/html": [
       "<pre style=\"white-space:pre;overflow-x:auto;line-height:normal;font-family:Menlo,'DejaVu Sans Mono',consolas,'Courier New',monospace\"><span style=\"font-weight: bold\"> Non-trainable params: </span><span style=\"color: #00af00; text-decoration-color: #00af00\">0</span> (0.00 B)\n",
       "</pre>\n"
      ],
      "text/plain": [
       "\u001b[1m Non-trainable params: \u001b[0m\u001b[38;5;34m0\u001b[0m (0.00 B)\n"
      ]
     },
     "metadata": {},
     "output_type": "display_data"
    }
   ],
   "source": [
    "modelo_lstm.summary()"
   ]
  },
  {
   "cell_type": "markdown",
   "metadata": {},
   "source": [
    "### 3.3. Compilación del modelo\n",
    "\n",
    "Seguidamente, se configura el proceso de aprendizaje. Se emplea la función de pérdida `SparseCategoricalCrossentropy`, ya que las etiquetas están en formato entero de 0 a 4. Como optimizador, se utiliza `Adam`, reconocido por su robustez y eficiencia en tareas de NLP. Por último, se incluye la métrica `accuracy` como referencia para observar de manera rápida la evolución del entrenamiento, porque permite observar el porcentaje de predicciones correctas durante el entrenamiento y validación."
   ]
  },
  {
   "cell_type": "code",
   "execution_count": 140,
   "metadata": {},
   "outputs": [],
   "source": [
    "# Compilar el modelo\n",
    "modelo_lstm.compile(\n",
    "    loss=tf.keras.losses.SparseCategoricalCrossentropy(),\n",
    "    optimizer='adam',\n",
    "    metrics=['accuracy']\n",
    ")"
   ]
  },
  {
   "cell_type": "markdown",
   "metadata": {},
   "source": [
    "### 3.4. Entrenamiento del modelo\n",
    "\n",
    "Para terminar el modelo, se entrena utilizando los datos de entrenamiento y validando con los de prueba (```test_dataset```). Es importante mencionar que se incluyen los pesos de las clases (```class_weight_dict```) calculados previamente, para compensar los desequilibrios entre las clases. Para evitar entrenar de más y caer en overfitting, se incluye un EarlyStopping, que detiene el entrenamiento si la pérdida en el conjunto de validación (```val_loss```) no mejora tras 7 épocas. En ese momento, restaura  los pesos del modelo correspondientes a la mejor época, la 7º anterior a finalizar de entrenar."
   ]
  },
  {
   "cell_type": "code",
   "execution_count": 141,
   "metadata": {},
   "outputs": [],
   "source": [
    "# Callback de Early Stopping\n",
    "early_stopping_callback = EarlyStopping(\n",
    "    monitor='val_loss',\n",
    "    patience=7,\n",
    "    verbose=1,\n",
    "    restore_best_weights=True\n",
    ")"
   ]
  },
  {
   "cell_type": "code",
   "execution_count": 142,
   "metadata": {},
   "outputs": [
    {
     "name": "stdout",
     "output_type": "stream",
     "text": [
      "Epoch 1/50\n",
      "\u001b[1m154/154\u001b[0m \u001b[32m━━━━━━━━━━━━━━━━━━━━\u001b[0m\u001b[37m\u001b[0m \u001b[1m28s\u001b[0m 152ms/step - accuracy: 0.3787 - loss: 1.5761 - val_accuracy: 0.6417 - val_loss: 1.3359\n",
      "Epoch 2/50\n",
      "\u001b[1m154/154\u001b[0m \u001b[32m━━━━━━━━━━━━━━━━━━━━\u001b[0m\u001b[37m\u001b[0m \u001b[1m24s\u001b[0m 153ms/step - accuracy: 0.5149 - loss: 1.5538 - val_accuracy: 0.5782 - val_loss: 1.2266\n",
      "Epoch 3/50\n",
      "\u001b[1m154/154\u001b[0m \u001b[32m━━━━━━━━━━━━━━━━━━━━\u001b[0m\u001b[37m\u001b[0m \u001b[1m25s\u001b[0m 161ms/step - accuracy: 0.6116 - loss: 1.3800 - val_accuracy: 0.5843 - val_loss: 1.0939\n",
      "Epoch 4/50\n",
      "\u001b[1m154/154\u001b[0m \u001b[32m━━━━━━━━━━━━━━━━━━━━\u001b[0m\u001b[37m\u001b[0m \u001b[1m23s\u001b[0m 148ms/step - accuracy: 0.5974 - loss: 1.2369 - val_accuracy: 0.5692 - val_loss: 1.0525\n",
      "Epoch 5/50\n",
      "\u001b[1m154/154\u001b[0m \u001b[32m━━━━━━━━━━━━━━━━━━━━\u001b[0m\u001b[37m\u001b[0m \u001b[1m25s\u001b[0m 160ms/step - accuracy: 0.6338 - loss: 1.0983 - val_accuracy: 0.5240 - val_loss: 1.1877\n",
      "Epoch 6/50\n",
      "\u001b[1m154/154\u001b[0m \u001b[32m━━━━━━━━━━━━━━━━━━━━\u001b[0m\u001b[37m\u001b[0m \u001b[1m24s\u001b[0m 158ms/step - accuracy: 0.6359 - loss: 0.9536 - val_accuracy: 0.5835 - val_loss: 0.9989\n",
      "Epoch 7/50\n",
      "\u001b[1m154/154\u001b[0m \u001b[32m━━━━━━━━━━━━━━━━━━━━\u001b[0m\u001b[37m\u001b[0m \u001b[1m25s\u001b[0m 164ms/step - accuracy: 0.6206 - loss: 0.9348 - val_accuracy: 0.6046 - val_loss: 1.0146\n",
      "Epoch 8/50\n",
      "\u001b[1m154/154\u001b[0m \u001b[32m━━━━━━━━━━━━━━━━━━━━\u001b[0m\u001b[37m\u001b[0m \u001b[1m23s\u001b[0m 151ms/step - accuracy: 0.6730 - loss: 0.7415 - val_accuracy: 0.6116 - val_loss: 1.0054\n",
      "Epoch 9/50\n",
      "\u001b[1m154/154\u001b[0m \u001b[32m━━━━━━━━━━━━━━━━━━━━\u001b[0m\u001b[37m\u001b[0m \u001b[1m27s\u001b[0m 173ms/step - accuracy: 0.6678 - loss: 0.7701 - val_accuracy: 0.6612 - val_loss: 0.8552\n",
      "Epoch 10/50\n",
      "\u001b[1m154/154\u001b[0m \u001b[32m━━━━━━━━━━━━━━━━━━━━\u001b[0m\u001b[37m\u001b[0m \u001b[1m24s\u001b[0m 158ms/step - accuracy: 0.7099 - loss: 0.6243 - val_accuracy: 0.5835 - val_loss: 1.1256\n",
      "Epoch 11/50\n",
      "\u001b[1m154/154\u001b[0m \u001b[32m━━━━━━━━━━━━━━━━━━━━\u001b[0m\u001b[37m\u001b[0m \u001b[1m25s\u001b[0m 161ms/step - accuracy: 0.6891 - loss: 0.6669 - val_accuracy: 0.6401 - val_loss: 0.9639\n",
      "Epoch 12/50\n",
      "\u001b[1m154/154\u001b[0m \u001b[32m━━━━━━━━━━━━━━━━━━━━\u001b[0m\u001b[37m\u001b[0m \u001b[1m25s\u001b[0m 162ms/step - accuracy: 0.7032 - loss: 0.6090 - val_accuracy: 0.6307 - val_loss: 1.0151\n",
      "Epoch 13/50\n",
      "\u001b[1m154/154\u001b[0m \u001b[32m━━━━━━━━━━━━━━━━━━━━\u001b[0m\u001b[37m\u001b[0m \u001b[1m24s\u001b[0m 157ms/step - accuracy: 0.7066 - loss: 0.5696 - val_accuracy: 0.6429 - val_loss: 0.9032\n",
      "Epoch 14/50\n",
      "\u001b[1m154/154\u001b[0m \u001b[32m━━━━━━━━━━━━━━━━━━━━\u001b[0m\u001b[37m\u001b[0m \u001b[1m25s\u001b[0m 159ms/step - accuracy: 0.6855 - loss: 0.5870 - val_accuracy: 0.6331 - val_loss: 0.9445\n",
      "Epoch 15/50\n",
      "\u001b[1m154/154\u001b[0m \u001b[32m━━━━━━━━━━━━━━━━━━━━\u001b[0m\u001b[37m\u001b[0m \u001b[1m24s\u001b[0m 155ms/step - accuracy: 0.6926 - loss: 0.6312 - val_accuracy: 0.6608 - val_loss: 0.8734\n",
      "Epoch 16/50\n",
      "\u001b[1m154/154\u001b[0m \u001b[32m━━━━━━━━━━━━━━━━━━━━\u001b[0m\u001b[37m\u001b[0m \u001b[1m24s\u001b[0m 158ms/step - accuracy: 0.7274 - loss: 0.4992 - val_accuracy: 0.6531 - val_loss: 0.9668\n",
      "Epoch 16: early stopping\n",
      "Restoring model weights from the end of the best epoch: 9.\n"
     ]
    }
   ],
   "source": [
    "# Número de épocas para el entrenamiento\n",
    "#epochs = 50\n",
    "\n",
    "# Entrenar el modelo\n",
    "history = modelo_lstm.fit(\n",
    "    train_dataset,\n",
    "    validation_data=test_dataset,\n",
    "    epochs=50,\n",
    "    class_weight=class_weight_dict,\n",
    "    callbacks=[early_stopping_callback]\n",
    ")\n"
   ]
  },
  {
   "cell_type": "code",
   "execution_count": 143,
   "metadata": {},
   "outputs": [
    {
     "data": {
      "text/html": [
       "<pre style=\"white-space:pre;overflow-x:auto;line-height:normal;font-family:Menlo,'DejaVu Sans Mono',consolas,'Courier New',monospace\"><span style=\"font-weight: bold\">Model: \"sequential_21\"</span>\n",
       "</pre>\n"
      ],
      "text/plain": [
       "\u001b[1mModel: \"sequential_21\"\u001b[0m\n"
      ]
     },
     "metadata": {},
     "output_type": "display_data"
    },
    {
     "data": {
      "text/html": [
       "<pre style=\"white-space:pre;overflow-x:auto;line-height:normal;font-family:Menlo,'DejaVu Sans Mono',consolas,'Courier New',monospace\">┏━━━━━━━━━━━━━━━━━━━━━━━━━━━━━━━━━┳━━━━━━━━━━━━━━━━━━━━━━━━┳━━━━━━━━━━━━━━━┓\n",
       "┃<span style=\"font-weight: bold\"> Layer (type)                    </span>┃<span style=\"font-weight: bold\"> Output Shape           </span>┃<span style=\"font-weight: bold\">       Param # </span>┃\n",
       "┡━━━━━━━━━━━━━━━━━━━━━━━━━━━━━━━━━╇━━━━━━━━━━━━━━━━━━━━━━━━╇━━━━━━━━━━━━━━━┩\n",
       "│ text_vectorization_1            │ (<span style=\"color: #00d7ff; text-decoration-color: #00d7ff\">None</span>, <span style=\"color: #00d7ff; text-decoration-color: #00d7ff\">None</span>)           │             <span style=\"color: #00af00; text-decoration-color: #00af00\">0</span> │\n",
       "│ (<span style=\"color: #0087ff; text-decoration-color: #0087ff\">TextVectorization</span>)             │                        │               │\n",
       "├─────────────────────────────────┼────────────────────────┼───────────────┤\n",
       "│ embedding (<span style=\"color: #0087ff; text-decoration-color: #0087ff\">Embedding</span>)           │ (<span style=\"color: #00d7ff; text-decoration-color: #00d7ff\">None</span>, <span style=\"color: #00d7ff; text-decoration-color: #00d7ff\">None</span>, <span style=\"color: #00af00; text-decoration-color: #00af00\">128</span>)      │       <span style=\"color: #00af00; text-decoration-color: #00af00\">128,000</span> │\n",
       "├─────────────────────────────────┼────────────────────────┼───────────────┤\n",
       "│ bidirectional_lstm_1            │ (<span style=\"color: #00d7ff; text-decoration-color: #00d7ff\">None</span>, <span style=\"color: #00d7ff; text-decoration-color: #00d7ff\">None</span>, <span style=\"color: #00af00; text-decoration-color: #00af00\">64</span>)       │        <span style=\"color: #00af00; text-decoration-color: #00af00\">41,216</span> │\n",
       "│ (<span style=\"color: #0087ff; text-decoration-color: #0087ff\">Bidirectional</span>)                 │                        │               │\n",
       "├─────────────────────────────────┼────────────────────────┼───────────────┤\n",
       "│ dropout_42 (<span style=\"color: #0087ff; text-decoration-color: #0087ff\">Dropout</span>)            │ (<span style=\"color: #00d7ff; text-decoration-color: #00d7ff\">None</span>, <span style=\"color: #00d7ff; text-decoration-color: #00d7ff\">None</span>, <span style=\"color: #00af00; text-decoration-color: #00af00\">64</span>)       │             <span style=\"color: #00af00; text-decoration-color: #00af00\">0</span> │\n",
       "├─────────────────────────────────┼────────────────────────┼───────────────┤\n",
       "│ bidirectional_lstm_2            │ (<span style=\"color: #00d7ff; text-decoration-color: #00d7ff\">None</span>, <span style=\"color: #00af00; text-decoration-color: #00af00\">32</span>)             │        <span style=\"color: #00af00; text-decoration-color: #00af00\">10,368</span> │\n",
       "│ (<span style=\"color: #0087ff; text-decoration-color: #0087ff\">Bidirectional</span>)                 │                        │               │\n",
       "├─────────────────────────────────┼────────────────────────┼───────────────┤\n",
       "│ dropout_43 (<span style=\"color: #0087ff; text-decoration-color: #0087ff\">Dropout</span>)            │ (<span style=\"color: #00d7ff; text-decoration-color: #00d7ff\">None</span>, <span style=\"color: #00af00; text-decoration-color: #00af00\">32</span>)             │             <span style=\"color: #00af00; text-decoration-color: #00af00\">0</span> │\n",
       "├─────────────────────────────────┼────────────────────────┼───────────────┤\n",
       "│ output (<span style=\"color: #0087ff; text-decoration-color: #0087ff\">Dense</span>)                  │ (<span style=\"color: #00d7ff; text-decoration-color: #00d7ff\">None</span>, <span style=\"color: #00af00; text-decoration-color: #00af00\">5</span>)              │           <span style=\"color: #00af00; text-decoration-color: #00af00\">165</span> │\n",
       "└─────────────────────────────────┴────────────────────────┴───────────────┘\n",
       "</pre>\n"
      ],
      "text/plain": [
       "┏━━━━━━━━━━━━━━━━━━━━━━━━━━━━━━━━━┳━━━━━━━━━━━━━━━━━━━━━━━━┳━━━━━━━━━━━━━━━┓\n",
       "┃\u001b[1m \u001b[0m\u001b[1mLayer (type)                   \u001b[0m\u001b[1m \u001b[0m┃\u001b[1m \u001b[0m\u001b[1mOutput Shape          \u001b[0m\u001b[1m \u001b[0m┃\u001b[1m \u001b[0m\u001b[1m      Param #\u001b[0m\u001b[1m \u001b[0m┃\n",
       "┡━━━━━━━━━━━━━━━━━━━━━━━━━━━━━━━━━╇━━━━━━━━━━━━━━━━━━━━━━━━╇━━━━━━━━━━━━━━━┩\n",
       "│ text_vectorization_1            │ (\u001b[38;5;45mNone\u001b[0m, \u001b[38;5;45mNone\u001b[0m)           │             \u001b[38;5;34m0\u001b[0m │\n",
       "│ (\u001b[38;5;33mTextVectorization\u001b[0m)             │                        │               │\n",
       "├─────────────────────────────────┼────────────────────────┼───────────────┤\n",
       "│ embedding (\u001b[38;5;33mEmbedding\u001b[0m)           │ (\u001b[38;5;45mNone\u001b[0m, \u001b[38;5;45mNone\u001b[0m, \u001b[38;5;34m128\u001b[0m)      │       \u001b[38;5;34m128,000\u001b[0m │\n",
       "├─────────────────────────────────┼────────────────────────┼───────────────┤\n",
       "│ bidirectional_lstm_1            │ (\u001b[38;5;45mNone\u001b[0m, \u001b[38;5;45mNone\u001b[0m, \u001b[38;5;34m64\u001b[0m)       │        \u001b[38;5;34m41,216\u001b[0m │\n",
       "│ (\u001b[38;5;33mBidirectional\u001b[0m)                 │                        │               │\n",
       "├─────────────────────────────────┼────────────────────────┼───────────────┤\n",
       "│ dropout_42 (\u001b[38;5;33mDropout\u001b[0m)            │ (\u001b[38;5;45mNone\u001b[0m, \u001b[38;5;45mNone\u001b[0m, \u001b[38;5;34m64\u001b[0m)       │             \u001b[38;5;34m0\u001b[0m │\n",
       "├─────────────────────────────────┼────────────────────────┼───────────────┤\n",
       "│ bidirectional_lstm_2            │ (\u001b[38;5;45mNone\u001b[0m, \u001b[38;5;34m32\u001b[0m)             │        \u001b[38;5;34m10,368\u001b[0m │\n",
       "│ (\u001b[38;5;33mBidirectional\u001b[0m)                 │                        │               │\n",
       "├─────────────────────────────────┼────────────────────────┼───────────────┤\n",
       "│ dropout_43 (\u001b[38;5;33mDropout\u001b[0m)            │ (\u001b[38;5;45mNone\u001b[0m, \u001b[38;5;34m32\u001b[0m)             │             \u001b[38;5;34m0\u001b[0m │\n",
       "├─────────────────────────────────┼────────────────────────┼───────────────┤\n",
       "│ output (\u001b[38;5;33mDense\u001b[0m)                  │ (\u001b[38;5;45mNone\u001b[0m, \u001b[38;5;34m5\u001b[0m)              │           \u001b[38;5;34m165\u001b[0m │\n",
       "└─────────────────────────────────┴────────────────────────┴───────────────┘\n"
      ]
     },
     "metadata": {},
     "output_type": "display_data"
    },
    {
     "data": {
      "text/html": [
       "<pre style=\"white-space:pre;overflow-x:auto;line-height:normal;font-family:Menlo,'DejaVu Sans Mono',consolas,'Courier New',monospace\"><span style=\"font-weight: bold\"> Total params: </span><span style=\"color: #00af00; text-decoration-color: #00af00\">539,249</span> (2.06 MB)\n",
       "</pre>\n"
      ],
      "text/plain": [
       "\u001b[1m Total params: \u001b[0m\u001b[38;5;34m539,249\u001b[0m (2.06 MB)\n"
      ]
     },
     "metadata": {},
     "output_type": "display_data"
    },
    {
     "data": {
      "text/html": [
       "<pre style=\"white-space:pre;overflow-x:auto;line-height:normal;font-family:Menlo,'DejaVu Sans Mono',consolas,'Courier New',monospace\"><span style=\"font-weight: bold\"> Trainable params: </span><span style=\"color: #00af00; text-decoration-color: #00af00\">179,749</span> (702.14 KB)\n",
       "</pre>\n"
      ],
      "text/plain": [
       "\u001b[1m Trainable params: \u001b[0m\u001b[38;5;34m179,749\u001b[0m (702.14 KB)\n"
      ]
     },
     "metadata": {},
     "output_type": "display_data"
    },
    {
     "data": {
      "text/html": [
       "<pre style=\"white-space:pre;overflow-x:auto;line-height:normal;font-family:Menlo,'DejaVu Sans Mono',consolas,'Courier New',monospace\"><span style=\"font-weight: bold\"> Non-trainable params: </span><span style=\"color: #00af00; text-decoration-color: #00af00\">0</span> (0.00 B)\n",
       "</pre>\n"
      ],
      "text/plain": [
       "\u001b[1m Non-trainable params: \u001b[0m\u001b[38;5;34m0\u001b[0m (0.00 B)\n"
      ]
     },
     "metadata": {},
     "output_type": "display_data"
    },
    {
     "data": {
      "text/html": [
       "<pre style=\"white-space:pre;overflow-x:auto;line-height:normal;font-family:Menlo,'DejaVu Sans Mono',consolas,'Courier New',monospace\"><span style=\"font-weight: bold\"> Optimizer params: </span><span style=\"color: #00af00; text-decoration-color: #00af00\">359,500</span> (1.37 MB)\n",
       "</pre>\n"
      ],
      "text/plain": [
       "\u001b[1m Optimizer params: \u001b[0m\u001b[38;5;34m359,500\u001b[0m (1.37 MB)\n"
      ]
     },
     "metadata": {},
     "output_type": "display_data"
    }
   ],
   "source": [
    "# Estructura con parámetros del modelo\n",
    "modelo_lstm.summary()"
   ]
  },
  {
   "cell_type": "markdown",
   "metadata": {},
   "source": [
    "## 4. Evaluación del modelo\n",
    "\n",
    "Una vez completado el entrenamiento, se evalua su rendimiento de forma visual y numérica. Esto permitirá ver si el modelo está aprendiendo y si hay algún posible sobreajuste."
   ]
  },
  {
   "cell_type": "markdown",
   "metadata": {},
   "source": [
    "### 4.1. Predicción"
   ]
  },
  {
   "cell_type": "markdown",
   "metadata": {},
   "source": [
    "Se utiliza el dataset de prueba ```test_dataset``` para hacer las predicciones."
   ]
  },
  {
   "cell_type": "code",
   "execution_count": 144,
   "metadata": {},
   "outputs": [
    {
     "name": "stdout",
     "output_type": "stream",
     "text": [
      "\u001b[1m39/39\u001b[0m \u001b[32m━━━━━━━━━━━━━━━━━━━━\u001b[0m\u001b[37m\u001b[0m \u001b[1m4s\u001b[0m 88ms/step  \n"
     ]
    }
   ],
   "source": [
    "# Realizar predicciones sobre el conjunto de prueba\n",
    "y_pred_probs = modelo_lstm.predict(test_dataset)\n",
    "y_pred = np.argmax(y_pred_probs, axis=1)\n",
    "\n",
    "# Necesitamos obtener las etiquetas verdaderas del dataset de prueba\n",
    "y_true = np.concatenate([y for _, y in test_dataset], axis=0)\n",
    "\n",
    "# Nombres de las clases\n",
    "class_names = ['Intensidad 1', 'Intensidad 2', 'Intensidad 3', 'Intensidad 4', 'Intensidad 5']"
   ]
  },
  {
   "cell_type": "markdown",
   "metadata": {},
   "source": [
    "Se genera un informe de clasifiación con las siguiente métricas:\n",
    "- Precision: proporción de predicciones correctas sobre el total de predicciones realizadas a dicha etiqueta, es decir, (verdaderos positivos)/(verdaderos positivos + falsos positivos).\n",
    "- Recall (sensibilidad): proporción de verdaderos positivos detectados, es decir, (verdaderos positivos)/(verdaderos positivos + falsos negativos).\n",
    "- F1-score: media armónica entre precisión y recall.\n",
    "- Support: cantidad de ejemplos de cada clase"
   ]
  },
  {
   "cell_type": "code",
   "execution_count": 145,
   "metadata": {},
   "outputs": [
    {
     "name": "stdout",
     "output_type": "stream",
     "text": [
      "--- Informe de Clasificación ---\n",
      "              precision    recall  f1-score   support\n",
      "\n",
      "Intensidad 1       0.31      0.53      0.39       277\n",
      "Intensidad 2       0.07      0.28      0.11        25\n",
      "Intensidad 3       0.03      0.16      0.05        32\n",
      "Intensidad 4       0.94      0.70      0.80      2081\n",
      "Intensidad 5       0.09      0.32      0.14        41\n",
      "\n",
      "    accuracy                           0.66      2456\n",
      "   macro avg       0.29      0.40      0.30      2456\n",
      "weighted avg       0.83      0.66      0.73      2456\n",
      "\n"
     ]
    }
   ],
   "source": [
    "# 1. Informe de clasificación\n",
    "print(\"--- Informe de Clasificación ---\")\n",
    "print(classification_report(y_true, y_pred, target_names=class_names))"
   ]
  },
  {
   "cell_type": "markdown",
   "metadata": {},
   "source": [
    "Revisando el informe de clasificación se observa:\n",
    "- Intensidad 1: tiene un recall de 0.53, es decir, el modelo reconoce más de la mitad de los casos reales. Sin embargo, su precisión es baja, 0.31, por lo que se equivoca bastante al predecir esta clase, creando falsas alarmas.\n",
    "- Intensidad 2 y 3: tienen métricas muy bajas, tanto precisión, como recall, como f1-score, lo cual se explica por su bajo support (hay muy pocos ejemplos de estas clases), por ello el modelo no está aprendiendo bien estas clases.\n",
    "- Intensidad 4: viendo su support y comparándolo con el support del resto de clases, es la mejor representada, con 2081 casos, por esto el modelo la detecta con mayor precisión (0.94) y tiene f1-score de 0.80, lo que es muy bueno.\n",
    "- Intensidad 5: tiene muy pocas muestras, 41 y por ello métricas bajas, aunque con un recall algo más aceptable, 0.32, que las clases de intensidad 2 y 3."
   ]
  },
  {
   "cell_type": "code",
   "execution_count": 146,
   "metadata": {},
   "outputs": [
    {
     "name": "stdout",
     "output_type": "stream",
     "text": [
      "\n",
      "--- Matriz de Confusión ---\n"
     ]
    },
    {
     "data": {
      "image/png": "[encoded data removed]",
      "text/plain": [
       "<Figure size 800x600 with 2 Axes>"
      ]
     },
     "metadata": {},
     "output_type": "display_data"
    }
   ],
   "source": [
    "# 2. Matriz de confusión\n",
    "print(\"\\n--- Matriz de Confusión ---\")\n",
    "cm = confusion_matrix(y_true, y_pred)\n",
    "plt.figure(figsize=(8, 6))\n",
    "sns.heatmap(cm, annot=True, fmt='d', cmap='Blues', xticklabels=class_names, yticklabels=class_names)\n",
    "plt.title('Matriz de Confusión')\n",
    "plt.ylabel('Etiqueta Real')\n",
    "plt.xlabel('Etiqueta Predicha')\n",
    "plt.show()"
   ]
  },
  {
   "cell_type": "markdown",
   "metadata": {},
   "source": [
    "La matriz de confusión muestra cómo el modelo clasifica cada una de las clases, comparando las clases reales (filas) con las predichas (columnas). Permite visualizar los aciertos y los errores cometidos por clase. Visualizándola, se pueden extraer las siguientes conclusiones:\n",
    "\n",
    "- La clase mejor clasificada es Intensidad 4, por lo que el modelo es muy bueno identificando esta clase. Aunque esto es porque es la más representada con una gran diferencia respecto al resto.\n",
    "  \n",
    "- En la clase Intensidad 1, se clasificaron correctamente 148 muestras, aunque hubo 59 mal clasificados como Intensidad 4 (porque Intensidad 4 es la más representada), también hubo varios mal clasificados como otras clases. Las clases Intensidad 2, 3 y 5 tienen muy bajo rendimiento, con la mayoría de sus casos siendo confundidos como Intensidad 4 debido al desbalance del conjunto de datos. Además, es curioso que en cada una de ellas la clase con más casos predichos nunca es la propia.\n",
    "\n",
    "Como conclusión, el modelo tiende a predecir la clase Intensidad 4 incluso cuando no corresponde, por el desbalanceo, lo que causa un sesgo hacia dicha clase. Por ello, el modelo aprende bien la clase dominante, pero no logra generalizar correctamente hacia las clases con menos ejemplos."
   ]
  },
  {
   "cell_type": "markdown",
   "metadata": {},
   "source": [
    "### 4.2. Comparativa gráfica"
   ]
  },
  {
   "cell_type": "code",
   "execution_count": 147,
   "metadata": {},
   "outputs": [
    {
     "data": {
      "image/png": "[encoded data removed]",
      "text/plain": [
       "<Figure size 1500x500 with 2 Axes>"
      ]
     },
     "metadata": {},
     "output_type": "display_data"
    }
   ],
   "source": [
    "# Gráfica de la historia del entrenamiento\n",
    "\n",
    "def plot_history(history):\n",
    "    _, (ax1, ax2) = plt.subplots(1, 2, figsize=(15, 5))\n",
    "    \n",
    "    # Graficar la pérdida\n",
    "    ax1.plot(history.history['loss'], label='Pérdida de Entrenamiento')\n",
    "    ax1.plot(history.history['val_loss'], label='Pérdida de Validación')\n",
    "    ax1.set_title('Pérdida del Modelo')\n",
    "    ax1.set_xlabel('Épocas')\n",
    "    ax1.set_ylabel('Pérdida')\n",
    "    ax1.legend()\n",
    "    \n",
    "    # Graficar la precisión\n",
    "    ax2.plot(history.history['accuracy'], label='Precisión de Entrenamiento')\n",
    "    ax2.plot(history.history['val_accuracy'], label='Precisión de Validación')\n",
    "    ax2.set_title('Precisión del Modelo')\n",
    "    ax2.set_xlabel('Épocas')\n",
    "    ax2.set_ylabel('Precisión')\n",
    "    ax2.legend()\n",
    "    \n",
    "    plt.show()\n",
    "\n",
    "plot_history(history)"
   ]
  },
  {
   "cell_type": "markdown",
   "metadata": {},
   "source": [
    "Las siguientes gráficas muestran la evolución de la pérdida y la precisión del modelo a lo largo de las épocas, tanto en el conjunto de entrenamiento como en el de validación. En ellas se puede ver:\n",
    "\n",
    "Gráfica 1: Pérdida del Modelo\n",
    "- La pérdida de entrenamiento muestra una disminución constante, lo que indica que el modelo está aprendiendo y ajustando sus pesos correctamente.\n",
    "- La pérdida de validación también disminuye en las primeras épocas, pero presenta fluctuaciones a partir de la época 4, lo cual es un signo de sobreajuste, ya que incluso aumenta en las épocas 4, 9, 11, 13, 15, el aumento no es drástico pero provoca que no disminuya con el paso de las épocas.\n",
    "\n",
    "Gráfica 2: Precisión del Modelo\n",
    "- La precisión de entrenamiento aumenta de forma progresiva, alcanzando valores cercanos al 0.70.\n",
    "- La precisión de validación es más irregular, pero sigue una tendencia creciente , estabilizándose alrededor del 0.65.\n",
    "- La diferencia entre ambas curvas al final del entrenamiento indica un leve sobreajuste, aunque el uso de ```EarlyStopping``` ayuda a controlarlo.\n",
    "\n",
    "Como conclusión:\n",
    "- El modelo en entrenamiento mejora tanto en pérdida como en precisión, pero en el momento de validar, la trayectoria no es la misma, ni los valores que se alcanzan lo que significa que se está produciendo overfitting con el paso de las épocas. Por ello se hizo uso de ```EarlyStopping``` y se paró en la época 9."
   ]
  },
  {
   "cell_type": "code",
   "execution_count": 148,
   "metadata": {},
   "outputs": [
    {
     "data": {
      "image/png": "[encoded data removed]",
      "text/plain": [
       "<Figure size 1000x800 with 1 Axes>"
      ]
     },
     "metadata": {},
     "output_type": "display_data"
    }
   ],
   "source": [
    "# Gráfica de la curva ROC para el modelo multiclase\n",
    "\n",
    "def plot_roc_curve_multiclass(y_true, y_pred_probs, class_names):\n",
    "    # Binarizar etiquetas verdaderas\n",
    "    y_true_bin = label_binarize(y_true, classes=range(len(class_names)))\n",
    "    n_classes = y_true_bin.shape[1]\n",
    "\n",
    "    # Almacenar tasas y AUC\n",
    "    fpr = dict()\n",
    "    tpr = dict()\n",
    "    roc_auc = dict()\n",
    "\n",
    "    # Calcular curva ROC y AUC para cada clase\n",
    "    for i in range(n_classes):\n",
    "        fpr[i], tpr[i], _ = roc_curve(y_true_bin[:, i], y_pred_probs[:, i])\n",
    "        roc_auc[i] = auc(fpr[i], tpr[i])\n",
    "\n",
    "    # Colores de cada curva\n",
    "    colors = cycle(['aqua', 'darkorange', 'cornflowerblue', 'green', 'red'])\n",
    "\n",
    "    plt.figure(figsize=(10, 8))\n",
    "\n",
    "    for i, color in zip(range(n_classes), colors):\n",
    "        plt.plot(fpr[i], tpr[i], color=color, lw=2, label=f'Curva ROC para {class_names[i]} (AUC = {roc_auc[i]:.2f})')\n",
    "\n",
    "    plt.plot([0, 1], [0, 1], 'k--', lw=2, label='Clasificador aleatorio')\n",
    "    plt.xlim([0.0, 1.0])\n",
    "    plt.ylim([0.0, 1.05])\n",
    "    plt.xlabel('Tasa de Falsos Positivos (FPR)')\n",
    "    plt.ylabel('Tasa de Verdaderos Positivos (TPR)')\n",
    "    plt.title('Curva ROC Multiclase')\n",
    "    plt.legend(loc=\"lower right\")\n",
    "    plt.grid(True)\n",
    "    plt.show()\n",
    "\n",
    "plot_roc_curve_multiclass(y_true, y_pred_probs, class_names)"
   ]
  },
  {
   "cell_type": "markdown",
   "metadata": {},
   "source": [
    "La curva ROC permite evaluar el rendimiento del modelo clasificando cada clase frente a las demás. En el contexto multiclase, se genera una curva ROC para cada clase individualmente. En el eje X se representa la tasa de falsos positivos (FPR) y en el eje Y la tasa de verdaderos positivos (TPR), cuanto más arriba y a la izquierda se encuentre una curva, mejor rendimiento tiene el modelo en esa clase. La línea negra discontinua representa un clasificador aleatorio (AUC = 0.5). Toda curva por encima de esta indica que el modelo está aprendiendo. AUC es el área deabajo de la curva ROC.\n",
    "\n",
    "Revisando los resultados por cada clase:\n",
    "\n",
    "- Intensidad 1: obtiene un AUC de 0.78, no es mal rendimiento, el modelo distingue razonablemente bien esta clase.\n",
    "- Intensidad 2: obtiene un AUC de 0.82, a pesar del bajo recall observado antes, el AUC indica que el modelo sí aprende a discriminar esta clase.\n",
    "- Intensidad 3: obtiene un AUC de 0.63, es bajo, coherente con los resultados débiles del informe de clasificación.\n",
    "- Intensidad 4: obtiene un AUC de 0.79, alta capacidad para distinguir esta clase, lo que confirma su dominio en las predicciones.\n",
    "- Intensidad 5: obtiene un AUC de 0.75, es aceptable; aunque su F1-score fue bajo, el modelo sí reconoce ciertos patrones de esta clase.\n",
    "\n",
    "Como conclusión:\n",
    "\n",
    "- Las curvas ROC muestran que el modelo tiene capacidad de discriminación para todas las clases, especialmente para la 2, 1 y 4.\n",
    "- Aunque algunas clases tienen bajo rendimiento general (por ejemplo, Intensidad 3), el valor AUC sugiere que con mejores umbrales o mayor representación de datos, el modelo podría mejorar significativamente.\n"
   ]
  },
  {
   "cell_type": "markdown",
   "metadata": {},
   "source": [
    "## 5. Conclusiones"
   ]
  },
  {
   "cell_type": "markdown",
   "metadata": {},
   "source": [
    "En base a los resultados obtenidos, se concluye que la implementación de una RNN con LSTM bidireccional, junto con el uso de `class_weight` durante el entrenamiento, fue adecuada para enfrentar el marcado desbalance de clases en el conjunto de datos. \n",
    "\n",
    "Aún así, la falta de ejemplos en algunas categorías limitó el rendimiento global. Por ejemplo, la intensidad 2 cuenta únicamente con 25 muestras y la intensidad 3 con 32. Con tan pocos ejemplos, ningún modelo por complejo que sea, puede aprender a reconocer patrones representativos. El recall del 0.16 en la intensidad 3 evidencia que el modelo casi nunca identifica correctamente esos pocos casos. Aunque el ajuste de pesos durante el entrenamiento obliga al modelo a esforzarse más en las clases minoritarias, no puede generar información que no existe. Esto suele derivar en un aumento del recall a costa de una precisión extremadamente baja, tal como sucede en la intensidad 5 (acierta el 32% de las veces que debería, pero solo el 9% de las predicciones de esta clase son correctas). En este sentido, aunque la ponderación de clases mejora la sensibilidad hacia las categorías menos frecuentes, no basta para compensar completamente la falta de datos.\n",
    "\n",
    "Por otra parte, este modelo LSTM profundo está aprendiendo el lenguaje español desde cero con apenas 12.000 mensajes de entrenamiento. No posee ningún conocimiento previo de gramática, semántica o contexto cultural, todos ellos elementos críticos para capturar matices de lenguaje de odio. En consecuencia, el modelo muestra un desempeño razonable al diferenciar la clase mayoritaria (4) y la clase 1, donde existe una representación suficiente de datos, pero resulta prácticamente incapaz de distinguir las clases 2, 3 y 5 con fiabilidad.\n",
    "\n",
    "En términos de efectividad, este modelo supera con creces una línea base ingenua (que predijera siempre la clase mayoritaria), demostrando que es capaz de diferenciar de manera fiable los mensajes con intensidad 1 y 4. Sin embargo, la identificación de intensidades 2, 3 y 5 sigue siendo limitada y requeriría posibles líneas de trabajo futuras como: la incorporación de técnicas de aumento de datos para texto para tener un mayor número de ejemplos, el uso de modelos preentrenados Transformer con conocimiento previo del idioma, o experimentar con diferentes hiperparámetros."
   ]
  },
  {
   "cell_type": "markdown",
   "metadata": {},
   "source": [
    "Como conclusiones finales podemos destacar las siguiente:\n",
    "\n",
    "- El modelo demuestra una capacidad real de discriminación para todas las clases, especialmente en las intensiades 1, 2 y 4, con valores de AUC cercanos o superiores a 0.78\n",
    "\n",
    "- Para clases con rendimiento general más bajo (como la Intensidad 3), el AUC de 0.63 sugiere que el modelo aún capta cierta estructura, aunque insuficiente para lograr una buena clasificación con el umbral actual.\n",
    "\n",
    "- En conjunto, los valores de AUC revelan que el modelo no es aleatorio y tiene potencial para mejorar. Una estrategia futura sería ajustar los umbrales de decisión por clase o **balancear el conjunto de datos**, especialmente en clases con menor representación, lo que podría traducirse en mejoras significativas en precisión y recall."
   ]
  }
 ],
 "metadata": {
  "colab": {
   "provenance": []
  },
  "kernelspec": {
   "display_name": "Python 3 (ipykernel)",
   "language": "python",
   "name": "python3"
  },
  "language_info": {
   "codemirror_mode": {
    "name": "ipython",
    "version": 3
   },
   "file_extension": ".py",
   "mimetype": "text/x-python",
   "name": "python",
   "nbconvert_exporter": "python",
   "pygments_lexer": "ipython3",
   "version": "3.12.9"
  }
 },
 "nbformat": 4,
 "nbformat_minor": 4
}
